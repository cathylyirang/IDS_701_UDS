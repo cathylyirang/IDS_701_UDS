{
 "cells": [
  {
   "cell_type": "markdown",
   "metadata": {},
   "source": [
    "# Predicting Mortgage Delinquency Risk\n",
    "\n",
    "You have been hired by a mortgage servicing firm (a company that buys mortgages and then collects mortgage payments from homeowners) to build a model to answer the question: \n",
    "\n",
    "**Given all available information about a newly issued mortgage, what is the likelihood that the mortgage will enter delinquency (the homeowner will be at least 30 days late on a mortgage payment) during the first two years of the mortgage?**\n",
    "\n",
    "The servicer's hope, obviously, is to differentiate between mortgages to try and purchase (those that will be consistently paid) and mortgages they wish to avoid.\n",
    "\n",
    "For this task, you have been given [REAL data on a sample of all US Standard single family home mortgages purchased or insured by Freddie Mac](https://www.freddiemac.com/research/datasets/sf-loanlevel-dataset) in a single calendar year along with payment data from that and two subsequent years.\n",
    "\n",
    "## WARNING\n",
    "\n",
    "**This assignment is substantially longer than the exercises you may be accustomed to if you were in IDS 720. Please start early!**"
   ]
  },
  {
   "cell_type": "markdown",
   "metadata": {},
   "source": [
    "\n",
    "## Gradescope Autograding\n",
    "\n",
    "Please follow [all standard guidance](https://www.practicaldatascience.org/ids720_specific/autograder_guidelines.html) for submitting this assignment to the Gradescope autograder, including storing your solutions in a dictionary called `results` and ensuring your notebook runs from the start to completion without any errors.\n",
    "\n",
    "For this assignment, please name your file `exercise_passive_prediction.ipynb` before uploading.\n",
    "\n",
    "You can check that you have answers for all questions in your `results` dictionary with this code:\n",
    "\n",
    "```python\n",
    "assert set(results.keys()) == {\n",
    "    \"ex2_merge_type\",\n",
    "    \"ex5_num_mortgages\",\n",
    "    \"ex5_share_delinquent\",\n",
    "    \"ex7_num_obs\",\n",
    "    \"ex11_predicted_delinquent\",\n",
    "    \"ex11_share_delinquent_weighted\",\n",
    "    \"ex13_optimal_threshold\",\n",
    "    \"ex14_normalized_value\",\n",
    "    \"ex15_num_obs\",\n",
    "    \"ex15_share_delinquent\",\n",
    "    \"ex16_final_return_pct\",\n",
    "    \"ex16_normalized_value_2007\",\n",
    "}\n",
    "```\n",
    "\n",
    "\n",
    "### Submission Limits\n",
    "\n",
    "Please remember that you are **only allowed THREE submissions to the autograder.** Your last submission (if you submit 3 or fewer times), or your third submission (if you submit more than 3 times) will determine your grade Submissions that error out will **not** count against this total.\n"
   ]
  },
  {
   "cell_type": "markdown",
   "metadata": {},
   "source": [
    "### Good Notebook Practices\n",
    "\n",
    "Please also review and follow all [Good Jupyter Notebook Practices](https://www.practicaldatascience.org/notebooks/PDS_not_yet_in_coursera/20_programming_concepts/writing_good_jupyter_notebooks.html) guidelines. They ARE grade relevant."
   ]
  },
  {
   "cell_type": "markdown",
   "metadata": {},
   "source": [
    "## Data Cleaning and Organization\n",
    "\n",
    "Data for this exercise can be [found here](https://github.com/nickeubank/MIDS_Data/tree/master/mortgages/2004). This folder includes both the data to be used and documentation, though you can find [supplemental documentation here](https://www.freddiemac.com/research/datasets/sf-loanlevel-dataset).\n",
    "\n",
    "The only modifications I've made to this data are:\n",
    "\n",
    "- Subset to mortgages taken out for purchase of a property,\n",
    "- With first payments due in the quarter of origination or the first quarter after origination (the vast majority of loans have first payments due the month after origination, so this just gets rid of some very weird mortgages).\n",
    "- I have also excluded mortgages for which origination data is available but servicing data is not available in the two years following the year of origination.\n",
    "- I also subset the data on servicing to the first 24 months after the mortgages first payment is due, so for each mortgage you will only have data on what happened in the first 24 months of its life.\n",
    "\n",
    "However, post-subsetting I have done my best to convert the data back to the original format to make your experience working with the data as authentic as possible."
   ]
  },
  {
   "cell_type": "code",
   "execution_count": 10,
   "metadata": {},
   "outputs": [],
   "source": [
    "# import all packages\n",
    "\n",
    "import warnings\n",
    "import pandas as pd\n",
    "import numpy as np\n",
    "from patsy import dmatrices\n",
    "from sklearn.model_selection import train_test_split\n",
    "from sklearn.ensemble import GradientBoostingClassifier #pip install scikit-learn\n",
    "from sklearn.metrics import roc_auc_score\n",
    "from sklearn.metrics import confusion_matrix\n",
    "import matplotlib.pyplot as plt\n",
    "\n",
    "\n",
    "warnings.simplefilter(action=\"ignore\", category=FutureWarning)\n",
    "pd.set_option(\"mode.copy_on_write\", True)\n",
    "\n",
    "results = {}"
   ]
  },
  {
   "cell_type": "markdown",
   "metadata": {},
   "source": [
    "### Exercise 1\n",
    "\n",
    "Begin by loading both: \n",
    "\n",
    "- the mortgage origination file (`sample_orig_2004_standard_mortgages.txt.zip`). This *should* contain information on all mortgages issued in 2004, along with non-time varying features of these mortgages (the initial amount, the credit score of the applicant, etc.), and \n",
    "- the servicing data (`sample_svcg_2004_threeyears_standard_mortgages.txt.zip`). This contains monthly records of all recorded payments (or non-payments) for all mortgages issued in 2004 during the calendar years of 2004, 2005, and 2006. As noted above, this has also been subset to only include the first 24 months after the first payment was due (though Freddie Mac has some data cleanliness issues, so sometimes there will be less than 24 records covering that first 24 months).\n",
    "\n",
    "So the autograder can see the data, be sure to load it directly from a URL (don't download and load from your own system).\n",
    "\n",
    "Because this is **real** data, it has some issues (even beyond what I've cleaned above). While I generally love to leave students to work through this stuff, this is a long exercise, so here are a couple tips:\n",
    "\n",
    "- The data is zip compressed. When you gives pandas a zip file that has only one thing in the zip archive, it will *usually* infer what's going on and decompress it without help. However, if the file name or URL you pass to pandas does not end in `.zip`, this automatic inference will fail and you will need to use the `compression` keyword to explicitly tell pandas the file is zip compressed.\n",
    "- When you load the data, you will see it does not have column names. You will likely need to reference the documentation to figure out appropriate column names.\n",
    "  - pandas will automatically treat the first row of a dataset as column names, not data. When working with a dataset that lacks column names, not only do you have to set the column names (so you know the meaning of each column), you also have to make sure pandas doesn't treat the first row as labels and not data (effectively dropping it)."
   ]
  },
  {
   "cell_type": "code",
   "execution_count": 11,
   "metadata": {},
   "outputs": [
    {
     "name": "stdout",
     "output_type": "stream",
     "text": [
      "(17471, 32)\n"
     ]
    },
    {
     "data": {
      "application/vnd.microsoft.datawrangler.viewer.v0+json": {
       "columns": [
        {
         "name": "index",
         "rawType": "int64",
         "type": "integer"
        },
        {
         "name": "Credit Score",
         "rawType": "int64",
         "type": "integer"
        },
        {
         "name": "First Payment Date",
         "rawType": "int64",
         "type": "integer"
        },
        {
         "name": "First Time Homebuyer Flag",
         "rawType": "object",
         "type": "string"
        },
        {
         "name": "Maturity Date",
         "rawType": "int64",
         "type": "integer"
        },
        {
         "name": "Metropolitan Statistical Area (MSA) Or Metropolitan Division",
         "rawType": "float64",
         "type": "float"
        },
        {
         "name": "Mortgage Insurance Percentage (MI %)",
         "rawType": "int64",
         "type": "integer"
        },
        {
         "name": "Number of Units",
         "rawType": "int64",
         "type": "integer"
        },
        {
         "name": "Occupancy Status",
         "rawType": "object",
         "type": "string"
        },
        {
         "name": "Original Combined Loan-to-Value (CLTV)",
         "rawType": "int64",
         "type": "integer"
        },
        {
         "name": "Original Debt-to-Income (DTI) Ratio",
         "rawType": "int64",
         "type": "integer"
        },
        {
         "name": "Original UPB",
         "rawType": "int64",
         "type": "integer"
        },
        {
         "name": "Original Loan-to-Value (LTV)",
         "rawType": "int64",
         "type": "integer"
        },
        {
         "name": "Original Interest Rate",
         "rawType": "float64",
         "type": "float"
        },
        {
         "name": "Channel",
         "rawType": "object",
         "type": "string"
        },
        {
         "name": "Prepayment Penalty Mortgage (PPM) Flag",
         "rawType": "object",
         "type": "string"
        },
        {
         "name": "Amortization Type (Formerly Product Type)",
         "rawType": "object",
         "type": "string"
        },
        {
         "name": "Property State",
         "rawType": "object",
         "type": "string"
        },
        {
         "name": "Property Type",
         "rawType": "object",
         "type": "string"
        },
        {
         "name": "Postal Code",
         "rawType": "int64",
         "type": "integer"
        },
        {
         "name": "Loan Sequence Number",
         "rawType": "object",
         "type": "string"
        },
        {
         "name": "Loan Purpose",
         "rawType": "object",
         "type": "string"
        },
        {
         "name": "Original Loan Term",
         "rawType": "int64",
         "type": "integer"
        },
        {
         "name": "Number of Borrowers",
         "rawType": "int64",
         "type": "integer"
        },
        {
         "name": "Seller Name",
         "rawType": "object",
         "type": "string"
        },
        {
         "name": "Servicer Name",
         "rawType": "object",
         "type": "string"
        },
        {
         "name": "Super Conforming Flag",
         "rawType": "float64",
         "type": "float"
        },
        {
         "name": "Pre-HARP Loan Sequence Number",
         "rawType": "float64",
         "type": "float"
        },
        {
         "name": "Program Indicator",
         "rawType": "int64",
         "type": "integer"
        },
        {
         "name": "HARP Indicator",
         "rawType": "float64",
         "type": "float"
        },
        {
         "name": "Property Valuation Method",
         "rawType": "int64",
         "type": "integer"
        },
        {
         "name": "Interest Only (I/O) Indicator",
         "rawType": "object",
         "type": "string"
        },
        {
         "name": "Mortgage Insurance Cancellation Indicator",
         "rawType": "int64",
         "type": "integer"
        }
       ],
       "conversionMethod": "pd.DataFrame",
       "ref": "0013c47f-23a4-4f83-9e60-2739c8bb27ed",
       "rows": [
        [
         "0",
         "653",
         "200403",
         "Y",
         "203402",
         "20740.0",
         "17",
         "1",
         "P",
         "87",
         "25",
         "127000",
         "87",
         "6.05",
         "R",
         "N",
         "FRM",
         "WI",
         "SF",
         "54700",
         "F04Q10000054",
         "P",
         "360",
         "2",
         "Other sellers",
         "Other servicers",
         null,
         null,
         "9",
         null,
         "9",
         "N",
         "9"
        ],
        [
         "1",
         "747",
         "200403",
         "N",
         "203402",
         "30700.0",
         "0",
         "2",
         "I",
         "70",
         "34",
         "121000",
         "70",
         "6.125",
         "R",
         "N",
         "FRM",
         "NE",
         "PU",
         "68500",
         "F04Q10000200",
         "P",
         "360",
         "1",
         "Other sellers",
         "Other servicers",
         null,
         null,
         "9",
         null,
         "9",
         "N",
         "9"
        ]
       ],
       "shape": {
        "columns": 32,
        "rows": 2
       }
      },
      "text/html": [
       "<div>\n",
       "<style scoped>\n",
       "    .dataframe tbody tr th:only-of-type {\n",
       "        vertical-align: middle;\n",
       "    }\n",
       "\n",
       "    .dataframe tbody tr th {\n",
       "        vertical-align: top;\n",
       "    }\n",
       "\n",
       "    .dataframe thead th {\n",
       "        text-align: right;\n",
       "    }\n",
       "</style>\n",
       "<table border=\"1\" class=\"dataframe\">\n",
       "  <thead>\n",
       "    <tr style=\"text-align: right;\">\n",
       "      <th></th>\n",
       "      <th>Credit Score</th>\n",
       "      <th>First Payment Date</th>\n",
       "      <th>First Time Homebuyer Flag</th>\n",
       "      <th>Maturity Date</th>\n",
       "      <th>Metropolitan Statistical Area (MSA) Or Metropolitan Division</th>\n",
       "      <th>Mortgage Insurance Percentage (MI %)</th>\n",
       "      <th>Number of Units</th>\n",
       "      <th>Occupancy Status</th>\n",
       "      <th>Original Combined Loan-to-Value (CLTV)</th>\n",
       "      <th>Original Debt-to-Income (DTI) Ratio</th>\n",
       "      <th>...</th>\n",
       "      <th>Number of Borrowers</th>\n",
       "      <th>Seller Name</th>\n",
       "      <th>Servicer Name</th>\n",
       "      <th>Super Conforming Flag</th>\n",
       "      <th>Pre-HARP Loan Sequence Number</th>\n",
       "      <th>Program Indicator</th>\n",
       "      <th>HARP Indicator</th>\n",
       "      <th>Property Valuation Method</th>\n",
       "      <th>Interest Only (I/O) Indicator</th>\n",
       "      <th>Mortgage Insurance Cancellation Indicator</th>\n",
       "    </tr>\n",
       "  </thead>\n",
       "  <tbody>\n",
       "    <tr>\n",
       "      <th>0</th>\n",
       "      <td>653</td>\n",
       "      <td>200403</td>\n",
       "      <td>Y</td>\n",
       "      <td>203402</td>\n",
       "      <td>20740.0</td>\n",
       "      <td>17</td>\n",
       "      <td>1</td>\n",
       "      <td>P</td>\n",
       "      <td>87</td>\n",
       "      <td>25</td>\n",
       "      <td>...</td>\n",
       "      <td>2</td>\n",
       "      <td>Other sellers</td>\n",
       "      <td>Other servicers</td>\n",
       "      <td>NaN</td>\n",
       "      <td>NaN</td>\n",
       "      <td>9</td>\n",
       "      <td>NaN</td>\n",
       "      <td>9</td>\n",
       "      <td>N</td>\n",
       "      <td>9</td>\n",
       "    </tr>\n",
       "    <tr>\n",
       "      <th>1</th>\n",
       "      <td>747</td>\n",
       "      <td>200403</td>\n",
       "      <td>N</td>\n",
       "      <td>203402</td>\n",
       "      <td>30700.0</td>\n",
       "      <td>0</td>\n",
       "      <td>2</td>\n",
       "      <td>I</td>\n",
       "      <td>70</td>\n",
       "      <td>34</td>\n",
       "      <td>...</td>\n",
       "      <td>1</td>\n",
       "      <td>Other sellers</td>\n",
       "      <td>Other servicers</td>\n",
       "      <td>NaN</td>\n",
       "      <td>NaN</td>\n",
       "      <td>9</td>\n",
       "      <td>NaN</td>\n",
       "      <td>9</td>\n",
       "      <td>N</td>\n",
       "      <td>9</td>\n",
       "    </tr>\n",
       "  </tbody>\n",
       "</table>\n",
       "<p>2 rows × 32 columns</p>\n",
       "</div>"
      ],
      "text/plain": [
       "   Credit Score  First Payment Date First Time Homebuyer Flag  Maturity Date  \\\n",
       "0           653              200403                         Y         203402   \n",
       "1           747              200403                         N         203402   \n",
       "\n",
       "   Metropolitan Statistical Area (MSA) Or Metropolitan Division  \\\n",
       "0                                            20740.0              \n",
       "1                                            30700.0              \n",
       "\n",
       "   Mortgage Insurance Percentage (MI %)  Number of Units Occupancy Status  \\\n",
       "0                                    17                1                P   \n",
       "1                                     0                2                I   \n",
       "\n",
       "   Original Combined Loan-to-Value (CLTV)  \\\n",
       "0                                      87   \n",
       "1                                      70   \n",
       "\n",
       "   Original Debt-to-Income (DTI) Ratio  ...  Number of Borrowers  \\\n",
       "0                                   25  ...                    2   \n",
       "1                                   34  ...                    1   \n",
       "\n",
       "     Seller Name    Servicer Name Super Conforming Flag  \\\n",
       "0  Other sellers  Other servicers                   NaN   \n",
       "1  Other sellers  Other servicers                   NaN   \n",
       "\n",
       "  Pre-HARP Loan Sequence Number Program Indicator HARP Indicator  \\\n",
       "0                           NaN                 9            NaN   \n",
       "1                           NaN                 9            NaN   \n",
       "\n",
       "  Property Valuation Method  Interest Only (I/O) Indicator  \\\n",
       "0                         9                              N   \n",
       "1                         9                              N   \n",
       "\n",
       "  Mortgage Insurance Cancellation Indicator  \n",
       "0                                         9  \n",
       "1                                         9  \n",
       "\n",
       "[2 rows x 32 columns]"
      ]
     },
     "execution_count": 11,
     "metadata": {},
     "output_type": "execute_result"
    }
   ],
   "source": [
    "col_mort_2004 = [\n",
    "    \"Credit Score\",\n",
    "    \"First Payment Date\",\n",
    "    \"First Time Homebuyer Flag\",\n",
    "    \"Maturity Date\",\n",
    "    \"Metropolitan Statistical Area (MSA) Or Metropolitan Division\",\n",
    "    \"Mortgage Insurance Percentage (MI %)\",\n",
    "    \"Number of Units\",\n",
    "    \"Occupancy Status\",\n",
    "    \"Original Combined Loan-to-Value (CLTV)\",\n",
    "    \"Original Debt-to-Income (DTI) Ratio\",\n",
    "    \"Original UPB\",\n",
    "    \"Original Loan-to-Value (LTV)\",\n",
    "    \"Original Interest Rate\",\n",
    "    \"Channel\",\n",
    "    \"Prepayment Penalty Mortgage (PPM) Flag\",\n",
    "    \"Amortization Type (Formerly Product Type)\",\n",
    "    \"Property State\",\n",
    "    \"Property Type\",\n",
    "    \"Postal Code\",\n",
    "    \"Loan Sequence Number\",\n",
    "    \"Loan Purpose\",\n",
    "    \"Original Loan Term\",\n",
    "    \"Number of Borrowers\",\n",
    "    \"Seller Name\",\n",
    "    \"Servicer Name\",\n",
    "    \"Super Conforming Flag\",\n",
    "    \"Pre-HARP Loan Sequence Number\",\n",
    "    \"Program Indicator\",\n",
    "    \"HARP Indicator\",\n",
    "    \"Property Valuation Method\",\n",
    "    \"Interest Only (I/O) Indicator\",\n",
    "    \"Mortgage Insurance Cancellation Indicator\",\n",
    "]\n",
    "\n",
    "\n",
    "db_mort_2004 = pd.read_csv(\n",
    "    \"https://github.com/nickeubank/MIDS_Data/raw/refs/heads/master/mortgages/2004/sample_orig_2004_standard_mortgages.txt.zip\",\n",
    "    compression=\"zip\",\n",
    "    sep=\"|\",\n",
    "    header=None,\n",
    "    names=col_mort_2004,\n",
    "    index_col=None,\n",
    ")\n",
    "print(db_mort_2004.shape)\n",
    "db_mort_2004.head(2)"
   ]
  },
  {
   "cell_type": "code",
   "execution_count": 12,
   "metadata": {},
   "outputs": [
    {
     "name": "stdout",
     "output_type": "stream",
     "text": [
      "(379461, 32)\n"
     ]
    },
    {
     "data": {
      "application/vnd.microsoft.datawrangler.viewer.v0+json": {
       "columns": [
        {
         "name": "index",
         "rawType": "int64",
         "type": "integer"
        },
        {
         "name": "Loan Sequence Number",
         "rawType": "object",
         "type": "string"
        },
        {
         "name": "Monthly Reporting Period",
         "rawType": "int64",
         "type": "integer"
        },
        {
         "name": "Current Actual UPB",
         "rawType": "float64",
         "type": "float"
        },
        {
         "name": "Current Loan Delinquency Status",
         "rawType": "object",
         "type": "string"
        },
        {
         "name": "Loan Age",
         "rawType": "int64",
         "type": "integer"
        },
        {
         "name": "Remaining Months to Legal Maturity",
         "rawType": "int64",
         "type": "integer"
        },
        {
         "name": "Defect Settlement Date",
         "rawType": "float64",
         "type": "float"
        },
        {
         "name": "Modification Flag",
         "rawType": "object",
         "type": "unknown"
        },
        {
         "name": "Zero Balance Code",
         "rawType": "float64",
         "type": "float"
        },
        {
         "name": "Zero Balance Effective Date",
         "rawType": "float64",
         "type": "float"
        },
        {
         "name": "Current Interest Rate",
         "rawType": "float64",
         "type": "float"
        },
        {
         "name": "Current Deferred UPB",
         "rawType": "float64",
         "type": "float"
        },
        {
         "name": "Due Date of Last Paid Installment (DDLPI)",
         "rawType": "float64",
         "type": "float"
        },
        {
         "name": "MI Recoveries",
         "rawType": "float64",
         "type": "float"
        },
        {
         "name": "Net Sales Proceeds",
         "rawType": "float64",
         "type": "float"
        },
        {
         "name": "Non MI Recoveries",
         "rawType": "float64",
         "type": "float"
        },
        {
         "name": "Expenses",
         "rawType": "float64",
         "type": "float"
        },
        {
         "name": "Legal Costs",
         "rawType": "float64",
         "type": "float"
        },
        {
         "name": "Maintenance and Preservation Costs",
         "rawType": "float64",
         "type": "float"
        },
        {
         "name": "Taxes and Insurance",
         "rawType": "float64",
         "type": "float"
        },
        {
         "name": "Miscellaneous Expenses",
         "rawType": "float64",
         "type": "float"
        },
        {
         "name": "Actual Loss Calculation",
         "rawType": "float64",
         "type": "float"
        },
        {
         "name": "Modification Cost",
         "rawType": "float64",
         "type": "float"
        },
        {
         "name": "Step Modification Flag",
         "rawType": "object",
         "type": "unknown"
        },
        {
         "name": "Deferred Payment Plan",
         "rawType": "float64",
         "type": "float"
        },
        {
         "name": "Estimated Loan-to-Value (ELTV)",
         "rawType": "float64",
         "type": "float"
        },
        {
         "name": "Zero Balance Removal UPB",
         "rawType": "float64",
         "type": "float"
        },
        {
         "name": "Delinquent Accrued Interest",
         "rawType": "float64",
         "type": "float"
        },
        {
         "name": "Delinquency Due to Disaster",
         "rawType": "float64",
         "type": "float"
        },
        {
         "name": "Borrower Assistance Status Code",
         "rawType": "float64",
         "type": "float"
        },
        {
         "name": "Current Month Modification Cost",
         "rawType": "float64",
         "type": "float"
        },
        {
         "name": "Interest Bearing UPB",
         "rawType": "float64",
         "type": "float"
        }
       ],
       "conversionMethod": "pd.DataFrame",
       "ref": "2c2b4b8f-4f72-4952-b37c-3bcf65dff762",
       "rows": [
        [
         "0",
         "F04Q10000054",
         "200403",
         "126000.0",
         "0",
         "1",
         "359",
         null,
         null,
         null,
         null,
         "6.05",
         "0.0",
         null,
         null,
         null,
         null,
         null,
         null,
         null,
         null,
         null,
         null,
         null,
         null,
         null,
         null,
         null,
         null,
         null,
         null,
         null,
         "126000.0"
        ],
        [
         "1",
         "F04Q10000054",
         "200404",
         "126000.0",
         "0",
         "2",
         "358",
         null,
         null,
         null,
         null,
         "6.05",
         "0.0",
         null,
         null,
         null,
         null,
         null,
         null,
         null,
         null,
         null,
         null,
         null,
         null,
         null,
         null,
         null,
         null,
         null,
         null,
         null,
         "126000.0"
        ]
       ],
       "shape": {
        "columns": 32,
        "rows": 2
       }
      },
      "text/html": [
       "<div>\n",
       "<style scoped>\n",
       "    .dataframe tbody tr th:only-of-type {\n",
       "        vertical-align: middle;\n",
       "    }\n",
       "\n",
       "    .dataframe tbody tr th {\n",
       "        vertical-align: top;\n",
       "    }\n",
       "\n",
       "    .dataframe thead th {\n",
       "        text-align: right;\n",
       "    }\n",
       "</style>\n",
       "<table border=\"1\" class=\"dataframe\">\n",
       "  <thead>\n",
       "    <tr style=\"text-align: right;\">\n",
       "      <th></th>\n",
       "      <th>Loan Sequence Number</th>\n",
       "      <th>Monthly Reporting Period</th>\n",
       "      <th>Current Actual UPB</th>\n",
       "      <th>Current Loan Delinquency Status</th>\n",
       "      <th>Loan Age</th>\n",
       "      <th>Remaining Months to Legal Maturity</th>\n",
       "      <th>Defect Settlement Date</th>\n",
       "      <th>Modification Flag</th>\n",
       "      <th>Zero Balance Code</th>\n",
       "      <th>Zero Balance Effective Date</th>\n",
       "      <th>...</th>\n",
       "      <th>Modification Cost</th>\n",
       "      <th>Step Modification Flag</th>\n",
       "      <th>Deferred Payment Plan</th>\n",
       "      <th>Estimated Loan-to-Value (ELTV)</th>\n",
       "      <th>Zero Balance Removal UPB</th>\n",
       "      <th>Delinquent Accrued Interest</th>\n",
       "      <th>Delinquency Due to Disaster</th>\n",
       "      <th>Borrower Assistance Status Code</th>\n",
       "      <th>Current Month Modification Cost</th>\n",
       "      <th>Interest Bearing UPB</th>\n",
       "    </tr>\n",
       "  </thead>\n",
       "  <tbody>\n",
       "    <tr>\n",
       "      <th>0</th>\n",
       "      <td>F04Q10000054</td>\n",
       "      <td>200403</td>\n",
       "      <td>126000.0</td>\n",
       "      <td>0</td>\n",
       "      <td>1</td>\n",
       "      <td>359</td>\n",
       "      <td>NaN</td>\n",
       "      <td>NaN</td>\n",
       "      <td>NaN</td>\n",
       "      <td>NaN</td>\n",
       "      <td>...</td>\n",
       "      <td>NaN</td>\n",
       "      <td>NaN</td>\n",
       "      <td>NaN</td>\n",
       "      <td>NaN</td>\n",
       "      <td>NaN</td>\n",
       "      <td>NaN</td>\n",
       "      <td>NaN</td>\n",
       "      <td>NaN</td>\n",
       "      <td>NaN</td>\n",
       "      <td>126000.0</td>\n",
       "    </tr>\n",
       "    <tr>\n",
       "      <th>1</th>\n",
       "      <td>F04Q10000054</td>\n",
       "      <td>200404</td>\n",
       "      <td>126000.0</td>\n",
       "      <td>0</td>\n",
       "      <td>2</td>\n",
       "      <td>358</td>\n",
       "      <td>NaN</td>\n",
       "      <td>NaN</td>\n",
       "      <td>NaN</td>\n",
       "      <td>NaN</td>\n",
       "      <td>...</td>\n",
       "      <td>NaN</td>\n",
       "      <td>NaN</td>\n",
       "      <td>NaN</td>\n",
       "      <td>NaN</td>\n",
       "      <td>NaN</td>\n",
       "      <td>NaN</td>\n",
       "      <td>NaN</td>\n",
       "      <td>NaN</td>\n",
       "      <td>NaN</td>\n",
       "      <td>126000.0</td>\n",
       "    </tr>\n",
       "  </tbody>\n",
       "</table>\n",
       "<p>2 rows × 32 columns</p>\n",
       "</div>"
      ],
      "text/plain": [
       "  Loan Sequence Number  Monthly Reporting Period  Current Actual UPB  \\\n",
       "0         F04Q10000054                    200403            126000.0   \n",
       "1         F04Q10000054                    200404            126000.0   \n",
       "\n",
       "  Current Loan Delinquency Status  Loan Age  \\\n",
       "0                               0         1   \n",
       "1                               0         2   \n",
       "\n",
       "   Remaining Months to Legal Maturity  Defect Settlement Date  \\\n",
       "0                                 359                     NaN   \n",
       "1                                 358                     NaN   \n",
       "\n",
       "  Modification Flag  Zero Balance Code  Zero Balance Effective Date  ...  \\\n",
       "0               NaN                NaN                          NaN  ...   \n",
       "1               NaN                NaN                          NaN  ...   \n",
       "\n",
       "   Modification Cost  Step Modification Flag  Deferred Payment Plan  \\\n",
       "0                NaN                     NaN                    NaN   \n",
       "1                NaN                     NaN                    NaN   \n",
       "\n",
       "   Estimated Loan-to-Value (ELTV)  Zero Balance Removal UPB  \\\n",
       "0                             NaN                       NaN   \n",
       "1                             NaN                       NaN   \n",
       "\n",
       "   Delinquent Accrued Interest  Delinquency Due to Disaster  \\\n",
       "0                          NaN                          NaN   \n",
       "1                          NaN                          NaN   \n",
       "\n",
       "   Borrower Assistance Status Code  Current Month Modification Cost  \\\n",
       "0                              NaN                              NaN   \n",
       "1                              NaN                              NaN   \n",
       "\n",
       "   Interest Bearing UPB  \n",
       "0              126000.0  \n",
       "1              126000.0  \n",
       "\n",
       "[2 rows x 32 columns]"
      ]
     },
     "execution_count": 12,
     "metadata": {},
     "output_type": "execute_result"
    }
   ],
   "source": [
    "col_svcg_2004 = [\n",
    "    \"Loan Sequence Number\",\n",
    "    \"Monthly Reporting Period\",\n",
    "    \"Current Actual UPB\",\n",
    "    \"Current Loan Delinquency Status\",\n",
    "    \"Loan Age\",\n",
    "    \"Remaining Months to Legal Maturity\",\n",
    "    \"Defect Settlement Date\",\n",
    "    \"Modification Flag\",\n",
    "    \"Zero Balance Code\",\n",
    "    \"Zero Balance Effective Date\",\n",
    "    \"Current Interest Rate\",\n",
    "    \"Current Deferred UPB\",\n",
    "    \"Due Date of Last Paid Installment (DDLPI)\",\n",
    "    \"MI Recoveries\",\n",
    "    \"Net Sales Proceeds\",\n",
    "    \"Non MI Recoveries\",\n",
    "    \"Expenses\",\n",
    "    \"Legal Costs\",\n",
    "    \"Maintenance and Preservation Costs\",\n",
    "    \"Taxes and Insurance\",\n",
    "    \"Miscellaneous Expenses\",\n",
    "    \"Actual Loss Calculation\",\n",
    "    \"Modification Cost\",\n",
    "    \"Step Modification Flag\",\n",
    "    \"Deferred Payment Plan\",\n",
    "    \"Estimated Loan-to-Value (ELTV)\",\n",
    "    \"Zero Balance Removal UPB\",\n",
    "    \"Delinquent Accrued Interest\",\n",
    "    \"Delinquency Due to Disaster\",\n",
    "    \"Borrower Assistance Status Code\",\n",
    "    \"Current Month Modification Cost\",\n",
    "    \"Interest Bearing UPB\",\n",
    "]\n",
    "\n",
    "db_svcg_2004 = pd.read_csv(\n",
    "    \"https://github.com/nickeubank/MIDS_Data/raw/refs/heads/master/mortgages/2004/sample_svcg_2004_threeyears_standard_mortgages.txt.zip\",\n",
    "    sep=\"|\",\n",
    "    header=None,\n",
    "    names=col_svcg_2004,\n",
    "    index_col=None,\n",
    "    dtype={\n",
    "        \"Current Loan Delinquency Status\": str,\n",
    "        \"Modification Flag\": str,\n",
    "        \"Step Modification Flag\": str,\n",
    "    },\n",
    ")\n",
    "print(db_svcg_2004.shape)\n",
    "db_svcg_2004.head(2)"
   ]
  },
  {
   "cell_type": "code",
   "execution_count": 13,
   "metadata": {},
   "outputs": [],
   "source": [
    "db_svcg_2004 = db_svcg_2004[\n",
    "    [\n",
    "        \"Monthly Reporting Period\",\n",
    "        \"Current Loan Delinquency Status\",\n",
    "        \"Loan Sequence Number\",\n",
    "    ]\n",
    "]"
   ]
  },
  {
   "cell_type": "markdown",
   "metadata": {},
   "source": [
    "### Exercise 2\n",
    "\n",
    "What is the unit of observation in `sample_orig_2004_standard_mortgages.txt` and in `sample_svcg_2004_threeyears_standard_mortgages.txt`?"
   ]
  },
  {
   "cell_type": "markdown",
   "metadata": {},
   "source": [
    ">- The unit of observation in `sample_orig_2004_standard_mortgages.txt` is loans.\n",
    ">- The unit of observation in `sample_svcg_2004_threeyears_standard_mortgages.txt` is loan-monthly payments"
   ]
  },
  {
   "cell_type": "markdown",
   "metadata": {},
   "source": [
    "### Exercise 3\n",
    "\n",
    "Merge your two datasets. Be sure to use the `validate` keyword argument in `merge`.\n",
    "\n",
    "You will find some records in the origination files not in the servicing file. We need data from both files, so just do an `inner` join.\n",
    "\n",
    "Assuming that you list the data associated with `sample_orig_2004_standard_mortgages.txt` first and `sample_svcg_2004_threeyears_standard_mortgages.txt` second, what keyword are you passing to `validate`? Store your answer as a string (use one of: `\"1:1\"`, `\"m:1\"`, `\"1:m\"`, `\"m:m\"`) in a dictionary called `results` under the key `ex2_merge_type`."
   ]
  },
  {
   "cell_type": "code",
   "execution_count": 14,
   "metadata": {},
   "outputs": [
    {
     "name": "stdout",
     "output_type": "stream",
     "text": [
      "(379461, 35)\n"
     ]
    },
    {
     "data": {
      "text/plain": [
       "_merge\n",
       "both          379461\n",
       "left_only          0\n",
       "right_only         0\n",
       "Name: count, dtype: int64"
      ]
     },
     "execution_count": 14,
     "metadata": {},
     "output_type": "execute_result"
    }
   ],
   "source": [
    "db_merge_2004 = pd.merge(\n",
    "    db_mort_2004,\n",
    "    db_svcg_2004,\n",
    "    on=\"Loan Sequence Number\",\n",
    "    how=\"inner\",\n",
    "    indicator=True,\n",
    "    validate=\"one_to_many\",\n",
    ")\n",
    "print(db_merge_2004.shape)\n",
    "db_merge_2004._merge.value_counts()"
   ]
  },
  {
   "cell_type": "code",
   "execution_count": 15,
   "metadata": {},
   "outputs": [],
   "source": [
    "results[\"ex2_merge_type\"] = \"1:m\""
   ]
  },
  {
   "cell_type": "markdown",
   "metadata": {},
   "source": [
    "> When joining the data from sample_orig_2004 at the loan level with sample_svcg_2004 at the monthly payment unit of observation, we are facing a Many-to-One join."
   ]
  },
  {
   "cell_type": "markdown",
   "metadata": {},
   "source": [
    "### Exercise 4\n",
    "\n",
    "For each unique mortgage in your dataset, create an indicator variable that takes on a value of 1 if, at any time during this period, the mortgage has been delinquent.\n",
    "\n",
    "Delinquency status is stored in the variable `CURRENT LOAN DELINQUENCY STATUS`, and is coded as:\n",
    "\n",
    "> CURRENT LOAN DELINQUENCY STATUS – A value corresponding to the number of days the borrower is delinquent, based on the due date of last paid installment (“DDLPI”) reported by servicers to Freddie Mac, and is calculated under the Mortgage Bankers Association (MBA) method.\n",
    "If a loan has been acquired by REO, then the Current Loan Delinquency Status will reflect the value corresponding to that status (instead of the value corresponding to the number of days the borrower is delinquent).\n",
    ">\n",
    "> 0 = Current, or less than 30 days delinquent\n",
    "> \n",
    "> 1 = 30-59 days delinquent\n",
    "> \n",
    "> 2=60–89days delinquent\n",
    "> \n",
    "> 3=90–119days delinquent\n",
    "> \n",
    "> And so on...\n",
    "> \n",
    "> RA = REO Acquisition\n"
   ]
  },
  {
   "cell_type": "code",
   "execution_count": 16,
   "metadata": {},
   "outputs": [
    {
     "data": {
      "application/vnd.microsoft.datawrangler.viewer.v0+json": {
       "columns": [
        {
         "name": "index",
         "rawType": "int64",
         "type": "integer"
        },
        {
         "name": "Credit Score",
         "rawType": "int64",
         "type": "integer"
        },
        {
         "name": "First Payment Date",
         "rawType": "int64",
         "type": "integer"
        },
        {
         "name": "First Time Homebuyer Flag",
         "rawType": "object",
         "type": "string"
        },
        {
         "name": "Maturity Date",
         "rawType": "int64",
         "type": "integer"
        },
        {
         "name": "Metropolitan Statistical Area (MSA) Or Metropolitan Division",
         "rawType": "float64",
         "type": "float"
        },
        {
         "name": "Mortgage Insurance Percentage (MI %)",
         "rawType": "int64",
         "type": "integer"
        },
        {
         "name": "Number of Units",
         "rawType": "int64",
         "type": "integer"
        },
        {
         "name": "Occupancy Status",
         "rawType": "object",
         "type": "string"
        },
        {
         "name": "Original Combined Loan-to-Value (CLTV)",
         "rawType": "int64",
         "type": "integer"
        },
        {
         "name": "Original Debt-to-Income (DTI) Ratio",
         "rawType": "int64",
         "type": "integer"
        },
        {
         "name": "Original UPB",
         "rawType": "int64",
         "type": "integer"
        },
        {
         "name": "Original Loan-to-Value (LTV)",
         "rawType": "int64",
         "type": "integer"
        },
        {
         "name": "Original Interest Rate",
         "rawType": "float64",
         "type": "float"
        },
        {
         "name": "Channel",
         "rawType": "object",
         "type": "string"
        },
        {
         "name": "Prepayment Penalty Mortgage (PPM) Flag",
         "rawType": "object",
         "type": "string"
        },
        {
         "name": "Amortization Type (Formerly Product Type)",
         "rawType": "object",
         "type": "string"
        },
        {
         "name": "Property State",
         "rawType": "object",
         "type": "string"
        },
        {
         "name": "Property Type",
         "rawType": "object",
         "type": "string"
        },
        {
         "name": "Postal Code",
         "rawType": "int64",
         "type": "integer"
        },
        {
         "name": "Loan Sequence Number",
         "rawType": "object",
         "type": "string"
        },
        {
         "name": "Loan Purpose",
         "rawType": "object",
         "type": "string"
        },
        {
         "name": "Original Loan Term",
         "rawType": "int64",
         "type": "integer"
        },
        {
         "name": "Number of Borrowers",
         "rawType": "int64",
         "type": "integer"
        },
        {
         "name": "Seller Name",
         "rawType": "object",
         "type": "string"
        },
        {
         "name": "Servicer Name",
         "rawType": "object",
         "type": "string"
        },
        {
         "name": "Super Conforming Flag",
         "rawType": "float64",
         "type": "float"
        },
        {
         "name": "Pre-HARP Loan Sequence Number",
         "rawType": "float64",
         "type": "float"
        },
        {
         "name": "Program Indicator",
         "rawType": "int64",
         "type": "integer"
        },
        {
         "name": "HARP Indicator",
         "rawType": "float64",
         "type": "float"
        },
        {
         "name": "Property Valuation Method",
         "rawType": "int64",
         "type": "integer"
        },
        {
         "name": "Interest Only (I/O) Indicator",
         "rawType": "object",
         "type": "string"
        },
        {
         "name": "Mortgage Insurance Cancellation Indicator",
         "rawType": "int64",
         "type": "integer"
        },
        {
         "name": "Monthly Reporting Period",
         "rawType": "int64",
         "type": "integer"
        },
        {
         "name": "Current Loan Delinquency Status",
         "rawType": "int64",
         "type": "integer"
        },
        {
         "name": "_merge",
         "rawType": "category",
         "type": "unknown"
        },
        {
         "name": "ever_delinquent",
         "rawType": "int64",
         "type": "integer"
        }
       ],
       "conversionMethod": "pd.DataFrame",
       "ref": "886470a2-f609-42c7-b6ef-0648303b832a",
       "rows": [
        [
         "191236",
         "718",
         "200411",
         "Y",
         "203410",
         "17980.0",
         "25",
         "1",
         "P",
         "95",
         "51",
         "178000",
         "95",
         "5.875",
         "T",
         "N",
         "FRM",
         "GA",
         "PU",
         "31800",
         "F04Q30105620",
         "P",
         "360",
         "1",
         "Other sellers",
         "Other servicers",
         null,
         null,
         "9",
         null,
         "9",
         "N",
         "9",
         "200506",
         "0",
         "both",
         "0"
        ],
        [
         "347810",
         "789",
         "200502",
         "N",
         "202001",
         null,
         "0",
         "1",
         "P",
         "80",
         "32",
         "271000",
         "80",
         "5.0",
         "R",
         "N",
         "FRM",
         "FL",
         "SF",
         "33700",
         "F04Q40262943",
         "P",
         "180",
         "1",
         "BANK OF AMERICA, N.A.",
         "BANK OF AMERICA, N.A.",
         null,
         null,
         "9",
         null,
         "9",
         "N",
         "9",
         "200604",
         "0",
         "both",
         "0"
        ]
       ],
       "shape": {
        "columns": 36,
        "rows": 2
       }
      },
      "text/html": [
       "<div>\n",
       "<style scoped>\n",
       "    .dataframe tbody tr th:only-of-type {\n",
       "        vertical-align: middle;\n",
       "    }\n",
       "\n",
       "    .dataframe tbody tr th {\n",
       "        vertical-align: top;\n",
       "    }\n",
       "\n",
       "    .dataframe thead th {\n",
       "        text-align: right;\n",
       "    }\n",
       "</style>\n",
       "<table border=\"1\" class=\"dataframe\">\n",
       "  <thead>\n",
       "    <tr style=\"text-align: right;\">\n",
       "      <th></th>\n",
       "      <th>Credit Score</th>\n",
       "      <th>First Payment Date</th>\n",
       "      <th>First Time Homebuyer Flag</th>\n",
       "      <th>Maturity Date</th>\n",
       "      <th>Metropolitan Statistical Area (MSA) Or Metropolitan Division</th>\n",
       "      <th>Mortgage Insurance Percentage (MI %)</th>\n",
       "      <th>Number of Units</th>\n",
       "      <th>Occupancy Status</th>\n",
       "      <th>Original Combined Loan-to-Value (CLTV)</th>\n",
       "      <th>Original Debt-to-Income (DTI) Ratio</th>\n",
       "      <th>...</th>\n",
       "      <th>Pre-HARP Loan Sequence Number</th>\n",
       "      <th>Program Indicator</th>\n",
       "      <th>HARP Indicator</th>\n",
       "      <th>Property Valuation Method</th>\n",
       "      <th>Interest Only (I/O) Indicator</th>\n",
       "      <th>Mortgage Insurance Cancellation Indicator</th>\n",
       "      <th>Monthly Reporting Period</th>\n",
       "      <th>Current Loan Delinquency Status</th>\n",
       "      <th>_merge</th>\n",
       "      <th>ever_delinquent</th>\n",
       "    </tr>\n",
       "  </thead>\n",
       "  <tbody>\n",
       "    <tr>\n",
       "      <th>191236</th>\n",
       "      <td>718</td>\n",
       "      <td>200411</td>\n",
       "      <td>Y</td>\n",
       "      <td>203410</td>\n",
       "      <td>17980.0</td>\n",
       "      <td>25</td>\n",
       "      <td>1</td>\n",
       "      <td>P</td>\n",
       "      <td>95</td>\n",
       "      <td>51</td>\n",
       "      <td>...</td>\n",
       "      <td>NaN</td>\n",
       "      <td>9</td>\n",
       "      <td>NaN</td>\n",
       "      <td>9</td>\n",
       "      <td>N</td>\n",
       "      <td>9</td>\n",
       "      <td>200506</td>\n",
       "      <td>0</td>\n",
       "      <td>both</td>\n",
       "      <td>0</td>\n",
       "    </tr>\n",
       "    <tr>\n",
       "      <th>347810</th>\n",
       "      <td>789</td>\n",
       "      <td>200502</td>\n",
       "      <td>N</td>\n",
       "      <td>202001</td>\n",
       "      <td>NaN</td>\n",
       "      <td>0</td>\n",
       "      <td>1</td>\n",
       "      <td>P</td>\n",
       "      <td>80</td>\n",
       "      <td>32</td>\n",
       "      <td>...</td>\n",
       "      <td>NaN</td>\n",
       "      <td>9</td>\n",
       "      <td>NaN</td>\n",
       "      <td>9</td>\n",
       "      <td>N</td>\n",
       "      <td>9</td>\n",
       "      <td>200604</td>\n",
       "      <td>0</td>\n",
       "      <td>both</td>\n",
       "      <td>0</td>\n",
       "    </tr>\n",
       "  </tbody>\n",
       "</table>\n",
       "<p>2 rows × 36 columns</p>\n",
       "</div>"
      ],
      "text/plain": [
       "        Credit Score  First Payment Date First Time Homebuyer Flag  \\\n",
       "191236           718              200411                         Y   \n",
       "347810           789              200502                         N   \n",
       "\n",
       "        Maturity Date  \\\n",
       "191236         203410   \n",
       "347810         202001   \n",
       "\n",
       "        Metropolitan Statistical Area (MSA) Or Metropolitan Division  \\\n",
       "191236                                            17980.0              \n",
       "347810                                                NaN              \n",
       "\n",
       "        Mortgage Insurance Percentage (MI %)  Number of Units  \\\n",
       "191236                                    25                1   \n",
       "347810                                     0                1   \n",
       "\n",
       "       Occupancy Status  Original Combined Loan-to-Value (CLTV)  \\\n",
       "191236                P                                      95   \n",
       "347810                P                                      80   \n",
       "\n",
       "        Original Debt-to-Income (DTI) Ratio  ...  \\\n",
       "191236                                   51  ...   \n",
       "347810                                   32  ...   \n",
       "\n",
       "        Pre-HARP Loan Sequence Number  Program Indicator  HARP Indicator  \\\n",
       "191236                            NaN                  9             NaN   \n",
       "347810                            NaN                  9             NaN   \n",
       "\n",
       "       Property Valuation Method Interest Only (I/O) Indicator  \\\n",
       "191236                         9                             N   \n",
       "347810                         9                             N   \n",
       "\n",
       "       Mortgage Insurance Cancellation Indicator Monthly Reporting Period  \\\n",
       "191236                                         9                   200506   \n",
       "347810                                         9                   200604   \n",
       "\n",
       "       Current Loan Delinquency Status  _merge ever_delinquent  \n",
       "191236                               0    both               0  \n",
       "347810                               0    both               0  \n",
       "\n",
       "[2 rows x 36 columns]"
      ]
     },
     "execution_count": 16,
     "metadata": {},
     "output_type": "execute_result"
    }
   ],
   "source": [
    "db_merge_2004[\"Current Loan Delinquency Status\"] = (\n",
    "    db_merge_2004[\"Current Loan Delinquency Status\"].replace(\"RA\", 99).astype(\"int\")\n",
    ")\n",
    "\n",
    "db_merge_2004[\"ever_delinquent\"] = (\n",
    "    db_merge_2004.groupby(\"Loan Sequence Number\")[\n",
    "        \"Current Loan Delinquency Status\"\n",
    "    ].transform(\"max\")\n",
    "    > 0\n",
    ").astype(\"int\")\n",
    "\n",
    "db_merge_2004.sample(2)"
   ]
  },
  {
   "cell_type": "markdown",
   "metadata": {},
   "source": [
    "### Exercise 5\n",
    "\n",
    "At this point, you should be able to drop all servicing variables reported on a monthly basis and just keep information about the original mortgage issuance (and still keep an indicator for whether the mortgage has ever been delinquent).\n",
    "\n",
    "Store the final number of mortgages in your data under `ex5_num_mortgages` and the share (between 0 and 1) of mortgages that have been delinquent under `ex5_share_delinquent`. **Please round the share delinquent to 3 decimal places.**"
   ]
  },
  {
   "cell_type": "code",
   "execution_count": null,
   "metadata": {},
   "outputs": [
    {
     "name": "stdout",
     "output_type": "stream",
     "text": [
      "There are now 17,471 unique mortgages in the dataset.\n",
      "During the period studied, 0.071 of loans are delinquent at some point.\n"
     ]
    }
   ],
   "source": [
    "db_merge_2004 = db_merge_2004.drop(\n",
    "    columns=[\n",
    "        \"Current Loan Delinquency Status\",\n",
    "        \"Monthly Reporting Period\",\n",
    "    ]\n",
    ")\n",
    "twoyears = db_merge_2004.drop_duplicates()\n",
    "assert twoyears[\"Loan Sequence Number\"].is_unique\n",
    "results[\"ex5_share_delinquent\"] = np.round(twoyears.ever_delinquent.mean(), 3)\n",
    "results[\"ex5_num_mortgages\"] = len(twoyears)\n",
    "\n",
    "print(\n",
    "    f\"After eliminating all repeated mortgage rows based on the Loan Sequence Number, the number of remaining observations in the dataset is {results['ex5_num_mortgages']:,.0f}.\"\n",
    ")\n",
    "print(\n",
    "    f\"The share of mortgages that have been delinquent is {results['ex5_share_delinquent']}.\"\n",
    ")"
   ]
  },
  {
   "cell_type": "markdown",
   "metadata": {},
   "source": [
    ">- After eliminating all repeated mortgage rows based on the Loan Sequence Number, the number of remaining observations in the dataset is: 17,471.\n",
    ">- The share of mortgages that have been delinquent is 0.071."
   ]
  },
  {
   "cell_type": "markdown",
   "metadata": {},
   "source": [
    "## Modeling Delinquency Risk\n",
    "\n",
    "Your data should now be relatively [tidy](https://vita.had.co.nz/papers/tidy-data.pdf), in the technical sense of the term. And that means it should be relatively straightforward for you to build a model that answers the question \"Given the features of a newly originated mortgage, how likely is the mortgage holder to fall into delinquency within the first two years after origination?\" to help your stakeholder decide which mortgages to purchase."
   ]
  },
  {
   "cell_type": "markdown",
   "metadata": {},
   "source": [
    "### Exercise 6\n",
    "\n",
    "For your analysis, include the following variables: \n",
    "\n",
    "```\n",
    "Credit Score\n",
    "First Time Homebuyer Flag\n",
    "Number of Units\n",
    "Mortgage Insurance Percentage (MI %)\n",
    "Occupancy Status\n",
    "Original Debt-to-Income (DTI) Ratio\n",
    "Original UPB\n",
    "Original Loan-to-Value (LTV)\n",
    "Original Interest Rate\n",
    "Channel\n",
    "Prepayment Penalty Mortgage (PPM) Flag\n",
    "Amortization Type (Formerly Product Type)\n",
    "Property State\n",
    "Property Type\n",
    "Original Loan Term\n",
    "Number of Borrowers\n",
    "Interest Only (I/O) Indicator\n",
    "```\n",
    "\n",
    "Be sure to clean these variables. When doing so, please treat missing data as missing (e.g., `np.nan`, not as a distinct category). You will probably want to consult the documentation on the data for guidance on missing values.\n"
   ]
  },
  {
   "cell_type": "code",
   "execution_count": 18,
   "metadata": {},
   "outputs": [],
   "source": [
    "for i in [\n",
    "    \"Channel\",\n",
    "    \"Property Valuation Method\",\n",
    "    \"First Time Homebuyer Flag\",\n",
    "    \"Occupancy Status\",\n",
    "]:\n",
    "    twoyears[i] = twoyears[i].replace(9, np.nan)\n",
    "    twoyears[i] = twoyears[i].replace(\"9\", np.nan)\n",
    "\n",
    "for i in [\"Number of Units\", \"Property Type\", \"Number of Borrowers\"]:\n",
    "    twoyears[i] = twoyears[i].replace(99, np.nan)\n",
    "    twoyears[i] = twoyears[i].replace(\"99\", np.nan)\n",
    "\n",
    "for i in [\n",
    "    \"Mortgage Insurance Percentage (MI %)\",\n",
    "    \"Original Debt-to-Income (DTI) Ratio\",\n",
    "    \"Original Loan-to-Value (LTV)\",\n",
    "]:\n",
    "    twoyears[i] = twoyears[i].replace(999, np.nan)\n",
    "    twoyears[i] = twoyears[i].replace(\"999\", np.nan)\n",
    "\n",
    "twoyears[\"Credit Score\"] = twoyears[\"Credit Score\"].replace(9999, np.nan)\n",
    "twoyears[\"Credit Score\"] = twoyears[\"Credit Score\"].replace(\"9999\", np.nan)"
   ]
  },
  {
   "cell_type": "code",
   "execution_count": 19,
   "metadata": {},
   "outputs": [
    {
     "data": {
      "text/plain": [
       "Number of Units\n",
       "1.0    17117\n",
       "2.0      284\n",
       "4.0       34\n",
       "3.0       33\n",
       "Name: count, dtype: int64"
      ]
     },
     "execution_count": 19,
     "metadata": {},
     "output_type": "execute_result"
    }
   ],
   "source": [
    "twoyears[\"Number of Units\"].value_counts()"
   ]
  },
  {
   "cell_type": "code",
   "execution_count": 20,
   "metadata": {},
   "outputs": [],
   "source": [
    "for_model = twoyears[\n",
    "    [\n",
    "        \"Credit Score\",\n",
    "        \"First Time Homebuyer Flag\",\n",
    "        \"Number of Units\",\n",
    "        \"Mortgage Insurance Percentage (MI %)\",\n",
    "        \"Occupancy Status\",\n",
    "        \"Original Debt-to-Income (DTI) Ratio\",\n",
    "        \"Original UPB\",\n",
    "        \"Original Loan-to-Value (LTV)\",\n",
    "        \"Original Interest Rate\",\n",
    "        \"Channel\",\n",
    "        \"Prepayment Penalty Mortgage (PPM) Flag\",\n",
    "        \"Amortization Type (Formerly Product Type)\",\n",
    "        \"Property State\",\n",
    "        \"Property Type\",\n",
    "        \"Original Loan Term\",\n",
    "        \"Number of Borrowers\",\n",
    "        \"ever_delinquent\",\n",
    "        \"Loan Sequence Number\",\n",
    "    ]\n",
    "]"
   ]
  },
  {
   "cell_type": "markdown",
   "metadata": {},
   "source": [
    "### Why Aren't We Using Metropolitan Statistical Area (MSA)?\n",
    "\n",
    "Metropolitan Statistical Area (MSA) is what the US Census Bureau calls what most people would think of as a city. Durham *plus* Chapel Hill are considered a single MSA, for example.\n",
    "\n",
    "So looking at this list, you may be wondering why we aren't using the MSA variable in the data. After all, real estate is all about location, location, location, right? \n",
    "\n",
    "Well, the problem is the data is too sparse — it's missing for a substantial number of observations, and more importantly there are lots of MSAs with only a couple of observations that are delinquent (about 40% of MSAs have less than 4 mortgages that are delinquent in their first two years). That's just too sparse for modelling — when coefficients are being estimated for those categories, they're bound to over-fit.\n",
    "\n",
    "Put differently: would you be comfortable estimating the delinquency rate for, say, the city of Denver, CO with three or fewer delinquent observations? Of course not, but when you try and predict values to new data, that's precisely what you're doing — applying an estimate of delinquency from a few delinquent observations to any new observations in that MSA.\n",
    "\n",
    "If you were working with longer time periods or the dataset with *all* Freddie Mac mortgages (not a sample), you could probably use MSA."
   ]
  },
  {
   "cell_type": "markdown",
   "metadata": {},
   "source": [
    "### Exercise 7\n",
    "\n",
    "The next step in our analysis is to convert our categorical variables to one-hot-encodings and use `train_test_split` to split our data.\n",
    "\n",
    "To ensure replicability, **before** you `train_test_split` your data, please sort your data by `Loan Sequence Number`. This will ensure when we split the data with a random seed below, everyone will get the same split and the autograder will function.\n",
    "\n",
    "You may create your one-hot-encodings however you wish, but I'm a fan of the [patsy library's](https://patsy.readthedocs.io/en/latest/overview.html) `dmatrices` function.\n",
    "\n",
    "**Hint:** You should end up with 8 categorical variables, including some binary flags and `Number_of_Borrowers`, `Number_of_Units` (which you could argue should be continuous, but I think are better treated as categorical).\n",
    "\n",
    "**Hint 2:** To use `patsy`, you will probably need to make some changes to the names of your variables. To make your life easier, you may wish to use a little snippet like this:\n",
    "\n",
    "```python\n",
    "import re\n",
    "mortgages_2004.columns = [re.sub(\" \", \"_\", c) for c in mortgages_2004.columns]\n",
    "mortgages_2004.columns = [re.sub(\"[%/()-]\", \"\", c) for c in mortgages_2004.columns]\n",
    "```\n",
    "\n",
    "**Hint 3:** your final `X` matrix should have 76 columns, including intercept.\n",
    "\n",
    "Store the number of observations in your final dataset in `ex7_num_obs`. "
   ]
  },
  {
   "cell_type": "code",
   "execution_count": 21,
   "metadata": {},
   "outputs": [
    {
     "data": {
      "text/plain": [
       "Index(['Credit_Score', 'First_Time_Homebuyer_Flag', 'Number_of_Units',\n",
       "       'Mortgage_Insurance_Percentage_MI_', 'Occupancy_Status',\n",
       "       'Original_DebttoIncome_DTI_Ratio', 'Original_UPB',\n",
       "       'Original_LoantoValue_LTV', 'Original_Interest_Rate', 'Channel',\n",
       "       'Prepayment_Penalty_Mortgage_PPM_Flag',\n",
       "       'Amortization_Type_Formerly_Product_Type', 'Property_State',\n",
       "       'Property_Type', 'Original_Loan_Term', 'Number_of_Borrowers',\n",
       "       'ever_delinquent', 'Loan_Sequence_Number'],\n",
       "      dtype='object')"
      ]
     },
     "execution_count": 21,
     "metadata": {},
     "output_type": "execute_result"
    }
   ],
   "source": [
    "import patsy\n",
    "import re\n",
    "\n",
    "# Patsy can't handle this type of punctuation in formulas\n",
    "for_model.columns = [re.sub(\" \", \"_\", c) for c in for_model.columns]\n",
    "for_model.columns = [re.sub(\"[%/()-]\", \"\", c) for c in for_model.columns]\n",
    "\n",
    "for_model.columns"
   ]
  },
  {
   "cell_type": "markdown",
   "metadata": {},
   "source": [
    "> After performing our one hot encoding and removing null elements, the number of observations in the dataset is 17,052."
   ]
  },
  {
   "cell_type": "code",
   "execution_count": 26,
   "metadata": {},
   "outputs": [
    {
     "name": "stdout",
     "output_type": "stream",
     "text": [
      "76\n"
     ]
    },
    {
     "data": {
      "application/vnd.microsoft.datawrangler.viewer.v0+json": {
       "columns": [
        {
         "name": "index",
         "rawType": "int64",
         "type": "integer"
        },
        {
         "name": "Credit_Score",
         "rawType": "float64",
         "type": "float"
        },
        {
         "name": "First_Time_Homebuyer_Flag",
         "rawType": "object",
         "type": "string"
        },
        {
         "name": "Number_of_Units",
         "rawType": "float64",
         "type": "float"
        },
        {
         "name": "Mortgage_Insurance_Percentage_MI_",
         "rawType": "float64",
         "type": "float"
        },
        {
         "name": "Occupancy_Status",
         "rawType": "object",
         "type": "string"
        },
        {
         "name": "Original_DebttoIncome_DTI_Ratio",
         "rawType": "float64",
         "type": "float"
        },
        {
         "name": "Original_UPB",
         "rawType": "int64",
         "type": "integer"
        },
        {
         "name": "Original_LoantoValue_LTV",
         "rawType": "int64",
         "type": "integer"
        },
        {
         "name": "Original_Interest_Rate",
         "rawType": "float64",
         "type": "float"
        },
        {
         "name": "Channel",
         "rawType": "object",
         "type": "string"
        },
        {
         "name": "Prepayment_Penalty_Mortgage_PPM_Flag",
         "rawType": "object",
         "type": "string"
        },
        {
         "name": "Amortization_Type_Formerly_Product_Type",
         "rawType": "object",
         "type": "string"
        },
        {
         "name": "Property_State",
         "rawType": "object",
         "type": "string"
        },
        {
         "name": "Property_Type",
         "rawType": "object",
         "type": "string"
        },
        {
         "name": "Original_Loan_Term",
         "rawType": "int64",
         "type": "integer"
        },
        {
         "name": "Number_of_Borrowers",
         "rawType": "float64",
         "type": "float"
        },
        {
         "name": "ever_delinquent",
         "rawType": "int64",
         "type": "integer"
        },
        {
         "name": "Loan_Sequence_Number",
         "rawType": "object",
         "type": "string"
        }
       ],
       "conversionMethod": "pd.DataFrame",
       "ref": "42d51ce8-9aba-4e1c-b93c-caf5e5a0d234",
       "rows": [
        [
         "247434",
         "654.0",
         "N",
         "1.0",
         "30.0",
         "P",
         "41.0",
         "285000",
         "95",
         "5.875",
         "T",
         "N",
         "FRM",
         "TX",
         "SF",
         "360",
         "1.0",
         "1",
         "F04Q30251917"
        ],
        [
         "294915",
         "736.0",
         "N",
         "1.0",
         "0.0",
         "P",
         "34.0",
         "201000",
         "80",
         "5.375",
         "T",
         "N",
         "FRM",
         "TX",
         "PU",
         "360",
         "2.0",
         "0",
         "F04Q40052428"
        ]
       ],
       "shape": {
        "columns": 18,
        "rows": 2
       }
      },
      "text/html": [
       "<div>\n",
       "<style scoped>\n",
       "    .dataframe tbody tr th:only-of-type {\n",
       "        vertical-align: middle;\n",
       "    }\n",
       "\n",
       "    .dataframe tbody tr th {\n",
       "        vertical-align: top;\n",
       "    }\n",
       "\n",
       "    .dataframe thead th {\n",
       "        text-align: right;\n",
       "    }\n",
       "</style>\n",
       "<table border=\"1\" class=\"dataframe\">\n",
       "  <thead>\n",
       "    <tr style=\"text-align: right;\">\n",
       "      <th></th>\n",
       "      <th>Credit_Score</th>\n",
       "      <th>First_Time_Homebuyer_Flag</th>\n",
       "      <th>Number_of_Units</th>\n",
       "      <th>Mortgage_Insurance_Percentage_MI_</th>\n",
       "      <th>Occupancy_Status</th>\n",
       "      <th>Original_DebttoIncome_DTI_Ratio</th>\n",
       "      <th>Original_UPB</th>\n",
       "      <th>Original_LoantoValue_LTV</th>\n",
       "      <th>Original_Interest_Rate</th>\n",
       "      <th>Channel</th>\n",
       "      <th>Prepayment_Penalty_Mortgage_PPM_Flag</th>\n",
       "      <th>Amortization_Type_Formerly_Product_Type</th>\n",
       "      <th>Property_State</th>\n",
       "      <th>Property_Type</th>\n",
       "      <th>Original_Loan_Term</th>\n",
       "      <th>Number_of_Borrowers</th>\n",
       "      <th>ever_delinquent</th>\n",
       "      <th>Loan_Sequence_Number</th>\n",
       "    </tr>\n",
       "  </thead>\n",
       "  <tbody>\n",
       "    <tr>\n",
       "      <th>247434</th>\n",
       "      <td>654.0</td>\n",
       "      <td>N</td>\n",
       "      <td>1.0</td>\n",
       "      <td>30.0</td>\n",
       "      <td>P</td>\n",
       "      <td>41.0</td>\n",
       "      <td>285000</td>\n",
       "      <td>95</td>\n",
       "      <td>5.875</td>\n",
       "      <td>T</td>\n",
       "      <td>N</td>\n",
       "      <td>FRM</td>\n",
       "      <td>TX</td>\n",
       "      <td>SF</td>\n",
       "      <td>360</td>\n",
       "      <td>1.0</td>\n",
       "      <td>1</td>\n",
       "      <td>F04Q30251917</td>\n",
       "    </tr>\n",
       "    <tr>\n",
       "      <th>294915</th>\n",
       "      <td>736.0</td>\n",
       "      <td>N</td>\n",
       "      <td>1.0</td>\n",
       "      <td>0.0</td>\n",
       "      <td>P</td>\n",
       "      <td>34.0</td>\n",
       "      <td>201000</td>\n",
       "      <td>80</td>\n",
       "      <td>5.375</td>\n",
       "      <td>T</td>\n",
       "      <td>N</td>\n",
       "      <td>FRM</td>\n",
       "      <td>TX</td>\n",
       "      <td>PU</td>\n",
       "      <td>360</td>\n",
       "      <td>2.0</td>\n",
       "      <td>0</td>\n",
       "      <td>F04Q40052428</td>\n",
       "    </tr>\n",
       "  </tbody>\n",
       "</table>\n",
       "</div>"
      ],
      "text/plain": [
       "        Credit_Score First_Time_Homebuyer_Flag  Number_of_Units  \\\n",
       "247434         654.0                         N              1.0   \n",
       "294915         736.0                         N              1.0   \n",
       "\n",
       "        Mortgage_Insurance_Percentage_MI_ Occupancy_Status  \\\n",
       "247434                               30.0                P   \n",
       "294915                                0.0                P   \n",
       "\n",
       "        Original_DebttoIncome_DTI_Ratio  Original_UPB  \\\n",
       "247434                             41.0        285000   \n",
       "294915                             34.0        201000   \n",
       "\n",
       "        Original_LoantoValue_LTV  Original_Interest_Rate Channel  \\\n",
       "247434                        95                   5.875       T   \n",
       "294915                        80                   5.375       T   \n",
       "\n",
       "       Prepayment_Penalty_Mortgage_PPM_Flag  \\\n",
       "247434                                    N   \n",
       "294915                                    N   \n",
       "\n",
       "       Amortization_Type_Formerly_Product_Type Property_State Property_Type  \\\n",
       "247434                                     FRM             TX            SF   \n",
       "294915                                     FRM             TX            PU   \n",
       "\n",
       "        Original_Loan_Term  Number_of_Borrowers  ever_delinquent  \\\n",
       "247434                 360                  1.0                1   \n",
       "294915                 360                  2.0                0   \n",
       "\n",
       "       Loan_Sequence_Number  \n",
       "247434         F04Q30251917  \n",
       "294915         F04Q40052428  "
      ]
     },
     "execution_count": 26,
     "metadata": {},
     "output_type": "execute_result"
    }
   ],
   "source": [
    "for_model = for_model.sort_values(\"Loan_Sequence_Number\")\n",
    "\n",
    "y, X = patsy.dmatrices(\n",
    "    \"ever_delinquent ~ Credit_Score\"\n",
    "    \"+ First_Time_Homebuyer_Flag\"\n",
    "    \"+ C(Number_of_Units)\"\n",
    "    \"+ Mortgage_Insurance_Percentage_MI_\"\n",
    "    \"+ Occupancy_Status\"\n",
    "    \"+ Original_DebttoIncome_DTI_Ratio\"\n",
    "    \"+ Original_UPB\"\n",
    "    \"+ Original_LoantoValue_LTV\"\n",
    "    \"+ Original_Interest_Rate\"\n",
    "    \"+ Channel\"\n",
    "    \"+ Prepayment_Penalty_Mortgage_PPM_Flag\"\n",
    "    \"+ Amortization_Type_Formerly_Product_Type\"\n",
    "    \"+ Property_State\"\n",
    "    \"+ Property_Type\"\n",
    "    \"+ Original_Loan_Term\"\n",
    "    \"+ C(Number_of_Borrowers)\",\n",
    "    for_model,\n",
    ")\n",
    "print(X.shape[1])\n",
    "for_model.sample(2)"
   ]
  },
  {
   "cell_type": "code",
   "execution_count": 28,
   "metadata": {},
   "outputs": [
    {
     "name": "stdout",
     "output_type": "stream",
     "text": [
      "The final dataset has 17,052 observations.\n"
     ]
    }
   ],
   "source": [
    "results[\"ex7_num_obs\"] = X.shape[0]\n",
    "print(f\"The final dataset has {results['ex7_num_obs']:,.0f} observations.\")"
   ]
  },
  {
   "cell_type": "markdown",
   "metadata": {},
   "source": [
    "### Exercise 8\n",
    "\n",
    "Use `train_test_split` from `sklearn.model_selection` to split the data. \n",
    "\n",
    "Before you do, Use `0.2` as the `test_size` and use `random_state=42`."
   ]
  },
  {
   "cell_type": "code",
   "execution_count": 29,
   "metadata": {},
   "outputs": [],
   "source": [
    "X_train, X_test, y_train, y_test = train_test_split(\n",
    "    X, y, test_size=0.2, random_state=42\n",
    ")"
   ]
  },
  {
   "cell_type": "markdown",
   "metadata": {},
   "source": [
    "### Exercise 9\n",
    "\n",
    "Now fit a `GradientBoostingClassifier` to the data (from `sklearn.ensemble`). Set `random_state=42` when instantiating your `GradientBoostingClassifier`.\n"
   ]
  },
  {
   "cell_type": "code",
   "execution_count": 31,
   "metadata": {},
   "outputs": [
    {
     "data": {
      "text/html": [
       "<style>#sk-container-id-2 {\n",
       "  /* Definition of color scheme common for light and dark mode */\n",
       "  --sklearn-color-text: black;\n",
       "  --sklearn-color-line: gray;\n",
       "  /* Definition of color scheme for unfitted estimators */\n",
       "  --sklearn-color-unfitted-level-0: #fff5e6;\n",
       "  --sklearn-color-unfitted-level-1: #f6e4d2;\n",
       "  --sklearn-color-unfitted-level-2: #ffe0b3;\n",
       "  --sklearn-color-unfitted-level-3: chocolate;\n",
       "  /* Definition of color scheme for fitted estimators */\n",
       "  --sklearn-color-fitted-level-0: #f0f8ff;\n",
       "  --sklearn-color-fitted-level-1: #d4ebff;\n",
       "  --sklearn-color-fitted-level-2: #b3dbfd;\n",
       "  --sklearn-color-fitted-level-3: cornflowerblue;\n",
       "\n",
       "  /* Specific color for light theme */\n",
       "  --sklearn-color-text-on-default-background: var(--sg-text-color, var(--theme-code-foreground, var(--jp-content-font-color1, black)));\n",
       "  --sklearn-color-background: var(--sg-background-color, var(--theme-background, var(--jp-layout-color0, white)));\n",
       "  --sklearn-color-border-box: var(--sg-text-color, var(--theme-code-foreground, var(--jp-content-font-color1, black)));\n",
       "  --sklearn-color-icon: #696969;\n",
       "\n",
       "  @media (prefers-color-scheme: dark) {\n",
       "    /* Redefinition of color scheme for dark theme */\n",
       "    --sklearn-color-text-on-default-background: var(--sg-text-color, var(--theme-code-foreground, var(--jp-content-font-color1, white)));\n",
       "    --sklearn-color-background: var(--sg-background-color, var(--theme-background, var(--jp-layout-color0, #111)));\n",
       "    --sklearn-color-border-box: var(--sg-text-color, var(--theme-code-foreground, var(--jp-content-font-color1, white)));\n",
       "    --sklearn-color-icon: #878787;\n",
       "  }\n",
       "}\n",
       "\n",
       "#sk-container-id-2 {\n",
       "  color: var(--sklearn-color-text);\n",
       "}\n",
       "\n",
       "#sk-container-id-2 pre {\n",
       "  padding: 0;\n",
       "}\n",
       "\n",
       "#sk-container-id-2 input.sk-hidden--visually {\n",
       "  border: 0;\n",
       "  clip: rect(1px 1px 1px 1px);\n",
       "  clip: rect(1px, 1px, 1px, 1px);\n",
       "  height: 1px;\n",
       "  margin: -1px;\n",
       "  overflow: hidden;\n",
       "  padding: 0;\n",
       "  position: absolute;\n",
       "  width: 1px;\n",
       "}\n",
       "\n",
       "#sk-container-id-2 div.sk-dashed-wrapped {\n",
       "  border: 1px dashed var(--sklearn-color-line);\n",
       "  margin: 0 0.4em 0.5em 0.4em;\n",
       "  box-sizing: border-box;\n",
       "  padding-bottom: 0.4em;\n",
       "  background-color: var(--sklearn-color-background);\n",
       "}\n",
       "\n",
       "#sk-container-id-2 div.sk-container {\n",
       "  /* jupyter's `normalize.less` sets `[hidden] { display: none; }`\n",
       "     but bootstrap.min.css set `[hidden] { display: none !important; }`\n",
       "     so we also need the `!important` here to be able to override the\n",
       "     default hidden behavior on the sphinx rendered scikit-learn.org.\n",
       "     See: https://github.com/scikit-learn/scikit-learn/issues/21755 */\n",
       "  display: inline-block !important;\n",
       "  position: relative;\n",
       "}\n",
       "\n",
       "#sk-container-id-2 div.sk-text-repr-fallback {\n",
       "  display: none;\n",
       "}\n",
       "\n",
       "div.sk-parallel-item,\n",
       "div.sk-serial,\n",
       "div.sk-item {\n",
       "  /* draw centered vertical line to link estimators */\n",
       "  background-image: linear-gradient(var(--sklearn-color-text-on-default-background), var(--sklearn-color-text-on-default-background));\n",
       "  background-size: 2px 100%;\n",
       "  background-repeat: no-repeat;\n",
       "  background-position: center center;\n",
       "}\n",
       "\n",
       "/* Parallel-specific style estimator block */\n",
       "\n",
       "#sk-container-id-2 div.sk-parallel-item::after {\n",
       "  content: \"\";\n",
       "  width: 100%;\n",
       "  border-bottom: 2px solid var(--sklearn-color-text-on-default-background);\n",
       "  flex-grow: 1;\n",
       "}\n",
       "\n",
       "#sk-container-id-2 div.sk-parallel {\n",
       "  display: flex;\n",
       "  align-items: stretch;\n",
       "  justify-content: center;\n",
       "  background-color: var(--sklearn-color-background);\n",
       "  position: relative;\n",
       "}\n",
       "\n",
       "#sk-container-id-2 div.sk-parallel-item {\n",
       "  display: flex;\n",
       "  flex-direction: column;\n",
       "}\n",
       "\n",
       "#sk-container-id-2 div.sk-parallel-item:first-child::after {\n",
       "  align-self: flex-end;\n",
       "  width: 50%;\n",
       "}\n",
       "\n",
       "#sk-container-id-2 div.sk-parallel-item:last-child::after {\n",
       "  align-self: flex-start;\n",
       "  width: 50%;\n",
       "}\n",
       "\n",
       "#sk-container-id-2 div.sk-parallel-item:only-child::after {\n",
       "  width: 0;\n",
       "}\n",
       "\n",
       "/* Serial-specific style estimator block */\n",
       "\n",
       "#sk-container-id-2 div.sk-serial {\n",
       "  display: flex;\n",
       "  flex-direction: column;\n",
       "  align-items: center;\n",
       "  background-color: var(--sklearn-color-background);\n",
       "  padding-right: 1em;\n",
       "  padding-left: 1em;\n",
       "}\n",
       "\n",
       "\n",
       "/* Toggleable style: style used for estimator/Pipeline/ColumnTransformer box that is\n",
       "clickable and can be expanded/collapsed.\n",
       "- Pipeline and ColumnTransformer use this feature and define the default style\n",
       "- Estimators will overwrite some part of the style using the `sk-estimator` class\n",
       "*/\n",
       "\n",
       "/* Pipeline and ColumnTransformer style (default) */\n",
       "\n",
       "#sk-container-id-2 div.sk-toggleable {\n",
       "  /* Default theme specific background. It is overwritten whether we have a\n",
       "  specific estimator or a Pipeline/ColumnTransformer */\n",
       "  background-color: var(--sklearn-color-background);\n",
       "}\n",
       "\n",
       "/* Toggleable label */\n",
       "#sk-container-id-2 label.sk-toggleable__label {\n",
       "  cursor: pointer;\n",
       "  display: block;\n",
       "  width: 100%;\n",
       "  margin-bottom: 0;\n",
       "  padding: 0.5em;\n",
       "  box-sizing: border-box;\n",
       "  text-align: center;\n",
       "}\n",
       "\n",
       "#sk-container-id-2 label.sk-toggleable__label-arrow:before {\n",
       "  /* Arrow on the left of the label */\n",
       "  content: \"▸\";\n",
       "  float: left;\n",
       "  margin-right: 0.25em;\n",
       "  color: var(--sklearn-color-icon);\n",
       "}\n",
       "\n",
       "#sk-container-id-2 label.sk-toggleable__label-arrow:hover:before {\n",
       "  color: var(--sklearn-color-text);\n",
       "}\n",
       "\n",
       "/* Toggleable content - dropdown */\n",
       "\n",
       "#sk-container-id-2 div.sk-toggleable__content {\n",
       "  max-height: 0;\n",
       "  max-width: 0;\n",
       "  overflow: hidden;\n",
       "  text-align: left;\n",
       "  /* unfitted */\n",
       "  background-color: var(--sklearn-color-unfitted-level-0);\n",
       "}\n",
       "\n",
       "#sk-container-id-2 div.sk-toggleable__content.fitted {\n",
       "  /* fitted */\n",
       "  background-color: var(--sklearn-color-fitted-level-0);\n",
       "}\n",
       "\n",
       "#sk-container-id-2 div.sk-toggleable__content pre {\n",
       "  margin: 0.2em;\n",
       "  border-radius: 0.25em;\n",
       "  color: var(--sklearn-color-text);\n",
       "  /* unfitted */\n",
       "  background-color: var(--sklearn-color-unfitted-level-0);\n",
       "}\n",
       "\n",
       "#sk-container-id-2 div.sk-toggleable__content.fitted pre {\n",
       "  /* unfitted */\n",
       "  background-color: var(--sklearn-color-fitted-level-0);\n",
       "}\n",
       "\n",
       "#sk-container-id-2 input.sk-toggleable__control:checked~div.sk-toggleable__content {\n",
       "  /* Expand drop-down */\n",
       "  max-height: 200px;\n",
       "  max-width: 100%;\n",
       "  overflow: auto;\n",
       "}\n",
       "\n",
       "#sk-container-id-2 input.sk-toggleable__control:checked~label.sk-toggleable__label-arrow:before {\n",
       "  content: \"▾\";\n",
       "}\n",
       "\n",
       "/* Pipeline/ColumnTransformer-specific style */\n",
       "\n",
       "#sk-container-id-2 div.sk-label input.sk-toggleable__control:checked~label.sk-toggleable__label {\n",
       "  color: var(--sklearn-color-text);\n",
       "  background-color: var(--sklearn-color-unfitted-level-2);\n",
       "}\n",
       "\n",
       "#sk-container-id-2 div.sk-label.fitted input.sk-toggleable__control:checked~label.sk-toggleable__label {\n",
       "  background-color: var(--sklearn-color-fitted-level-2);\n",
       "}\n",
       "\n",
       "/* Estimator-specific style */\n",
       "\n",
       "/* Colorize estimator box */\n",
       "#sk-container-id-2 div.sk-estimator input.sk-toggleable__control:checked~label.sk-toggleable__label {\n",
       "  /* unfitted */\n",
       "  background-color: var(--sklearn-color-unfitted-level-2);\n",
       "}\n",
       "\n",
       "#sk-container-id-2 div.sk-estimator.fitted input.sk-toggleable__control:checked~label.sk-toggleable__label {\n",
       "  /* fitted */\n",
       "  background-color: var(--sklearn-color-fitted-level-2);\n",
       "}\n",
       "\n",
       "#sk-container-id-2 div.sk-label label.sk-toggleable__label,\n",
       "#sk-container-id-2 div.sk-label label {\n",
       "  /* The background is the default theme color */\n",
       "  color: var(--sklearn-color-text-on-default-background);\n",
       "}\n",
       "\n",
       "/* On hover, darken the color of the background */\n",
       "#sk-container-id-2 div.sk-label:hover label.sk-toggleable__label {\n",
       "  color: var(--sklearn-color-text);\n",
       "  background-color: var(--sklearn-color-unfitted-level-2);\n",
       "}\n",
       "\n",
       "/* Label box, darken color on hover, fitted */\n",
       "#sk-container-id-2 div.sk-label.fitted:hover label.sk-toggleable__label.fitted {\n",
       "  color: var(--sklearn-color-text);\n",
       "  background-color: var(--sklearn-color-fitted-level-2);\n",
       "}\n",
       "\n",
       "/* Estimator label */\n",
       "\n",
       "#sk-container-id-2 div.sk-label label {\n",
       "  font-family: monospace;\n",
       "  font-weight: bold;\n",
       "  display: inline-block;\n",
       "  line-height: 1.2em;\n",
       "}\n",
       "\n",
       "#sk-container-id-2 div.sk-label-container {\n",
       "  text-align: center;\n",
       "}\n",
       "\n",
       "/* Estimator-specific */\n",
       "#sk-container-id-2 div.sk-estimator {\n",
       "  font-family: monospace;\n",
       "  border: 1px dotted var(--sklearn-color-border-box);\n",
       "  border-radius: 0.25em;\n",
       "  box-sizing: border-box;\n",
       "  margin-bottom: 0.5em;\n",
       "  /* unfitted */\n",
       "  background-color: var(--sklearn-color-unfitted-level-0);\n",
       "}\n",
       "\n",
       "#sk-container-id-2 div.sk-estimator.fitted {\n",
       "  /* fitted */\n",
       "  background-color: var(--sklearn-color-fitted-level-0);\n",
       "}\n",
       "\n",
       "/* on hover */\n",
       "#sk-container-id-2 div.sk-estimator:hover {\n",
       "  /* unfitted */\n",
       "  background-color: var(--sklearn-color-unfitted-level-2);\n",
       "}\n",
       "\n",
       "#sk-container-id-2 div.sk-estimator.fitted:hover {\n",
       "  /* fitted */\n",
       "  background-color: var(--sklearn-color-fitted-level-2);\n",
       "}\n",
       "\n",
       "/* Specification for estimator info (e.g. \"i\" and \"?\") */\n",
       "\n",
       "/* Common style for \"i\" and \"?\" */\n",
       "\n",
       ".sk-estimator-doc-link,\n",
       "a:link.sk-estimator-doc-link,\n",
       "a:visited.sk-estimator-doc-link {\n",
       "  float: right;\n",
       "  font-size: smaller;\n",
       "  line-height: 1em;\n",
       "  font-family: monospace;\n",
       "  background-color: var(--sklearn-color-background);\n",
       "  border-radius: 1em;\n",
       "  height: 1em;\n",
       "  width: 1em;\n",
       "  text-decoration: none !important;\n",
       "  margin-left: 1ex;\n",
       "  /* unfitted */\n",
       "  border: var(--sklearn-color-unfitted-level-1) 1pt solid;\n",
       "  color: var(--sklearn-color-unfitted-level-1);\n",
       "}\n",
       "\n",
       ".sk-estimator-doc-link.fitted,\n",
       "a:link.sk-estimator-doc-link.fitted,\n",
       "a:visited.sk-estimator-doc-link.fitted {\n",
       "  /* fitted */\n",
       "  border: var(--sklearn-color-fitted-level-1) 1pt solid;\n",
       "  color: var(--sklearn-color-fitted-level-1);\n",
       "}\n",
       "\n",
       "/* On hover */\n",
       "div.sk-estimator:hover .sk-estimator-doc-link:hover,\n",
       ".sk-estimator-doc-link:hover,\n",
       "div.sk-label-container:hover .sk-estimator-doc-link:hover,\n",
       ".sk-estimator-doc-link:hover {\n",
       "  /* unfitted */\n",
       "  background-color: var(--sklearn-color-unfitted-level-3);\n",
       "  color: var(--sklearn-color-background);\n",
       "  text-decoration: none;\n",
       "}\n",
       "\n",
       "div.sk-estimator.fitted:hover .sk-estimator-doc-link.fitted:hover,\n",
       ".sk-estimator-doc-link.fitted:hover,\n",
       "div.sk-label-container:hover .sk-estimator-doc-link.fitted:hover,\n",
       ".sk-estimator-doc-link.fitted:hover {\n",
       "  /* fitted */\n",
       "  background-color: var(--sklearn-color-fitted-level-3);\n",
       "  color: var(--sklearn-color-background);\n",
       "  text-decoration: none;\n",
       "}\n",
       "\n",
       "/* Span, style for the box shown on hovering the info icon */\n",
       ".sk-estimator-doc-link span {\n",
       "  display: none;\n",
       "  z-index: 9999;\n",
       "  position: relative;\n",
       "  font-weight: normal;\n",
       "  right: .2ex;\n",
       "  padding: .5ex;\n",
       "  margin: .5ex;\n",
       "  width: min-content;\n",
       "  min-width: 20ex;\n",
       "  max-width: 50ex;\n",
       "  color: var(--sklearn-color-text);\n",
       "  box-shadow: 2pt 2pt 4pt #999;\n",
       "  /* unfitted */\n",
       "  background: var(--sklearn-color-unfitted-level-0);\n",
       "  border: .5pt solid var(--sklearn-color-unfitted-level-3);\n",
       "}\n",
       "\n",
       ".sk-estimator-doc-link.fitted span {\n",
       "  /* fitted */\n",
       "  background: var(--sklearn-color-fitted-level-0);\n",
       "  border: var(--sklearn-color-fitted-level-3);\n",
       "}\n",
       "\n",
       ".sk-estimator-doc-link:hover span {\n",
       "  display: block;\n",
       "}\n",
       "\n",
       "/* \"?\"-specific style due to the `<a>` HTML tag */\n",
       "\n",
       "#sk-container-id-2 a.estimator_doc_link {\n",
       "  float: right;\n",
       "  font-size: 1rem;\n",
       "  line-height: 1em;\n",
       "  font-family: monospace;\n",
       "  background-color: var(--sklearn-color-background);\n",
       "  border-radius: 1rem;\n",
       "  height: 1rem;\n",
       "  width: 1rem;\n",
       "  text-decoration: none;\n",
       "  /* unfitted */\n",
       "  color: var(--sklearn-color-unfitted-level-1);\n",
       "  border: var(--sklearn-color-unfitted-level-1) 1pt solid;\n",
       "}\n",
       "\n",
       "#sk-container-id-2 a.estimator_doc_link.fitted {\n",
       "  /* fitted */\n",
       "  border: var(--sklearn-color-fitted-level-1) 1pt solid;\n",
       "  color: var(--sklearn-color-fitted-level-1);\n",
       "}\n",
       "\n",
       "/* On hover */\n",
       "#sk-container-id-2 a.estimator_doc_link:hover {\n",
       "  /* unfitted */\n",
       "  background-color: var(--sklearn-color-unfitted-level-3);\n",
       "  color: var(--sklearn-color-background);\n",
       "  text-decoration: none;\n",
       "}\n",
       "\n",
       "#sk-container-id-2 a.estimator_doc_link.fitted:hover {\n",
       "  /* fitted */\n",
       "  background-color: var(--sklearn-color-fitted-level-3);\n",
       "}\n",
       "</style><div id=\"sk-container-id-2\" class=\"sk-top-container\"><div class=\"sk-text-repr-fallback\"><pre>GradientBoostingClassifier(random_state=42)</pre><b>In a Jupyter environment, please rerun this cell to show the HTML representation or trust the notebook. <br />On GitHub, the HTML representation is unable to render, please try loading this page with nbviewer.org.</b></div><div class=\"sk-container\" hidden><div class=\"sk-item\"><div class=\"sk-estimator fitted sk-toggleable\"><input class=\"sk-toggleable__control sk-hidden--visually\" id=\"sk-estimator-id-2\" type=\"checkbox\" checked><label for=\"sk-estimator-id-2\" class=\"sk-toggleable__label fitted sk-toggleable__label-arrow fitted\">&nbsp;&nbsp;GradientBoostingClassifier<a class=\"sk-estimator-doc-link fitted\" rel=\"noreferrer\" target=\"_blank\" href=\"https://scikit-learn.org/1.5/modules/generated/sklearn.ensemble.GradientBoostingClassifier.html\">?<span>Documentation for GradientBoostingClassifier</span></a><span class=\"sk-estimator-doc-link fitted\">i<span>Fitted</span></span></label><div class=\"sk-toggleable__content fitted\"><pre>GradientBoostingClassifier(random_state=42)</pre></div> </div></div></div></div>"
      ],
      "text/plain": [
       "GradientBoostingClassifier(random_state=42)"
      ]
     },
     "execution_count": 31,
     "metadata": {},
     "output_type": "execute_result"
    }
   ],
   "source": [
    "gbc_2004 = GradientBoostingClassifier(random_state=42)\n",
    "gbc_2004.fit(X_train, y_train.squeeze())"
   ]
  },
  {
   "cell_type": "markdown",
   "metadata": {},
   "source": [
    "### Exercise 10\n",
    "\n",
    "Use the `predict` method and your test data to generate a confusion matrix. \n",
    "\n",
    "What problem do you see with the result? Round the share of observations predicted to be delinquent to three decimal places and store them under `ex10_predicted_delinquent` in `results`."
   ]
  },
  {
   "cell_type": "code",
   "execution_count": 37,
   "metadata": {},
   "outputs": [
    {
     "data": {
      "application/vnd.microsoft.datawrangler.viewer.v0+json": {
       "columns": [
        {
         "name": "index",
         "rawType": "int64",
         "type": "integer"
        },
        {
         "name": "0",
         "rawType": "int64",
         "type": "integer"
        },
        {
         "name": "1",
         "rawType": "int64",
         "type": "integer"
        }
       ],
       "conversionMethod": "pd.DataFrame",
       "ref": "20f310d6-c7b6-407f-a065-e1a250e68614",
       "rows": [
        [
         "0",
         "3146",
         "9"
        ],
        [
         "1",
         "252",
         "4"
        ]
       ],
       "shape": {
        "columns": 2,
        "rows": 2
       }
      },
      "text/html": [
       "<div>\n",
       "<style scoped>\n",
       "    .dataframe tbody tr th:only-of-type {\n",
       "        vertical-align: middle;\n",
       "    }\n",
       "\n",
       "    .dataframe tbody tr th {\n",
       "        vertical-align: top;\n",
       "    }\n",
       "\n",
       "    .dataframe thead th {\n",
       "        text-align: right;\n",
       "    }\n",
       "</style>\n",
       "<table border=\"1\" class=\"dataframe\">\n",
       "  <thead>\n",
       "    <tr style=\"text-align: right;\">\n",
       "      <th></th>\n",
       "      <th>0</th>\n",
       "      <th>1</th>\n",
       "    </tr>\n",
       "  </thead>\n",
       "  <tbody>\n",
       "    <tr>\n",
       "      <th>0</th>\n",
       "      <td>3146</td>\n",
       "      <td>9</td>\n",
       "    </tr>\n",
       "    <tr>\n",
       "      <th>1</th>\n",
       "      <td>252</td>\n",
       "      <td>4</td>\n",
       "    </tr>\n",
       "  </tbody>\n",
       "</table>\n",
       "</div>"
      ],
      "text/plain": [
       "      0  1\n",
       "0  3146  9\n",
       "1   252  4"
      ]
     },
     "execution_count": 37,
     "metadata": {},
     "output_type": "execute_result"
    }
   ],
   "source": [
    "y_hat = gbc_2004.predict(X_test)\n",
    "conf_matrix = confusion_matrix(y_test, y_hat)\n",
    "conf_matrix = pd.DataFrame(conf_matrix)\n",
    "conf_matrix"
   ]
  },
  {
   "cell_type": "code",
   "execution_count": 38,
   "metadata": {},
   "outputs": [
    {
     "name": "stdout",
     "output_type": "stream",
     "text": [
      "Confusion matrix: \n",
      "      0  1\n",
      "0  3146  9\n",
      "1   252  4\n",
      "The share of values predicted delinquent is 0.004.\n"
     ]
    }
   ],
   "source": [
    "print(f\"Confusion matrix: \\n{conf_matrix}\")\n",
    "results[\"ex10_predicted_delinquent\"] = np.round(\n",
    "    conf_matrix.loc[:, 1].sum() / len(y_test), 3\n",
    ")\n",
    "\n",
    "print(f\"The share of values predicted delinquent is {results['ex10_predicted_delinquent']:.3f}.\"\n",
    ")\n"
   ]
  },
  {
   "cell_type": "markdown",
   "metadata": {},
   "source": [
    ">- In this problem, we see imbalanced data because the number of mortgages entering delinquency during the first two years is much less than number of mortgages not entering delinquency during the first two years.\n",
    ">- This imbalance will cause issues in our predictions, as we can see in our confusion matrix, where True Negatives dominate, while True Positives are underrepresented.\n",
    ">- The model appears to lean towards classifying the majority of instances as negatives, which can be problematic, especially since we are interested in correctly identifying instances of delinquency."
   ]
  },
  {
   "cell_type": "markdown",
   "metadata": {},
   "source": [
    "### Exercise 11\n",
    "\n",
    "With imbalanced data, it's not uncommon for classification algorithms to maximize performance by basically just predicting everything is the dominant class.\n",
    "\n",
    "One way to help reduce this behavior is to re-weight the data so that each observation of the dominant class gets less weight and each observation in the minority class gets more. A common default approach is to weigh each class with the reciprocal of its share of the data (so if delinquencies were 5% of our observations, we would give each delinquent observation a weight of 1/0.05 = 20, and each non-delinquent observation a weight of 1/0.95 = 1.0526...).\n",
    "\n",
    "To accomplish this, create an array with sample weights using this reciprocal rule for each observation and pass it to the `sample_weight` argument of `.fit()` and refit your model.\n",
    "\n",
    "To help the autograder, please:\n",
    "\n",
    "- Recalculate the share of observations that are delinquent and use the full calculated value to calculate weights, and\n",
    "- Re-instantiate your `GradientBoostingClassifier` with `random_state=42`.\n",
    "\n",
    "What share of observations are now predicted to be delinquent? Store the share under `ex11_share_delinquent_weighted` in `results`. **Round your answer to three decimal places.**"
   ]
  },
  {
   "cell_type": "code",
   "execution_count": null,
   "metadata": {},
   "outputs": [],
   "source": [
    "delinquency_share = y_train.mean()\n",
    "weights = np.where(y_train, 1 / delinquency_share, 1 / (1 - delinquent))\n",
    "\n",
    "gbc_weight = GradientBoostingClassifier(random_state=42)\n",
    "gbc_weight.fit(X_train, y_train.values.flatten(), sample_weight=weights.squeeze())\n",
    "\n",
    "y_hat_weighted = gbc_weight.predict(X_test)\n",
    "\n",
    "conf_matrix_weighted = confusion_matrix(y_test, y_hat)\n",
    "conf_matrix = pd.DataFrame(conf_matrix)\n",
    "conf_matrix\n",
    "\n",
    "results[\"ex11_predicted_delinquent\"] =      round(frac_pred_delq_weighted, 3)\n",
    "results[\"ex11_share_delinquent_weighted\"] = round(frac_pred_delq_weighted, 3)\n",
    "\n",
    "\n",
    "print(f\"Predicted to be delinquent (weighted model) = {results['ex11_predicted_delinquent']}.\")\n",
    "print(f\"Share predicted to be delinquent (weighted model) = {results['ex11_share_delinquent_weighted']}\")\n",
    "\n"
   ]
  },
  {
   "cell_type": "markdown",
   "metadata": {},
   "source": [
    ">The share of observations that are now predicted to be delinquent is 0.298."
   ]
  },
  {
   "cell_type": "markdown",
   "metadata": {},
   "source": [
    "### Exercise 12\n",
    "\n",
    "As you can tell, these weights are obviously parameters than can be tuned, but for the moment let's stick with the results of our model fit with reciprocal weights.\n",
    "\n",
    "A classification model like this will provide a default classification threshold, but we can also use `.predict_proba()` to get *probabilities* the model assigns to whether each observation is a `1`. This is helpful, because one thing we can do as data scientists is play with the probability threshold at which we call an observation a `1`. \n",
    "\n",
    "In other words, you can vary the threshold value `t` at which you say \"for any observation with `.predict_proba()` above a value `t` is a 1, and any observation with a value below `t` is a 0.\" Then for each `t`, you will get a set of predicted classes for which you can calculate the resulting number of true and false positives and negatives.\n",
    "\n",
    "(If you think in these terms, changing the sample weights we give the model will impact the orientation of the separating hyperplane the model creates to split the data; changing the classification threshold at which an observation is considered a `1` basically constitutes a simple shifting the hyperplane.)\n",
    "\n",
    "Using the results of our `GradientBoostingClassifier` fit with reciprocal sample weights, get the predicted probabilities for each observation in our test data. \n",
    "\n",
    "Plot the share of observations classified as delinquent against classification thresholds from 0 to 1."
   ]
  },
  {
   "cell_type": "code",
   "execution_count": null,
   "metadata": {},
   "outputs": [],
   "source": [
    "thresholds = np.linspace(0, 1, 101)\n",
    "y_probs = gbc.predict_proba(X_test)[:, 1]\n",
    "y_pred_t = (y_probs >= 0.5).astype(int)\n",
    "share_delinquent_t = y_pred_t.mean()\n",
    "\n",
    "share_del_t_list = []\n",
    "\n",
    "for t in thresholds:\n",
    "    y_pred_t = (y_probs >= t).astype(int)\n",
    "    share_t = y_pred_t.mean()\n",
    "    share_del_t_list.append(share_t)\n",
    "\n",
    "import matplotlib.pyplot as plt\n",
    "\n",
    "plt.plot(thresholds, share_del_t_list, label\n",
    "         ='Delinquency Share by Threshold')\n",
    "plt.xlabel('Threshold t')\n",
    "plt.ylabel('Fraction Predicted Delinquent')\n",
    "plt.title('Delinquency Share vs. Threshold')\n",
    "plt.legend()\n",
    "plt.show()\n"
   ]
  },
  {
   "cell_type": "markdown",
   "metadata": {},
   "source": [
    "### Exercise 13\n",
    "\n",
    "From this visualization, you should be able to see that by changing our classification threshold, we can change the share of mortgages predicted to be delinquent (e.g., classified as dangerous to buy). If we *really* wanted to avoid risk, we could use a threshold like 0.2, and our client would basically not buy any mortgages. Or we could choose a threshold like 0.8 and our client would buy almost all the mortgages available!\n",
    "\n",
    "So what threshold *should* we use? \n",
    "\n",
    "Assume that, for your client, a good mortgage has a value of 1. (We can think of this as a normalization of any actual financial value). A delinquent mortgage the client has purchased has a value of -20 — that is, if the client bought 21 mortgages and 1 turned out to be delinquent, they would break even. \n",
    "\n",
    "A good mortgage they fail to purchase they think is costing them about -0.05 times the value of a good mortgage. We can think of this as the \"opportunity cost\" of failing to buy a good mortgage and instead having to put their money somewhere else with a lower return.\n",
    "\n",
    "This is the same as saying, when we think about our classification matrix, that the relative value of an observation in each cell is (normalized to the value of a True Negative (a safe mortgage predicted to be safe) being 1):\n",
    "\n",
    "- True Positive: 0 (a mortgage correctly predicted to be delinquent our stakeholder didn't buy).\n",
    "- True Negative: 1 (a mortgage correctly predicted to be safe our stakeholder did buy).\n",
    "- False Negative: -20 (a mortgage incorrectly predicted to be safe our stakeholder did buy and that turned out to be delinquent).\n",
    "- False Positive: -0.05 (a mortgage incorrectly predicted to be delinquent our stakeholder didn't buy but which turned out to be safe).\n",
    "\n",
    "Again, without tuning our `sample_weights` (which you might do in a real analysis), what classification threshold would you choose? \n",
    "\n",
    "Do a grid search with ~1,000 grid steps. Find the threshold with the highest expected value and store it under the key `\"ex13_optimal_threshold\"`. **Round your answer to the nearest half tenth (0.05).** \n",
    "\n",
    "I know, I know — this is a _very_ weird rounding, but grid search is lumpy, so people will likely get slightly different answers, and rounding to two decimals isn't quite stable enough for an autograder. So your answer should be something like `0.15`, `0.20`, `0.25`, `0.30`, `0.35`, `0.40`, `0.45`, etc.\n",
    "\n",
    "Please also plot your threshold against value calculations."
   ]
  },
  {
   "cell_type": "code",
   "execution_count": null,
   "metadata": {},
   "outputs": [],
   "source": [
    "prob_test = gbc.predict_proba(X_test)[:, 1]\n",
    "\n",
    "threshold_grid = np.linspace(0, 1, 1000)\n",
    "\n",
    "best_threshold = None\n",
    "best_value = -9999.0\n",
    "best_threshold_raw = None\n",
    "\n",
    "for t in threshold_grid:\n",
    "    y_pred = (prob_test >= t).astype(int)\n",
    "    \n",
    "    tp = np.sum((y_test.values.flatten() == 1) & (y_pred == 1))\n",
    "    tn = np.sum((y_test.values.flatten() == 0) & (y_pred == 0))\n",
    "    fp = np.sum((y_test.values.flatten() == 0) & (y_pred == 1))\n",
    "    fn = np.sum((y_test.values.flatten() == 1) & (y_pred == 0))\n",
    "    \n",
    "    total_value = (0 * tp) + (1.0 * tn) + (-0.05 * fp) + (-20.0 * fn)\n",
    "    \n",
    "    avg_value = total_value / len(y_test)\n",
    "    \n",
    "    if avg_value > best_value:\n",
    "        best_value = avg_value\n",
    "        best_threshold_raw = t\n",
    "\n",
    "rounded_t = round(round(best_threshold_raw / 0.05) * 0.05, 2)\n",
    "\n",
    "results[\"ex13_optimal_threshold\"] = rounded_t\n",
    "print(\"Raw best threshold =\", best_threshold_raw)\n",
    "print(\"Rounded to nearest 0.05 =\", results[\"ex13_optimal_threshold\"])"
   ]
  },
  {
   "cell_type": "markdown",
   "metadata": {},
   "source": [
    "### Exercise 14\n",
    "\n",
    "What is the value your customer will get at that (rounded-to-nearest-half-tenth) threshold per mortgage available (i.e., assume a True Negative yields a value of 1, calculate the value generated by your test data at your rounded optimal threshold, then normalize by the number of observations in the test data). Store this normalized value in `ex14_normalized_value`. **Round your answer to two decimal places.**"
   ]
  },
  {
   "cell_type": "code",
   "execution_count": null,
   "metadata": {},
   "outputs": [],
   "source": [
    "chosen_threshold = results[\"ex13_optimal_threshold\"]\n",
    "\n",
    "y_pred_final = (prob_test >= chosen_threshold).astype(int)\n",
    "\n",
    "tp = np.sum((y_test.values.flatten() == 1) & (y_pred_final == 1))\n",
    "tn = np.sum((y_test.values.flatten() == 0) & (y_pred_final == 0))\n",
    "fp = np.sum((y_test.values.flatten() == 0) & (y_pred_final == 1))\n",
    "fn = np.sum((y_test.values.flatten() == 1) & (y_pred_final == 0))\n",
    "\n",
    "total_value = (0 * tp) + (1.0 * tn) + (-0.05 * fp) + (-20.0 * fn)\n",
    "avg_value = total_value / len(y_test)\n",
    "\n",
    "results[\"ex14_normalized_value\"] = round(avg_value, 2)\n",
    "print(f\"Value per mortgage at chosen threshold:{results['ex14_normalized_value']}.\")"
   ]
  },
  {
   "cell_type": "markdown",
   "metadata": {},
   "source": [
    "## Now To The Future\n",
    "\n",
    "Most of the time, at least as students, we never get to see how well our predictions do. We fit our models on our training data, then evaluate their performance against our test data, and because we're evaluating our model against data it hadn't seen during training, we act as if we're really evaluating how well our predictions would fair if deployed in the real world.\n",
    "\n",
    "But our mortgage data is from 2004, and as you may have noticed, 2004 was actually a while ago, which means we can now see how the model we trained on the first 24 months of payments on mortgages that originated in 2004 would do if we actually deployed it. To have our 24 months of payments, of course, the soonest we could have done the analysis above would have been in late 2006. So let's assume that your boss *immediately* deploys your model and starts buying up all the mortgages your model says should be purchased starting on January 1st 2007 and continued through December 31st 2007. \n",
    "\n",
    "Would you have gotten the average value per mortgage your model predicted? \n"
   ]
  },
  {
   "cell_type": "markdown",
   "metadata": {},
   "source": [
    "\n",
    "### Exercise 15\n",
    "\n",
    "In this [folder](https://github.com/nickeubank/MIDS_Data/tree/master/mortgages/2007) you will find data on mortgages originated in 2007 along with servicing data from 2007, 2008, and 2009.\n",
    "\n",
    "Please:\n",
    "\n",
    "- load this data (again, from a URL to help the autograder). \n",
    "- clean up your data as you did the data from the earlier period, \n",
    "- use patsy to prepare the data so you can use the model **from above** (the model that used the reciprocal weights on data from mortgages originating in 2004) with this data. \n",
    "\n",
    "In other words, we're using the model you trained on 2004 data to predict credit risk for these new mortgages. We're doing this to simulate what you would do if you were to actually put the model you fit in Exercise 11 \"into production\" to model the risk of new mortgages. So you won't use the `.fit()` method again, just the `.predict()` method with the new data.\n"
   ]
  },
  {
   "cell_type": "markdown",
   "metadata": {},
   "source": [
    "**Warning**: Because you are asking sklearn to use a model trained on one dataset to predict values using predictors from a second dataset, any difference in the structure of the second dataset will cause problems. For example, if `num_of_units` is an integer in the 2007 data when you try and run your predictions, but it was a float in the 2004 data, patsy will give the columns slightly different names and you'll get an error like this:\n",
    "\n",
    "```python\n",
    "ValueError: The feature names should match those that were passed during fit.\n",
    "Feature names unseen at fit time:\n",
    "- C(num_of_units)[T.2]\n",
    "- C(num_of_units)[T.3]\n",
    "- C(num_of_units)[T.4]\n",
    "Feature names seen at fit time, yet now missing:\n",
    "- C(num_of_units)[T.2.0]\n",
    "- C(num_of_units)[T.3.0]\n",
    "- C(num_of_units)[T.4.0]\n",
    "```\n",
    "\n",
    "This can be corrected by ensuring that `num_of_units` is of the same type when you run `dmatrices` for both datasets. "
   ]
  },
  {
   "cell_type": "markdown",
   "metadata": {
    "vscode": {
     "languageId": "plaintext"
    }
   },
   "source": [
    "Your final X matrix should still have 76 columns. As sanity checks, store the final number of observations in your data after using patsy to make a design matrix in `\"ex15_num_obs\"` and the share of mortgages in your design matrix that are actually delinquent in `\"ex15_share_delinquent\"`. **Round the share delinquent to three decimal places.**\n",
    "\n",
    "**Hint:** The 2007 delinquency rate should be higher than the 2004 delinquency rate for reasons you can probably figure out if you google it. Something happened with mortgages between 2007 and 2009..."
   ]
  },
  {
   "cell_type": "code",
   "execution_count": null,
   "metadata": {},
   "outputs": [],
   "source": [
    "# Load 2007 origination\n",
    "col_mort_2007 = [\n",
    "    \"Credit Score\",\n",
    "    \"First Payment Date\",\n",
    "    \"First Time Homebuyer Flag\",\n",
    "    \"Maturity Date\",\n",
    "    \"Metropolitan Statistical Area (MSA) Or Metropolitan Division\",\n",
    "    \"Mortgage Insurance Percentage (MI %)\",\n",
    "    \"Number of Units\",\n",
    "    \"Occupancy Status\",\n",
    "    \"Original Combined Loan-to-Value (CLTV)\",\n",
    "    \"Original Debt-to-Income (DTI) Ratio\",\n",
    "    \"Original UPB\",\n",
    "    \"Original Loan-to-Value (LTV)\",\n",
    "    \"Original Interest Rate\",\n",
    "    \"Channel\",\n",
    "    \"Prepayment Penalty Mortgage (PPM) Flag\",\n",
    "    \"Amortization Type (Formerly Product Type)\",\n",
    "    \"Property State\",\n",
    "    \"Property Type\",\n",
    "    \"Postal Code\",\n",
    "    \"Loan Sequence Number\",\n",
    "    \"Loan Purpose\",\n",
    "    \"Original Loan Term\",\n",
    "    \"Number of Borrowers\",\n",
    "    \"Seller Name\",\n",
    "    \"Servicer Name\",\n",
    "    \"Super Conforming Flag\",\n",
    "    \"Pre-HARP Loan Sequence Number\",\n",
    "    \"Program Indicator\",\n",
    "    \"HARP Indicator\",\n",
    "    \"Property Valuation Method\",\n",
    "    \"Interest Only (I/O) Indicator\",\n",
    "    \"Mortgage Insurance Cancellation Indicator\",\n",
    "]\n",
    "\n",
    "db_mort_2007 = pd.read_csv(\n",
    "    \"https://github.com/nickeubank/MIDS_Data/raw/refs/heads/master/\"\n",
    "    \"mortgages/2007/sample_orig_2007_standard_mortgages.txt.zip\",\n",
    "    compression=\"zip\",\n",
    "    sep=\"|\",\n",
    "    header=None,\n",
    "    names=col_mort_2007,\n",
    "    index_col=None,\n",
    ")\n",
    "\n",
    "print(db_mort_2007.shape)\n",
    "db_mort_2007.head(2)"
   ]
  },
  {
   "cell_type": "code",
   "execution_count": null,
   "metadata": {},
   "outputs": [],
   "source": [
    "# Load 2007 servicing\n",
    "col_svcg_2007 = [\n",
    "    \"Loan Sequence Number\",\n",
    "    \"Monthly Reporting Period\",\n",
    "    \"Current Actual UPB\",\n",
    "    \"Current Loan Delinquency Status\",\n",
    "    \"Loan Age\",\n",
    "    \"Remaining Months to Legal Maturity\",\n",
    "    \"Defect Settlement Date\",\n",
    "    \"Modification Flag\",\n",
    "    \"Zero Balance Code\",\n",
    "    \"Zero Balance Effective Date\",\n",
    "    \"Current Interest Rate\",\n",
    "    \"Current Deferred UPB\",\n",
    "    \"Due Date of Last Paid Installment (DDLPI)\",\n",
    "    \"MI Recoveries\",\n",
    "    \"Net Sales Proceeds\",\n",
    "    \"Non MI Recoveries\",\n",
    "    \"Expenses\",\n",
    "    \"Legal Costs\",\n",
    "    \"Maintenance and Preservation Costs\",\n",
    "    \"Taxes and Insurance\",\n",
    "    \"Miscellaneous Expenses\",\n",
    "    \"Actual Loss Calculation\",\n",
    "    \"Modification Cost\",\n",
    "    \"Step Modification Flag\",\n",
    "    \"Deferred Payment Plan\",\n",
    "    \"Estimated Loan-to-Value (ELTV)\",\n",
    "    \"Zero Balance Removal UPB\",\n",
    "    \"Delinquent Accrued Interest\",\n",
    "    \"Delinquency Due to Disaster\",\n",
    "    \"Borrower Assistance Status Code\",\n",
    "    \"Current Month Modification Cost\",\n",
    "    \"Interest Bearing UPB\",\n",
    "]\n",
    "\n",
    "db_svcg_2007 = pd.read_csv(\n",
    "    \"https://github.com/nickeubank/MIDS_Data/raw/refs/heads/master/\"\n",
    "    \"mortgages/2007/sample_svcg_2007_threeyears_standard_mortgages.txt.zip\",\n",
    "    sep=\"|\",\n",
    "    header=None,\n",
    "    names=col_svcg_2007,\n",
    "    dtype={\n",
    "        \"Current Loan Delinquency Status\": str,\n",
    "        \"Modification Flag\": str,\n",
    "        \"Step Modification Flag\": str,\n",
    "    }\n",
    ")\n",
    "\n",
    "print(db_svcg_2007.shape)\n",
    "db_svcg_2007.head(2)"
   ]
  },
  {
   "cell_type": "code",
   "execution_count": null,
   "metadata": {},
   "outputs": [],
   "source": [
    "# Merge and create delinquency indicator.\n",
    "db_merge_2007 = pd.merge(\n",
    "    db_mort_2007,\n",
    "    db_svcg_2007,\n",
    "    on=\"Loan Sequence Number\",\n",
    "    how=\"inner\",\n",
    ")\n",
    "db_merge_2007[\"Indicator\"] = (\n",
    "    db_merge_2007.groupby(\"Loan Sequence Number\")[\n",
    "        \"Current Loan Delinquency Status\"]\n",
    "    .transform(lambda x: (x != \"0\").any())\n",
    "    .astype(int)\n",
    ")\n",
    "\n",
    "print(db_merge_2007.shape)\n",
    "db_merge_2007.head(2)"
   ]
  },
  {
   "cell_type": "code",
   "execution_count": null,
   "metadata": {},
   "outputs": [],
   "source": [
    "# Drop duplicates at the loan level, keep the same key columns\n",
    "db_merge_2007 = db_merge_2007.drop_duplicates(subset=\"Loan Sequence Number\")\n",
    "db_merge_2007.shape"
   ]
  },
  {
   "cell_type": "code",
   "execution_count": null,
   "metadata": {},
   "outputs": [],
   "source": [
    "db_merge_2007[\"Credit Score\"] = db_merge_2007[\"Credit Score\"].replace(9999, np.nan)\n",
    "db_merge_2007[\"First Time Homebuyer Flag\"] = db_merge_2007[\n",
    "    \"First Time Homebuyer Flag\"].replace(\n",
    "    \"9\", np.nan\n",
    ")\n",
    "db_merge_2007[\"Mortgage Insurance Percentage (MI %)\"] = db_merge_2007[\n",
    "    \"Mortgage Insurance Percentage (MI %)\"\n",
    "].replace(999, np.nan)\n",
    "db_merge_2007[\"Number of Units\"] = db_merge_2007[\"Number of Units\"].replace(\n",
    "    99, np.nan)\n",
    "db_merge_2007[\"Occupancy Status\"] = db_merge_2007[\"Occupancy Status\"].replace(\n",
    "    \"9\", np.nan)\n",
    "db_merge_2007[\"Original Debt-to-Income (DTI) Ratio\"] = db_merge_2007[\n",
    "    \"Original Debt-to-Income (DTI) Ratio\"\n",
    "].replace(999, np.nan)\n",
    "db_merge_2007[\"Original Loan-to-Value (LTV)\"] = db_merge_2007[\n",
    "    \"Original Loan-to-Value (LTV)\"\n",
    "].replace(999, np.nan)\n",
    "db_merge_2007[\"Channel\"] = db_merge_2007[\"Channel\"].replace(\"9\", np.nan)\n",
    "db_merge_2007[\"Property Type\"] = db_merge_2007[\"Property Type\"].replace(\n",
    "    \"99\", np.nan)\n",
    "db_merge_2007[\"Number of Borrowers\"] = db_merge_2007[\"Number of Borrowers\"].replace(\n",
    "    99, np.nan)"
   ]
  },
  {
   "cell_type": "code",
   "execution_count": null,
   "metadata": {},
   "outputs": [],
   "source": [
    "db_2007_model = db_merge_2007[\n",
    "    [\n",
    "        \"Loan Sequence Number\",\n",
    "        \"Credit Score\",\n",
    "        \"First Time Homebuyer Flag\",\n",
    "        \"Number of Units\",\n",
    "        \"Mortgage Insurance Percentage (MI %)\",\n",
    "        \"Occupancy Status\",\n",
    "        \"Original Debt-to-Income (DTI) Ratio\",\n",
    "        \"Original UPB\",\n",
    "        \"Original Loan-to-Value (LTV)\",\n",
    "        \"Original Interest Rate\",\n",
    "        \"Channel\",\n",
    "        \"Prepayment Penalty Mortgage (PPM) Flag\",\n",
    "        \"Amortization Type (Formerly Product Type)\",\n",
    "        \"Property State\",\n",
    "        \"Property Type\",\n",
    "        \"Original Loan Term\",\n",
    "        \"Number of Borrowers\",\n",
    "        \"Interest Only (I/O) Indicator\",\n",
    "        \"Indicator\",\n",
    "    ]\n",
    "]\n",
    "print(db_2007_model.shape)\n",
    "db_2007_model.head(2)"
   ]
  },
  {
   "cell_type": "code",
   "execution_count": null,
   "metadata": {},
   "outputs": [],
   "source": [
    "import re\n",
    "\n",
    "#excluding this portion since it was not used in 2004 dataset\n",
    "#db_2007_model.columns = [re.sub(\" \", \"_\", c) for c in\n",
    "#                         db_2007_model.columns]\n",
    "#db_2007_model.columns = [re.sub(\"[%/()\\-]\", \"\", c) for c in\n",
    "#                         db_2007_model.columns]\n",
    "\n",
    "# same formula you used for 2004\n",
    "# (If you removed \"-1\" previously, be consistent here as well.)\n",
    "\n",
    "#had to remove the starting Q\n",
    "formula_2007 = (\n",
    "    'Indicator~Q(\"Credit Score\") +'\n",
    "    'C(Q(\"First Time Homebuyer Flag\")) +'\n",
    "    'C(Q(\"Number of Units\")) + '\n",
    "    'Q(\"Mortgage Insurance Percentage (MI %)\") +'\n",
    "    'C(Q(\"Occupancy Status\")) + '\n",
    "    'Q(\"Original Debt-to-Income (DTI) Ratio\") + '\n",
    "    'Q(\"Original UPB\") + '\n",
    "    'Q(\"Original Loan-to-Value (LTV)\") + '\n",
    "    'Q(\"Original Interest Rate\") + '\n",
    "    'C(Q(\"Channel\")) + '\n",
    "    'C(Q(\"Prepayment Penalty Mortgage (PPM) Flag\")) + '\n",
    "    'C(Q(\"Amortization Type (Formerly Product Type)\")) + '\n",
    "    'C(Q(\"Property State\")) +'\n",
    "    'C(Q(\"Property Type\")) + '\n",
    "    'Q(\"Original Loan Term\") +'\n",
    "    'C(Q(\"Number of Borrowers\")) + '\n",
    "    'C(Q(\"Interest Only (I/O) Indicator\"))'\n",
    ")\n",
    "\n",
    "#TODO recently added- force the unit\n",
    "db_2007_model[\"Number of Units\"] = db_2007_model[\"Number of Units\"].astype(float)\n",
    "\n",
    "\n",
    "y_2007, X_2007 = dmatrices(formula_2007, data=db_2007_model,\n",
    "                           return_type=\"dataframe\")\n",
    "\n",
    "# 6) final number of observations:\n",
    "results[\"ex15_num_obs\"] = X_2007.shape[0]\n",
    "\n",
    "# 7) actual fraction delinquent\n",
    "frac_del_2007 = y_2007[\"Indicator\"].mean()\n",
    "results[\"ex15_share_delinquent\"] = round(frac_del_2007, 3)\n",
    "\n",
    "print(\"2007 final #obs:\", results[\"ex15_num_obs\"])\n",
    "print(\"2007 share delinquent:\", results[\"ex15_share_delinquent\"])\n"
   ]
  },
  {
   "cell_type": "markdown",
   "metadata": {},
   "source": [
    "### Exercise 16\n",
    "\n",
    "\n"
   ]
  },
  {
   "cell_type": "markdown",
   "metadata": {},
   "source": [
    "Had your stakeholder purchased all the mortgages originating in 2007 using your model trained on 2004 mortgages, what would the average normalized value of those mortgages be?\n",
    "\n",
    "Store your result under the key `\"ex16_normalized_value_2007\"`. **Round your answer to 2 decimal places.**\n",
    "\n",
    "Calculate the actual return your model provided as a percentage of the predicted return (e.g., `100 * results[\"ex16_normalized_value_2007\"] / results[\"ex14_normalized_value\"]`, so 1 is one percent, 100 is 100 percent). \n",
    "\n",
    "To be clear, you should do this calculation with the *rounded* values you stored in `results` (again, for the autograder — in general you should never round until the end of calculations, but we're trying to smooth little differences).\n",
    "\n",
    "Store this result as `\"ex16_final_return_pct\"`. **Round this calculated percentage one decimal place.**\n"
   ]
  },
  {
   "cell_type": "code",
   "execution_count": null,
   "metadata": {},
   "outputs": [],
   "source": [
    "chosen_threshold_13 = results[\"ex13_optimal_threshold\"]\n",
    "prob_2007 = gbc.predict_proba(X_2007)[:, 1]\n",
    "\n",
    "y_pred_2007 = (prob_2007 >= chosen_threshold_13).astype(int)\n",
    "\n",
    "y_true_2007 = y_2007.values.flatten()\n",
    "\n",
    "tp_07 = np.sum((y_true_2007 == 1) & (y_pred_2007 == 1))\n",
    "tn_07 = np.sum((y_true_2007 == 0) & (y_pred_2007 == 0))\n",
    "fp_07 = np.sum((y_true_2007 == 0) & (y_pred_2007 == 1))\n",
    "fn_07 = np.sum((y_true_2007 == 1) & (y_pred_2007 == 0))\n",
    "\n",
    "total_value_2007 = (0 * tp_07) + (1.0 * tn_07) + (-0.05 * fp_07)\n",
    "+ (-20.0 * fn_07)\n",
    "avg_value_2007   = total_value_2007 / len(y_true_2007)\n",
    "\n",
    "results[\"ex16_normalized_value_2007\"] = round(avg_value_2007, 2)\n",
    "\n",
    "# Compare to ex14_normalized_value from your 2004 test:\n",
    "predicted_2004_value = results[\"ex14_normalized_value\"]  # (already stored, 2 decimals)\n",
    "\n",
    "ratio_percent = 100.0 * results[\n",
    "    \"ex16_normalized_value_2007\"] / predicted_2004_value\n",
    "results[\"ex16_final_return_pct\"] = round(ratio_percent, 1)\n",
    "\n",
    "print(\"Normalized value in 2007 data:\", results[\n",
    "    \"ex16_normalized_value_2007\"])\n",
    "print(\"Ratio (pct) of 2004 expected performance:\", results[\n",
    "    \"ex16_final_return_pct\"], \"%\")\n"
   ]
  },
  {
   "cell_type": "markdown",
   "metadata": {},
   "source": [
    "### Exercise 17\n",
    "\n",
    "How did the performance of your model against your test data (from 2004) compare to your model's actual performance in later years (the 2007 data)? What lesson from our class readings does this illustrate, and how does it relate to internal and external validity?\n",
    "\n",
    "The question is worth several points, and is meant to be the place where you reflect on why I made you do all this. Your answer should not be a couple sentences."
   ]
  },
  {
   "cell_type": "markdown",
   "metadata": {},
   "source": [
    ">When we tested on the 2004 hold‑out set, the model’s performance looked decent based on the cost function. However, mortgages originated in 2007 turned out to have much higher delinquency rates, and the average value of the model’s recommended purchases was dramatically lower than the test predictions. This is a prime example of external validity failure or distribution shift: the environment changed (i.e., the lead‑up to the 2008 financial crisis), so a model trained on 2004 data failed to generalize to 2007. It also illustrates the lesson from our readings that good test scores on one dataset do not guarantee good real‑world performance if conditions or distributions shift."
   ]
  },
  {
   "cell_type": "code",
   "execution_count": null,
   "metadata": {},
   "outputs": [],
   "source": [
    "print(\"results keys:\", results.keys())\n"
   ]
  },
  {
   "cell_type": "code",
   "execution_count": null,
   "metadata": {},
   "outputs": [],
   "source": [
    "#TODO adding to try and remove the extra key item \n",
    "del results[\"ex10_predicted_delinquent\"]\n",
    "\n",
    "\n",
    "assert set(results.keys()) == {\n",
    "    \"ex2_merge_type\",\n",
    "    \"ex5_num_mortgages\",\n",
    "    \"ex5_share_delinquent\",\n",
    "    \"ex7_num_obs\",\n",
    "    \"ex11_predicted_delinquent\",\n",
    "    \"ex11_share_delinquent_weighted\",\n",
    "    \"ex13_optimal_threshold\",\n",
    "    \"ex14_normalized_value\",\n",
    "    \"ex15_num_obs\",\n",
    "    \"ex15_share_delinquent\",\n",
    "    \"ex16_final_return_pct\",\n",
    "    \"ex16_normalized_value_2007\",\n",
    "}\n"
   ]
  },
  {
   "cell_type": "code",
   "execution_count": null,
   "metadata": {},
   "outputs": [],
   "source": [
    "for key, value in results.items():\n",
    "    print(value)"
   ]
  }
 ],
 "metadata": {
  "kernelspec": {
   "display_name": "base",
   "language": "python",
   "name": "python3"
  },
  "language_info": {
   "codemirror_mode": {
    "name": "ipython",
    "version": 3
   },
   "file_extension": ".py",
   "mimetype": "text/x-python",
   "name": "python",
   "nbconvert_exporter": "python",
   "pygments_lexer": "ipython3",
   "version": "3.12.7"
  }
 },
 "nbformat": 4,
 "nbformat_minor": 2
}
