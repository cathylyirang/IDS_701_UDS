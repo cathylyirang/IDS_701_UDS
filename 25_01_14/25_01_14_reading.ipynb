{
 "cells": [
  {
   "cell_type": "markdown",
   "metadata": {},
   "source": [
    "# Solving Problems by Answering Questions - reading\n",
    "\n",
    "1. Syllabus\n",
    "    - Course description\n",
    "        - Use real world data to answer questions\n",
    "            - Experiments and A/B testing\n",
    "            - Causal inference\n",
    "        - Key to pass\n",
    "            - Reading + exercise\n",
    "        - Big ideas\n",
    "            - Use data to answer - questions not just max AUC score\n",
    "            - Choose to use proper tool\n",
    "            - Reasoning rigorously about uncertainty and error\n",
    "        - Prerequisite \n",
    "            - Inferential stat and stat modeling\n",
    "            - Python and R\n",
    "\n",
    "\n",
    "        - Assignment and grading\n",
    "            - Participation 20%\n",
    "            - Midterm 20%\n",
    "            - Exercise 20% - drop lowest \n",
    "            - Reading reflection and quiz 20% - drop lowest \n",
    "            - Team project 20%\n",
    "        Question: lecture video?\n",
    "        - Solving problems\n",
    "        Data science is about solving problems\n",
    "        did you make your stakeholder’s life better by solving a problem they faced?\n",
    "        Data scientists solve problems by answering questions, and the question you are asking determines what tool is appropriate.\n",
    "        what question, if answered, would make it easier to solve this problem?\n",
    "        Reasoning rigorously about uncertainty and errors is what differentiates good data scientists from great data scientists\n",
    "\n",
    "\n"
   ]
  }
 ],
 "metadata": {
  "language_info": {
   "name": "python"
  }
 },
 "nbformat": 4,
 "nbformat_minor": 2
}
