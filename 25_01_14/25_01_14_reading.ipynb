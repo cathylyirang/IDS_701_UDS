{
 "cells": [
  {
   "cell_type": "markdown",
   "metadata": {},
   "source": [
    "# Solving Problems by Answering Questions - reading\n",
    "\n",
    "1. Syllabus\n",
    "    - Course description\n",
    "        - Use real world data to answer questions\n",
    "            - Experiments and A/B testing\n",
    "            - Causal inference\n",
    "        - Key to pass\n",
    "            - Reading + exercise\n",
    "        - Big ideas\n",
    "            - Use data to answer - questions not just max AUC score\n",
    "            - Choose to use proper tool\n",
    "            - Reasoning rigorously about uncertainty and error\n",
    "        - Prerequisite \n",
    "            - Inferential stat and stat modeling\n",
    "            - Python and R\n",
    "\n",
    "\n",
    "        - Assignment and grading\n",
    "            - Participation 20%\n",
    "            - Midterm 20%\n",
    "            - Exercise 20% - drop lowest \n",
    "            - Reading reflection and quiz 20% - drop lowest \n",
    "            - Team project 20%\n",
    "        Question: lecture video?\n",
    "        - Solving problems\n",
    "        Data science is about solving problems\n",
    "        did you make your stakeholder’s life better by solving a problem they faced?\n",
    "        Data scientists solve problems by answering questions, and the question you are asking determines what tool is appropriate.\n",
    "        what question, if answered, would make it easier to solve this problem?\n",
    "        Reasoning rigorously about uncertainty and errors is what differentiates good data scientists from great data scientists\n",
    "\n",
    "# Chapter 1 Solving problems\n",
    "1. Idea 1: Solving Problems\n",
    "2. Idea 2: Solving Problems by Answering Questions\n",
    "    - Exploratory Questions: Questions about patterns and structure in the world.\n",
    "        - Help us to understand the problem space better and prioritizing subsequent efforts.\n",
    "    - Passive Prediction Questions: Questions about likely outcomes for individual observations or entities.\n",
    "        - Useful for targeting individuals for additional attention or automating certain tasks.\n",
    "    - Causal Questions: Questions about the consequences of actions or interventions being considered.\n",
    "        - Useful for deciding on appropriate courses of action.\n",
    "\n",
    "3. Idea 3: Being Thoughtful About Being Wrong\n",
    "\n"
   ]
  }
 ],
 "metadata": {
  "language_info": {
   "name": "python"
  }
 },
 "nbformat": 4,
 "nbformat_minor": 2
}
