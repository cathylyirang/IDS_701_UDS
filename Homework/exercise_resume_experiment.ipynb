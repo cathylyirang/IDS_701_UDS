{
 "cells": [
  {
   "attachments": {},
   "cell_type": "markdown",
   "metadata": {},
   "source": [
    "# Resume Experiment Analysis\n",
    "\n",
    "How much harder is it to get a job in the United States if you are Black than if you are White? Or, expressed differently, what is the *effect* of race on the difficulty of getting a job in the US?\n",
    "\n",
    "In this exercise, we will be analyzing data from a real world experiment designed to help answer this question. Namely, we will be analyzing data from a randomized experiment in which 4,870 ficticious resumes were sent out to employers in response to job adverts in Boston and Chicago in 2001. The resumes differ in various attributes including the names of the applicants, and different resumes were randomly allocated to job openings. \n",
    "\n",
    "The \"experiment\" part of the experiment is that resumes were randomly assigned Black- or White-sounding names, and then watched to see whether employers called the \"applicants\" with Black-sounding names at the same rate as the applicants with the White-sounding names.\n",
    "\n",
    "(Which names constituted \"Black-sounding names\" and \"White-sounding names\" was determined by analyzing names on Massachusetts birth certificates to determine which names were most associated with Black and White children, and then surveys were used to validate that the names were perceived as being associated with individuals of one racial category or the other. Also, please note I subscribe to the logic of [Kwame Anthony Appiah](https://www.theatlantic.com/ideas/archive/2020/06/time-to-capitalize-blackand-white/613159/) and chose to capitalize both the B in Black and the W in White). \n",
    "\n",
    "You can get access to original article [here](https://www.aeaweb.org/articles?id=10.1257/0002828042002561). \n",
    "\n",
    "**Note to Duke students:** if you are on the Duke campus network, you'll be able to access almost any academic journal articles directly; if you are off campus and want access, you can just go to the [Duke Library](https://library.duke.edu/) website and search for the article title. Once you find it, you'll be asked to log in, after which you'll have full access to the article. You will also find this pattern holds true at nearly any major University in the US.\n"
   ]
  },
  {
   "cell_type": "markdown",
   "metadata": {},
   "source": [
    "\n",
    "## Gradescope Autograding\n",
    "\n",
    "Please follow [all standard guidance](https://www.practicaldatascience.org/ids720_specific/autograder_guidelines.html) for submitting this assignment to the Gradescope autograder, including storing your solutions in a dictionary called `results` and ensuring your notebook runs from the start to completion without any errors.\n",
    "\n",
    "For this assignment, please name your file `exercise_resume_experiment.ipynb` before uploading.\n",
    "\n",
    "You can check that you have answers for all questions in your `results` dictionary with this code:\n",
    "\n",
    "```python\n",
    "assert set(results.keys()) == {\n",
    "    \"ex2_pvalue_computerskills\",\n",
    "    \"ex2_pvalue_female\",\n",
    "    \"ex2_pvalue_yearsexp\",\n",
    "    \"ex3_pvalue_education\",\n",
    "    \"ex4_validity\",\n",
    "    \"ex5_pvalue\",\n",
    "    \"ex5_white_advantage_percent\",\n",
    "    \"ex5_white_advantage_percentage_points\",\n",
    "    \"ex6_black_pvalue\",\n",
    "    \"ex8_black_college\",\n",
    "    \"ex8_black_nocollege\",\n",
    "    \"ex8_college_heterogeneity\",\n",
    "    \"ex9_gender_and_discrimination\",\n",
    "    \"ex10_experiment_v_us\",\n",
    "}\n",
    "```\n",
    "\n",
    "\n",
    "### Submission Limits\n",
    "\n",
    "Please remember that you are **only allowed THREE submissions to the autograder.** Your last submission (if you submit 3 or fewer times), or your third submission (if you submit more than 3 times) will determine your grade Submissions that error out will **not** count against this total."
   ]
  },
  {
   "attachments": {},
   "cell_type": "markdown",
   "metadata": {},
   "source": [
    "## Checking for Balance\n",
    "\n",
    "The first step in analyzing any experiment is to check whether you have *balance* across your treatment arms—that is to say, do the people who were randomly assigned to the treatment group look like the people who were randomly assigned to the control group. Or in this case, do the resumes that ended up with Black-sounding names look like the resumes with White-sounding names. \n",
    "\n",
    "Checking for balance is critical for two reasons. First, it's always possible that random assignment will create profoundly different groups—the *Large of Large Numbers* is only a \"law\" in the limit. So we want to make sure we have reasonably similar groups from the outset. And second, it's also always possible that the randomization wasn't actually implemented correctly—you would be amazed at the number of ways that \"random assignment\" can go wrong! So if you ever do find you're getting unbalanced data, you should worry not only about whether the groups have baseline differences, but also whether the \"random assignment\" was actually random!\n",
    "\n",
    "### Exercise 1\n",
    "\n",
    "Download the data set from this experiment (`resume_experiment.dta`) from [github](https://github.com/nickeubank/MIDS_Data/tree/master/resume_experiment). To aid the autograder, please load the data directly from a URL.\n"
   ]
  },
  {
   "cell_type": "code",
   "execution_count": 6,
   "metadata": {},
   "outputs": [
    {
     "name": "stdout",
     "output_type": "stream",
     "text": [
      "Index(['education', 'ofjobs', 'yearsexp', 'computerskills', 'call', 'female',\n",
      "       'black'],\n",
      "      dtype='object')\n"
     ]
    },
    {
     "data": {
      "application/vnd.microsoft.datawrangler.viewer.v0+json": {
       "columns": [
        {
         "name": "index",
         "rawType": "int64",
         "type": "integer"
        },
        {
         "name": "education",
         "rawType": "int8",
         "type": "integer"
        },
        {
         "name": "ofjobs",
         "rawType": "int8",
         "type": "integer"
        },
        {
         "name": "yearsexp",
         "rawType": "int8",
         "type": "integer"
        },
        {
         "name": "computerskills",
         "rawType": "int8",
         "type": "integer"
        },
        {
         "name": "call",
         "rawType": "float32",
         "type": "float"
        },
        {
         "name": "female",
         "rawType": "float32",
         "type": "float"
        },
        {
         "name": "black",
         "rawType": "float32",
         "type": "float"
        }
       ],
       "conversionMethod": "pd.DataFrame",
       "ref": "6cc54684-8100-45a9-a4aa-6eea1b2ecfa0",
       "rows": [
        [
         "3648",
         "4",
         "2",
         "6",
         "0",
         "0.0",
         "0.0",
         "1.0"
        ],
        [
         "3677",
         "4",
         "3",
         "4",
         "1",
         "0.0",
         "1.0",
         "1.0"
        ]
       ],
       "shape": {
        "columns": 7,
        "rows": 2
       }
      },
      "text/html": [
       "<div>\n",
       "<style scoped>\n",
       "    .dataframe tbody tr th:only-of-type {\n",
       "        vertical-align: middle;\n",
       "    }\n",
       "\n",
       "    .dataframe tbody tr th {\n",
       "        vertical-align: top;\n",
       "    }\n",
       "\n",
       "    .dataframe thead th {\n",
       "        text-align: right;\n",
       "    }\n",
       "</style>\n",
       "<table border=\"1\" class=\"dataframe\">\n",
       "  <thead>\n",
       "    <tr style=\"text-align: right;\">\n",
       "      <th></th>\n",
       "      <th>education</th>\n",
       "      <th>ofjobs</th>\n",
       "      <th>yearsexp</th>\n",
       "      <th>computerskills</th>\n",
       "      <th>call</th>\n",
       "      <th>female</th>\n",
       "      <th>black</th>\n",
       "    </tr>\n",
       "  </thead>\n",
       "  <tbody>\n",
       "    <tr>\n",
       "      <th>3648</th>\n",
       "      <td>4</td>\n",
       "      <td>2</td>\n",
       "      <td>6</td>\n",
       "      <td>0</td>\n",
       "      <td>0.0</td>\n",
       "      <td>0.0</td>\n",
       "      <td>1.0</td>\n",
       "    </tr>\n",
       "    <tr>\n",
       "      <th>3677</th>\n",
       "      <td>4</td>\n",
       "      <td>3</td>\n",
       "      <td>4</td>\n",
       "      <td>1</td>\n",
       "      <td>0.0</td>\n",
       "      <td>1.0</td>\n",
       "      <td>1.0</td>\n",
       "    </tr>\n",
       "  </tbody>\n",
       "</table>\n",
       "</div>"
      ],
      "text/plain": [
       "      education  ofjobs  yearsexp  computerskills  call  female  black\n",
       "3648          4       2         6               0   0.0     0.0    1.0\n",
       "3677          4       3         4               1   0.0     1.0    1.0"
      ]
     },
     "execution_count": 6,
     "metadata": {},
     "output_type": "execute_result"
    }
   ],
   "source": [
    "import pandas as pd\n",
    "import numpy as np\n",
    "\n",
    "db_resume = pd.read_stata(\n",
    "    \"https://github.com/nickeubank/MIDS_Data/\"\n",
    "    \"raw/refs/heads/master/resume_experiment/\"\n",
    "    \"resume_experiment.dta\"\n",
    ")\n",
    "print(db_resume.columns)\n",
    "db_resume.sample(2)"
   ]
  },
  {
   "cell_type": "markdown",
   "metadata": {},
   "source": [
    "\n",
    "### Exercise 2\n",
    "\n",
    "- `black` is the treatment variable in the data set (whether the resume has a \"Black-sounding\" name).\n",
    "- `call` is the dependent variable of interest (did the employer call the fictitious applicant for an interview)\n",
    "\n",
    "In addition, the data include a number of variables to describe the other features in each fictitious resume, including applicants education level (`education`), years of experience (`yearsexp`), gender (`female`), computer skills (`computerskills`), and number of previous jobs (`ofjobs`). Each resume has a random selection of these attributes, so on average the Black-named fictitious applicant resumes have the same qualifications as the White-named applicant resumes. \n",
    "\n",
    "Check for balance in terms of the average values of applicant gender (`female`), computer skills (`computerskills`), and years of experience (`yearsexp`) across the two arms of the experiment (i.e. by `black`). Calculate both the differences in means across treatment arms *and* test for statistical significance of these differences. Does gender, computer skills, and yearsexp look balanced across race groups in terms of both statistical significance and magnitude of difference?\n",
    "\n",
    "Store the p-values associated with your t-test of these variables in `ex2_pvalue_female`, `ex2_pvalue_computerskills`, and `ex2_pvalue_yearsexp`. **Round your values to 2 decimal places.**\n"
   ]
  },
  {
   "cell_type": "code",
   "execution_count": 7,
   "metadata": {},
   "outputs": [
    {
     "name": "stdout",
     "output_type": "stream",
     "text": [
      "The differences in means of applicant gender across the two arms of the experiment is -0.010677635669708252.\n",
      "The differences in means of applicant computer skills across the two arms of the experiment is 0.0.\n",
      "The differences in means of applicant years of experience across the two arms of the experiment is 0.026694045174538772 years.\n",
      "The p-value of the differences in means of applicant gender across the two arms of the experiment is 0.37666855949097355.\n",
      "This indicates the differences in means of applicant gender across the two arms of the experiment is insignificant.\n",
      "The p-value of the differences in means of applicant computer skills across the two arms of the experiment is 0.03032693395539194.\n",
      "This indicates the differences in means of applicant computer skills across the two arms of the experiment is significant.\n",
      "The p-value of the differences in means of applicant years of experience across the two arms of the experiment is 0.8535350182481283.\n",
      "This indicates the differences in means of applicant years of experience across the two arms of the experiment is insignificant.\n",
      "ex2_pvalue_female: 0.38\n",
      "ex2_pvalue_computerskills: 0.03\n",
      "ex2_pvalue_yearsexp: 0.85\n"
     ]
    }
   ],
   "source": [
    "from scipy import stats\n",
    "\n",
    "# mean values for female by race group\n",
    "mean_female_black = db_resume[db_resume[\"black\"] == 1][\"female\"].mean()\n",
    "mean_female_white = db_resume[db_resume[\"black\"] == 0][\"female\"].mean()\n",
    "diff_female = mean_female_white - mean_female_black\n",
    "print(f'The differences in means of applicant gender across the two arms of the experiment is {diff_female}.')\n",
    "\n",
    "# mean values for computerskills by race group\n",
    "mean_computerskills_black = db_resume[db_resume[\"black\"] == 1][\"computerskills\"].mean()\n",
    "mean_computerskills_white = db_resume[db_resume[\"black\"] == 0][\"computerskills\"].mean()\n",
    "diff_computerskills = mean_computerskills_white - mean_computerskills_white\n",
    "print(f'The differences in means of applicant computer skills across the two arms of the experiment is {diff_computerskills}.')\n",
    "\n",
    "# mean values for yearsexp by race group\n",
    "mean_yearsexp_black = db_resume[db_resume[\"black\"] == 1][\"yearsexp\"].mean()\n",
    "mean_yearsexp_white = db_resume[db_resume[\"black\"] == 0][\"yearsexp\"].mean()\n",
    "diff_yearsexp = mean_yearsexp_white - mean_yearsexp_black\n",
    "print(f'The differences in means of applicant years of experience across the two arms of the experiment is {diff_yearsexp} years.')\n",
    "\n",
    "# t-tests for female\n",
    "t_female, p_female = stats.ttest_ind(\n",
    "    db_resume[db_resume[\"black\"] == 1][\"female\"],\n",
    "    db_resume[db_resume[\"black\"] == 0][\"female\"],\n",
    ")\n",
    "significance_female = 'significant' if p_female <= 0.05 else 'insignificant'\n",
    "print(f\"The p-value of the differences in means of applicant gender across the two arms of the experiment is {p_female}.\")\n",
    "print(f\"This indicates the differences in means of applicant gender across the two arms of the experiment is {significance_female}.\")\n",
    "# t-tests for computerskills\n",
    "t_computerskills, p_computerskills = stats.ttest_ind(\n",
    "    db_resume[db_resume[\"black\"] == 1][\"computerskills\"],\n",
    "    db_resume[db_resume[\"black\"] == 0][\"computerskills\"],\n",
    ")\n",
    "significance_computerskills = 'significant' if p_computerskills <= 0.05 else 'insignificant'\n",
    "print(f\"The p-value of the differences in means of applicant computer skills across the two arms of the experiment is {p_computerskills}.\")\n",
    "print(f\"This indicates the differences in means of applicant computer skills across the two arms of the experiment is {significance_computerskills}.\")\n",
    "\n",
    "# t-tests for yearsexp\n",
    "t_yearsexp, p_yearsexp = stats.ttest_ind(\n",
    "    db_resume[db_resume[\"black\"] == 1][\"yearsexp\"],\n",
    "    db_resume[db_resume[\"black\"] == 0][\"yearsexp\"],\n",
    ")\n",
    "significance_yearsexp = 'significant' if p_yearsexp <= 0.05 else 'insignificant'\n",
    "print(f\"The p-value of the differences in means of applicant years of experience across the two arms of the experiment is {p_yearsexp}.\")\n",
    "print(f\"This indicates the differences in means of applicant years of experience across the two arms of the experiment is {significance_yearsexp}.\")\n",
    "\n",
    "# results\n",
    "results = {\n",
    "    \"ex2_pvalue_female\": round(p_female, 2),\n",
    "    \"ex2_pvalue_computerskills\": round(p_computerskills, 2),\n",
    "    \"ex2_pvalue_yearsexp\": round(p_yearsexp, 2),\n",
    "}\n",
    "\n",
    "print(f'ex2_pvalue_female: {results[\"ex2_pvalue_female\"]}')\n",
    "print(f'ex2_pvalue_computerskills: {results[\"ex2_pvalue_computerskills\"]}')\n",
    "print(f'ex2_pvalue_yearsexp: {results[\"ex2_pvalue_yearsexp\"]}')"
   ]
  },
  {
   "cell_type": "markdown",
   "metadata": {},
   "source": [
    ">- For gender,\n",
    ">   - the differences in means is statistical insignificance. \n",
    ">   - the magnitude of difference is 0.011.\n",
    ">- For computer skills,\n",
    ">   - the differences in means is statistical significance. \n",
    ">   - the magnitude of difference is 0.0.\n",
    ">- For years of experience,\n",
    ">   - the differences in means is statistical insignificance. \n",
    ">   - the magnitude of difference is 0.0267."
   ]
  },
  {
   "attachments": {},
   "cell_type": "markdown",
   "metadata": {},
   "source": [
    "### Exercise 3\n",
    "\n",
    "Do a similar tabulation for education (`education`). Education is a categorical variable coded as follows:\n",
    "\n",
    "- 0: Education not reported\n",
    "- 1: High school dropout\n",
    "- 2: High school graduate\n",
    "- 3: Some college\n",
    "- 4: College graduate or higher\n",
    "\n",
    "Because these are categorical, you shouldn't just calculate and compare means—you should compare share or count of observations with each value (e.g., a chi-squared contingency table). You may also find the `pd.crosstab` function useful.\n",
    "\n",
    "Does education look balanced across racial groups?\n",
    "\n",
    "Store the p-value from your chi squared test in results under the key `ex3_pvalue_education`. **Please round to 2 decimal places.**"
   ]
  },
  {
   "cell_type": "code",
   "execution_count": 8,
   "metadata": {},
   "outputs": [
    {
     "name": "stdout",
     "output_type": "stream",
     "text": [
      "black       0.0   1.0\n",
      "education            \n",
      "0            18    28\n",
      "1            18    22\n",
      "2           142   132\n",
      "3           513   493\n",
      "4          1744  1760\n",
      "chi^2 is 3.4095502219737974\n",
      "The p-value of the chi squared test is 0.4917640058792273.\n",
      "This indicates the differences of applicant education across the two arms of the experiment is insignificant.\n",
      "ex3_pvalue_education: 0.49\n"
     ]
    }
   ],
   "source": [
    "# Cross-tabulate education by race group\n",
    "education_crosstab = pd.crosstab(db_resume[\"education\"], db_resume[\"black\"])\n",
    "print(education_crosstab)\n",
    "\n",
    "# Perform Chi-Square test\n",
    "chi2, p_education, _, _ = stats.chi2_contingency(education_crosstab)\n",
    "significance_education = 'significant' if p_education <= 0.05 else 'insignificant'\n",
    "print(f\"chi^2 is {chi2}\")\n",
    "print(f\"The p-value of the chi squared test is {p_education}.\")\n",
    "print(f\"This indicates the differences of applicant education across the two arms of the experiment is {significance_education}.\")\n",
    "\n",
    "# results \n",
    "results[\"ex3_pvalue_education\"] = round(p_education, 2)\n",
    "print(f'ex3_pvalue_education: {results[\"ex3_pvalue_education\"]}')"
   ]
  },
  {
   "cell_type": "markdown",
   "metadata": {},
   "source": [
    ">Education looks balanced across racial groups as the difference is statistically insignificant."
   ]
  },
  {
   "attachments": {},
   "cell_type": "markdown",
   "metadata": {},
   "source": [
    "### Exercise 4\n",
    "\n",
    "What do you make of the overall results on resume characteristics? Why do we care about whether these variables look similar across the race groups? And if they didn't look similar, would that be a threat to internal or external validity? \n",
    "\n",
    "Answer in markdown, then also store your answer to the question of whether imbalances are a threat to internal or external validity in `\"ex4_validity\"` as the string `\"internal\"` or `\"external\"`.\n"
   ]
  },
  {
   "cell_type": "markdown",
   "metadata": {},
   "source": [
    ">Data balance between the two arms of the experiment is fundamental to data analysis. If the data is imbalanced, even if the selection is truly random, the result might turn out to be different, which indicates that the assumption of \"No Baseline Differences\" between the treatment and control groups is not met. This concern refers to internal validity, as we are interested in knowing how well our predictions fit the data we already have."
   ]
  },
  {
   "cell_type": "code",
   "execution_count": 9,
   "metadata": {},
   "outputs": [
    {
     "name": "stdout",
     "output_type": "stream",
     "text": [
      "ex3_pvalue_education: internal\n"
     ]
    }
   ],
   "source": [
    "results[\"ex4_validity\"] = \"internal\"\n",
    "print(f'ex3_pvalue_education: {results[\"ex4_validity\"]}')"
   ]
  },
  {
   "cell_type": "markdown",
   "metadata": {},
   "source": [
    "## Estimating Effect of Race"
   ]
  },
  {
   "attachments": {},
   "cell_type": "markdown",
   "metadata": {},
   "source": [
    "### Exercise 5\n",
    "\n",
    "The variable of interest in the data set is the variable `call`, which indicates a call back for an interview. Perform a two-sample t-test comparing applicants with black sounding names and white sounding names.\n",
    "\n",
    "Interpret your results—in both percentage *and* in percentage points, what is the effect of having a Black-sounding name (as opposed to a White-sounding name) on your resume?\n",
    "\n",
    "Store how much more likely a White applicant is to receive a call back than a Black respondent in percentage and percentage points in `\"ex5_white_advantage_percent\"`and `\"ex5_white_advantage_percentage_points\"`. Please scale percentages so 1 is 1% and percentage points so a value of `1` corresponds to 1 percentage point. **Please round these answers to 2 decimal places.**\n",
    "\n",
    "Store the p-value of the difference in `\"ex5_pvalue\"` **Please round your p-value to 5 decimal places.**"
   ]
  },
  {
   "cell_type": "code",
   "execution_count": 10,
   "metadata": {},
   "outputs": [
    {
     "name": "stdout",
     "output_type": "stream",
     "text": [
      "The advantage of having a White-sounding name over a Black-sounding name in terms of callback percentage is: 49.68%\n",
      "The advantage of having a White-sounding name over a Black-sounding name in terms of percentage points is: 3.20 percentage points\n",
      "The p-value of the difference in callback rates between applicants with Black-sounding names and White-sounding names is: 0.00004\n",
      "This indicates that the difference in callback rates between applicants with Black-sounding names and those with White-sounding names is significant.\n",
      "ex5_white_advantage_percent: 49.68\n",
      "ex5_white_advantage_percentage_points: 3.2\n",
      "ex5_pvalue: 4e-05\n"
     ]
    }
   ],
   "source": [
    "# t-test for the call variable\n",
    "t_call, p_call = stats.ttest_ind(\n",
    "    db_resume[db_resume[\"black\"] == 1][\"call\"],\n",
    "    db_resume[db_resume[\"black\"] == 0][\"call\"],\n",
    ")\n",
    "significance_call = \"significant\" if p_call <= 0.05 else \"insignificant\"\n",
    "\n",
    "# white advantage - call percentage\n",
    "call_rate_black = db_resume[db_resume[\"black\"] == 1][\"call\"].mean()\n",
    "call_rate_white = db_resume[db_resume[\"black\"] == 0][\"call\"].mean()\n",
    "\n",
    "white_advantage_percent = round((call_rate_white - call_rate_black)/call_rate_black * 100, 2)\n",
    "white_advantage_percentage_points = round((call_rate_white - call_rate_black)*100, 2)\n",
    "\n",
    "print(f\"The advantage of having a White-sounding name over a Black-sounding name in terms of callback percentage is: {white_advantage_percent:.2f}%\")\n",
    "print(f\"The advantage of having a White-sounding name over a Black-sounding name in terms of percentage points is: {white_advantage_percentage_points:.2f} percentage points\")\n",
    "print(f\"The p-value of the difference in callback rates between applicants with Black-sounding names and White-sounding names is: {p_call:.5f}\")\n",
    "print(f\"This indicates that the difference in callback rates between applicants with Black-sounding names and those with White-sounding names is {significance_call}.\")\n",
    "\n",
    "# Results\n",
    "results[\"ex5_white_advantage_percent\"] = white_advantage_percent\n",
    "results[\"ex5_white_advantage_percentage_points\"] = white_advantage_percentage_points\n",
    "results[\"ex5_pvalue\"] = round(p_call, 5)\n",
    "\n",
    "print(f'ex5_white_advantage_percent: {results[\"ex5_white_advantage_percent\"]}')\n",
    "print(f'ex5_white_advantage_percentage_points: {results[\"ex5_white_advantage_percentage_points\"]}')\n",
    "print(f'ex5_pvalue: {results[\"ex5_pvalue\"]}')"
   ]
  },
  {
   "cell_type": "markdown",
   "metadata": {},
   "source": [
    ">The result indicates that the statistical significance in difference in callback rates between applicants with Black-sounding names and those with White-sounding names. Specifically, applicants with White-sounding names have a higher callback rate than applicants with Black-sounding names."
   ]
  },
  {
   "attachments": {},
   "cell_type": "markdown",
   "metadata": {},
   "source": [
    "### Exercise 6\n",
    "\n",
    "Now, use a linear probability model (a linear regression with a 0/1 dependent variable!) to estimate the differential likelihood of being called back by applicant race (i.e. the racial discrimination by employers). Please use [statsmodels](https://www.statsmodels.org/stable/index.html).\n",
    "\n",
    "Since we have a limited dependent variable, be sure to use [heteroskedastic robust standard errors.](https://www.statsmodels.org/stable/generated/statsmodels.regression.linear_model.OLSResults.get_robustcov_results.html) Personally, I prefer the `HC3` implementation, as it tends to do better with smaller samples than other implementations.\n",
    "\n",
    "Interpret these results—what is the *effect* of having a Black-sounding name (as opposed to a White-sounding name) on your resume in terms of the likelihood you'll be called back? \n",
    "\n",
    "How does this compare to the estimate you got above in exercise 5?\n",
    "\n",
    "Store the p-value associated with `black` in `\"ex6_black_pvalue\"`. **Please round your pvalue to 5 decimal places.**"
   ]
  },
  {
   "cell_type": "code",
   "execution_count": 11,
   "metadata": {},
   "outputs": [
    {
     "name": "stdout",
     "output_type": "stream",
     "text": [
      "                            OLS Regression Results                            \n",
      "==============================================================================\n",
      "Dep. Variable:                   call   R-squared:                       0.003\n",
      "Model:                            OLS   Adj. R-squared:                  0.003\n",
      "Method:                 Least Squares   F-statistic:                     16.92\n",
      "Date:                Mon, 17 Mar 2025   Prob (F-statistic):           3.96e-05\n",
      "Time:                        09:33:12   Log-Likelihood:                -562.24\n",
      "No. Observations:                4870   AIC:                             1128.\n",
      "Df Residuals:                    4868   BIC:                             1141.\n",
      "Df Model:                           1                                         \n",
      "Covariance Type:                  HC3                                         \n",
      "==============================================================================\n",
      "                 coef    std err          z      P>|z|      [0.025      0.975]\n",
      "------------------------------------------------------------------------------\n",
      "const          0.0965      0.006     16.121      0.000       0.085       0.108\n",
      "black         -0.0320      0.008     -4.114      0.000      -0.047      -0.017\n",
      "==============================================================================\n",
      "Omnibus:                     2969.205   Durbin-Watson:                   1.440\n",
      "Prob(Omnibus):                  0.000   Jarque-Bera (JB):            18927.068\n",
      "Skew:                           3.068   Prob(JB):                         0.00\n",
      "Kurtosis:                      10.458   Cond. No.                         2.62\n",
      "==============================================================================\n",
      "\n",
      "Notes:\n",
      "[1] Standard Errors are heteroscedasticity robust (HC3)\n"
     ]
    }
   ],
   "source": [
    "import statsmodels.api as sm\n",
    "\n",
    "# model\n",
    "X = sm.add_constant(\n",
    "    db_resume[[\"black\"]]\n",
    ")\n",
    "y = db_resume[\"call\"]\n",
    "\n",
    "# Fit the model using robust standard errors\n",
    "model = sm.OLS(y, X).fit(cov_type=\"HC3\")\n",
    "\n",
    "print(model.summary())"
   ]
  },
  {
   "cell_type": "code",
   "execution_count": 12,
   "metadata": {},
   "outputs": [
    {
     "name": "stdout",
     "output_type": "stream",
     "text": [
      "ex6_black_pvalue: 4e-05\n",
      "In the linear probability model, the p-value associated with 'black' is 4e-05.\n"
     ]
    }
   ],
   "source": [
    "# Result\n",
    "results[\"ex6_black_pvalue\"] = round(model.pvalues[\"black\"], 5)\n",
    "print(f\"ex6_black_pvalue: {results[\"ex6_black_pvalue\"]}\")\n",
    "print(f\"In the linear probability model, the p-value associated with 'black' is {results[\"ex6_black_pvalue\"]}.\")"
   ]
  },
  {
   "cell_type": "markdown",
   "metadata": {},
   "source": [
    ">- The coefficient of variable 'black' is -0.0320 indicating that, on average, applicants with Black-sounding names have a lower probability of being called back by approximately 3.20 percentage points compared to those with white-sounding names.\n",
    ">- The p-value associated with 'black' is 0.00004 indicating that the difference of probability of being called back between applicants with Black-sounding names and applicants with white-sounding names is statistically significant.\n",
    ">- This p-value is the same as the one calculated in exercise 5.\n",
    ">- All the numbers aligns to the conclusion that it it harder to be called back for applicants with black-sounding names than applicants with white-sounding names."
   ]
  },
  {
   "attachments": {},
   "cell_type": "markdown",
   "metadata": {},
   "source": [
    "### Exercise 7\n",
    "\n",
    "Even when doing a randomized experiment, adding control variables to your regression *can* improve the statistical efficiency of your estimates of the treatment effect (the upside is the potential to explain residual variation; the downside is more parameters to be estimated). Adding controls can be particularly useful when randomization left some imbalances in covariates (which you may have seen above). \n",
    "\n",
    "Now let's see if we can improve our estimates by adding in other variables as controls. Add in `education`, `yearsexp`, `female`, and `computerskills`—be sure to treat education as a categorical variable!"
   ]
  },
  {
   "cell_type": "code",
   "execution_count": 13,
   "metadata": {},
   "outputs": [
    {
     "name": "stdout",
     "output_type": "stream",
     "text": [
      "                            OLS Regression Results                            \n",
      "==============================================================================\n",
      "Dep. Variable:                   call   R-squared:                       0.008\n",
      "Model:                            OLS   Adj. R-squared:                  0.006\n",
      "Method:                 Least Squares   F-statistic:                     4.350\n",
      "Date:                Mon, 17 Mar 2025   Prob (F-statistic):           3.04e-05\n",
      "Time:                        09:33:12   Log-Likelihood:                -551.02\n",
      "No. Observations:                4870   AIC:                             1120.\n",
      "Df Residuals:                    4861   BIC:                             1178.\n",
      "Df Model:                           8                                         \n",
      "Covariance Type:                  HC3                                         \n",
      "=====================================================================================\n",
      "                        coef    std err          z      P>|z|      [0.025      0.975]\n",
      "-------------------------------------------------------------------------------------\n",
      "Intercept             0.0821      0.040      2.053      0.040       0.004       0.160\n",
      "C(education)[T.1]    -0.0017      0.057     -0.030      0.976      -0.113       0.110\n",
      "C(education)[T.2] -8.953e-05      0.042     -0.002      0.998      -0.082       0.082\n",
      "C(education)[T.3]    -0.0025      0.039     -0.065      0.948      -0.079       0.074\n",
      "C(education)[T.4]    -0.0047      0.038     -0.124      0.901      -0.080       0.070\n",
      "black                -0.0316      0.008     -4.076      0.000      -0.047      -0.016\n",
      "yearsexp              0.0032      0.001      3.665      0.000       0.001       0.005\n",
      "female                0.0112      0.010      1.165      0.244      -0.008       0.030\n",
      "computerskills       -0.0186      0.011     -1.616      0.106      -0.041       0.004\n",
      "==============================================================================\n",
      "Omnibus:                     2950.646   Durbin-Watson:                   1.448\n",
      "Prob(Omnibus):                  0.000   Jarque-Bera (JB):            18631.250\n",
      "Skew:                           3.047   Prob(JB):                         0.00\n",
      "Kurtosis:                      10.395   Cond. No.                         225.\n",
      "==============================================================================\n",
      "\n",
      "Notes:\n",
      "[1] Standard Errors are heteroscedasticity robust (HC3)\n"
     ]
    }
   ],
   "source": [
    "db_resume[\"education\"] = db_resume[\"education\"].astype(\"category\")\n",
    "X_control = sm.add_constant(\n",
    "    db_resume[[\"black\", \"education\", \"yearsexp\", \"female\", \"computerskills\"]]\n",
    ")\n",
    "y = db_resume[\"call\"]\n",
    "\n",
    "import statsmodels.formula.api as smf\n",
    "\n",
    "model_control = smf.ols(\"call ~ black + C(education) + yearsexp + female + computerskills\", data=db_resume).fit(cov_type=\"HC3\")\n",
    "\n",
    "print(model_control.summary())\n"
   ]
  },
  {
   "cell_type": "code",
   "execution_count": 14,
   "metadata": {},
   "outputs": [
    {
     "name": "stdout",
     "output_type": "stream",
     "text": [
      "In the revised model with more variables added, the coefficient associated with 'black' is -0.031613719588877896.\n",
      "In the revised model with more variables added, the p-value associated with 'black' is 5e-05.\n"
     ]
    }
   ],
   "source": [
    "print(f\"In the revised model with more variables added, the coefficient associated with 'black' is {model_control.params[\"black\"]}.\")\n",
    "print(f\"In the revised model with more variables added, the p-value associated with 'black' is {round(model_control.pvalues[\"black\"], 5)}.\")"
   ]
  },
  {
   "cell_type": "markdown",
   "metadata": {},
   "source": [
    ">In the revised model,\n",
    ">- the coefficient changed from -0.032 to -0.0316\n",
    ">- the p-value that changed from 4e-05 to 5e-05\n",
    ">\n",
    ">This indicates that the result remains the same that it is harder to be called back for applicants with Black-sounding names than those with White-sounding names"
   ]
  },
  {
   "cell_type": "markdown",
   "metadata": {},
   "source": [
    "## Estimating Heterogeneous Effects"
   ]
  },
  {
   "attachments": {},
   "cell_type": "markdown",
   "metadata": {},
   "source": [
    "### Exercise 8\n",
    "\n",
    "As you may recall from some past readings (such as this one on the [migraine medication Aimovig](https://ds4humans.com/30_questions/15_answering_exploratory_questions.html#faithful-representations)), our focus on estimating *Average Treatment Effects* runs the risk of papering over variation in how individuals respond. In the case of Aimovig, for example, nearly no patients actually experienced the Average Treatment Effect of the medication; around half of patients experienced no benefit, while the other half experienced a benefit of about twice the average treatment effect.\n",
    "\n",
    "So far in this analysis we've been focusing on the *average* effect of having a Black-sounding name (as compared to a White-sounding name). But we can actually use our regression framework to look for evidence of *heterogeneous treatment effects*—effects that are different for different types of people in our data. We accomplish this by *interacting* a variable we think may be related to experiencing a differential treatment effect with our treatment variable. For example, if we think that applicants with Black-sounding names who have a college degree are likely to experience less discrimination, we can interact `black` with an indicator for having a college degree. If having a college degree reduces discrimination, we could expect the interaction term to be positive. \n",
    "\n",
    "Is there more or less racial discrimination (the absolute magnitude difference in call back rates between Black and White applicants) among applicants who have a college degree? Store your answer as the string `\"more discrimination\"` or `\"less discrimination\"` under the key `\"ex8_college_heterogeneity\"`.\n",
    "\n",
    "Please still include `education`, `yearsexp`, `female`, and `computerskills` as controls.\n",
    "\n",
    "**Note:** it's relatively safe to assume that someone hiring employees who sees a resume that does *not* report education levels will assume the applicant does not have a college degree. So treat \"No education reported\" as \"not having a college degree.\"\n",
    "\n",
    "In percentage points, what is the difference in call back rates:\n",
    "\n",
    "- between White applicants without a college degree and Black applicants without a college degree (`ex8_black_nocollege`).\n",
    "- between White applicants with a college degree and Black applicants with a college degree (`ex8_black_college`).\n",
    "\n",
    "Use negative values to denote a lower probability for Black applicants to get a call back. **Scale so a value of `1` is a one percentage point difference. Please round your answer to 2 percentage points.**\n",
    "\n",
    "Focus on the coefficient values, even if the significance is low."
   ]
  },
  {
   "cell_type": "code",
   "execution_count": 16,
   "metadata": {},
   "outputs": [
    {
     "name": "stdout",
     "output_type": "stream",
     "text": [
      "                            OLS Regression Results                            \n",
      "==============================================================================\n",
      "Dep. Variable:                   call   R-squared:                       0.008\n",
      "Model:                            OLS   Adj. R-squared:                  0.007\n",
      "Method:                 Least Squares   F-statistic:                     5.907\n",
      "Date:                Mon, 17 Mar 2025   Prob (F-statistic):           3.73e-06\n",
      "Time:                        09:39:32   Log-Likelihood:                -550.83\n",
      "No. Observations:                4870   AIC:                             1116.\n",
      "Df Residuals:                    4863   BIC:                             1161.\n",
      "Df Model:                           6                                         \n",
      "Covariance Type:                  HC3                                         \n",
      "=============================================================================================\n",
      "                                coef    std err          z      P>|z|      [0.025      0.975]\n",
      "---------------------------------------------------------------------------------------------\n",
      "const                         0.0933      0.029      3.239      0.001       0.037       0.150\n",
      "black                        -0.0386      0.013     -3.014      0.003      -0.064      -0.014\n",
      "education                    -0.0044      0.007     -0.631      0.528      -0.018       0.009\n",
      "yearsexp                      0.0032      0.001      3.690      0.000       0.001       0.005\n",
      "female                        0.0119      0.009      1.256      0.209      -0.007       0.030\n",
      "computerskills               -0.0184      0.011     -1.627      0.104      -0.041       0.004\n",
      "black_college_interaction     0.0096      0.014      0.673      0.501      -0.018       0.038\n",
      "==============================================================================\n",
      "Omnibus:                     2950.214   Durbin-Watson:                   1.447\n",
      "Prob(Omnibus):                  0.000   Jarque-Bera (JB):            18623.768\n",
      "Skew:                           3.047   Prob(JB):                         0.00\n",
      "Kurtosis:                      10.393   Cond. No.                         79.6\n",
      "==============================================================================\n",
      "\n",
      "Notes:\n",
      "[1] Standard Errors are heteroscedasticity robust (HC3)\n"
     ]
    }
   ],
   "source": [
    "db_resume[\"education\"] = db_resume[\"education\"].astype(\"category\")\n",
    "# X_interaction = sm.add_constant(\n",
    "#     db_resume[[\"black\", \"education\", \"yearsexp\", \"female\", \"computerskills\"]]\n",
    "# )\n",
    "# y = db_resume[\"call\"]\n",
    "\n",
    "# model_interaction = smf.ols(\"call ~ black * C(education) + yearsexp + female + computerskills\", data=db_resume).fit(cov_type=\"HC3\")\n",
    "\n",
    "# Create interaction term for black and education\n",
    "db_resume[\"black_college_interaction\"] = db_resume[\"black\"] * (\n",
    "    db_resume[\"education\"] == 4\n",
    ")\n",
    "\n",
    "# Fit the model with interaction\n",
    "X_interaction = sm.add_constant(\n",
    "    db_resume[\n",
    "        [\n",
    "            \"black\",\n",
    "            \"education\",\n",
    "            \"yearsexp\",\n",
    "            \"female\",\n",
    "            \"computerskills\",\n",
    "            \"black_college_interaction\",\n",
    "        ]\n",
    "    ]\n",
    ")\n",
    "model_interaction = sm.OLS(y, X_interaction).fit(cov_type=\"HC3\")\n",
    "\n",
    "# Display results for the interaction term\n",
    "print(model_interaction.summary())"
   ]
  },
  {
   "cell_type": "code",
   "execution_count": 20,
   "metadata": {},
   "outputs": [
    {
     "name": "stdout",
     "output_type": "stream",
     "text": [
      "ex8_college_heterogeneity: more discrimination\n"
     ]
    }
   ],
   "source": [
    "#\n",
    "results[\"ex8_college_heterogeneity\"] = \"more discrimination\"\n",
    "print(f\"ex8_college_heterogeneity: {results['ex8_college_heterogeneity']}\")"
   ]
  },
  {
   "attachments": {},
   "cell_type": "markdown",
   "metadata": {},
   "source": [
    "### Exercise 9\n",
    "\n",
    "Now let's compare men and women—is the penalty for having a Black-sounding name greater for Black men or Black women? Store your answer as `\"greater discrimination for men\"` or `\"greater discrimination for women\"` in `\"ex9_gender_and_discrimination\"`.\n",
    "\n",
    "Focus on the coefficient values, even if the significance is low.\n",
    "\n",
    "Again, please still include `education`, `yearsexp`, `female`, and `computerskills` as controls."
   ]
  },
  {
   "cell_type": "code",
   "execution_count": null,
   "metadata": {},
   "outputs": [],
   "source": [
    "# Fit the model with female interaction\n",
    "X_gender_interaction = sm.add_constant(\n",
    "    db_resume[[\"black\", \"education\", \"yearsexp\", \"female\", \"computerskills\"]]\n",
    ")\n",
    "model_gender_interaction = sm.OLS(y, X_gender_interaction).fit(cov_type=\"HC3\")\n",
    "\n",
    "# Display results\n",
    "print(model_gender_interaction.summary())"
   ]
  },
  {
   "cell_type": "code",
   "execution_count": null,
   "metadata": {},
   "outputs": [],
   "source": [
    "results[\"ex9_gender_and_discrimination\"] = (\n",
    "    \"greater discrimination for women\"  # or \"greater discrimination for men\"\n",
    ")"
   ]
  },
  {
   "cell_type": "markdown",
   "metadata": {},
   "source": [
    "### Exercise 10\n",
    "\n",
    "Calculate and/or lookup the following online:\n",
    "\n",
    "- What is the share of applicants in our dataset with college degrees?\n",
    "- What share of Black adult Americans have college degrees (i.e. have completed a bachelors degree)?\n",
    "\n",
    "Is the share of Black applicants with college degrees in this data `\"greater\"`, or `\"less\"` than in the US? Store your answer as one of those strings in `\"ex10_experiment_v_us\"`"
   ]
  },
  {
   "cell_type": "code",
   "execution_count": null,
   "metadata": {},
   "outputs": [],
   "source": [
    "#\n",
    "# Share of applicants with a college degree\n",
    "college_degree_share = (db_resume[\"education\"] == 4).mean()\n",
    "\n",
    "# Assuming you know the national rate for Black Americans with college degrees\n",
    "national_black_college_rate = (\n",
    "    0.25  # Example rate, you need to update this from data or research\n",
    ")\n",
    "\n",
    "# Compare\n",
    "if college_degree_share > national_black_college_rate:\n",
    "    results[\"ex10_experiment_v_us\"] = \"greater\"\n",
    "else:\n",
    "    results[\"ex10_experiment_v_us\"] = \"less\"\n",
    "\n",
    "# Display results\n",
    "print(results)"
   ]
  },
  {
   "attachments": {},
   "cell_type": "markdown",
   "metadata": {},
   "source": [
    "### Exercise 11\n",
    "\n",
    "Bearing in mind your answers to Exercise 8 and to Exercise 10, how do you think the Average Treatment Effect you estimated in Exercises 5 and 6 might generalize to the experience of the average Black American (i.e., how do you think the ATE for the average Black American would compare to the ATE estimated from this experiment)?\n"
   ]
  },
  {
   "cell_type": "code",
   "execution_count": null,
   "metadata": {},
   "outputs": [],
   "source": [
    "# Store the answers based on your analysis\n",
    "results[\"ex11_ate_generalization\"] = \"compare based on findings\""
   ]
  },
  {
   "attachments": {},
   "cell_type": "markdown",
   "metadata": {},
   "source": [
    "### Exercise 12\n",
    "\n",
    "What does your answer to Exercise 10 imply about the study's *internal* validity?"
   ]
  },
  {
   "cell_type": "code",
   "execution_count": null,
   "metadata": {},
   "outputs": [],
   "source": [
    "# Store the answers based on your analysis\n",
    "\n",
    "results[\"ex12_internal_validity\"] = \"internal\""
   ]
  },
  {
   "attachments": {},
   "cell_type": "markdown",
   "metadata": {},
   "source": [
    "### Exercise 13\n",
    "\n",
    "What does your answer to Exercise 10 imply about the study's *external* validity?"
   ]
  },
  {
   "cell_type": "code",
   "execution_count": null,
   "metadata": {},
   "outputs": [],
   "source": [
    "# Store the answers based on your analysis\n",
    "results[\"ex13_external_validity\"] = \"external\""
   ]
  },
  {
   "attachments": {},
   "cell_type": "markdown",
   "metadata": {},
   "source": [
    "## What Did We Just Measure?\n",
    "\n",
    "It's worth pausing for a moment to think about exactly what we've measured in this experiment. Was it the effect of race on hiring? Or the difference in the experience of the average White job applicant from the average Black job applicant?\n",
    "\n",
    "Well... no. What we have measured in this experiment is **just** the effect of having a Black-sounding name (as opposed to a White-sounding name) on your resume on the likelihood of getting a followup call from someone hiring in Boston or Chicago given identical resumes. In that sense, what we've measured is a small *piece* of the difference in the experience of Black and White Americans when seeking employment. As anyone looking for a job knows, getting a call-back is obviously a crucial step in getting a job, so this difference—even if it's just one part of the overall difference—is remarkable."
   ]
  }
 ],
 "metadata": {
  "kernelspec": {
   "display_name": "base",
   "language": "python",
   "name": "python3"
  },
  "language_info": {
   "codemirror_mode": {
    "name": "ipython",
    "version": 3
   },
   "file_extension": ".py",
   "mimetype": "text/x-python",
   "name": "python",
   "nbconvert_exporter": "python",
   "pygments_lexer": "ipython3",
   "version": "3.12.7"
  },
  "vscode": {
   "interpreter": {
    "hash": "718fed28bf9f8c7851519acf2fb923cd655120b36de3b67253eeb0428bd33d2d"
   }
  }
 },
 "nbformat": 4,
 "nbformat_minor": 4
}
