{
 "cells": [
  {
   "cell_type": "markdown",
   "metadata": {},
   "source": [
    "# Power Calculations and Experiment Planning\n",
    "\n",
    "When you read about them in a book, power calculations can feel very abstract. To make the concept more concrete, and to give you a chance to familiarize yourself with power calculation tools and the considerations that go into power calculations, in this exercise you will play the role of an experiment planner hired by a Non-Governmental Organization (NGO) named [Bandhan](https://www.bandhan.org/) in West Bengal, India. Bandhan is planning to roll out a program that provides livestock, cash, and some basic training to households in extreme poverty. They hope to demonstrate the value of cash and asset transfers, and so wish their program to take the form of a randomized experiment, with data being collected on both control and treatment households.\n",
    "\n",
    "Your job will be to help them estimate how many households they should enroll in the program.\n",
    "\n",
    "This was, in fact, a real program, and so the data you will be working with comes from the actual program (conducted in 2007, with followup data collection in 2010, 2017, and 2020), allowing us to do some retrospective comparison of your power calculations and what actually occurred."
   ]
  },
  {
   "cell_type": "markdown",
   "metadata": {},
   "source": [
    "## The Context\n",
    "\n",
    "> Development economics has long posited that the poor may be poor for no good reason other than the fact that they started poor. This is the idea of a poverty trap, which has the implication that a one-time capital grant that makes very poor households significantly less poor (\"big push\") might set off a virtuous cycle that takes them out of poverty. Forty-three countries now embrace some version of this idea and make large transfers to over 3.1 million of their poorest households. In particular, the \"Targeting the Ultra Poor\" (TUP) intervention, pioneered by BRAC in Bangladesh, employs a multifaceted approach, offering poor households an asset transfer, consumption support, savings, and training in the hopes of unlocking a poverty trap.\n",
    "\n",
    "- [*Long-Term Effects of the Targeting the Ultra Poor Program*](https://economics.mit.edu/research/publications/long-term-effects-targeting-ultra-poor-program), Abhijit Banerjee, Esther Duflo, and Garima Sharma, 2021.\n",
    "\n",
    "In 2007, Bandhan in West Bengal, India created a pilot program to provide direct, unconditional transfers of productive livestock and a 30 or 40 week stipend of 90 rupees a week (about 7 US dollars a week using the [Purchasing Power Parity (PPP)](https://en.wikipedia.org/wiki/Purchasing_power_parity) exchange rate). The program targeted the poorest households in these villages based on range of criteria, and the average eligible household was later estimated to have a consumption level of about 1.35 2018 US Dollars per capita per day in PPP terms $.^1$\n",
    "\n",
    "Because the goal of the program was, in significant part, to demonstrate the effect of direct asset transfers, Bandhan identified twice as many eligible households as it could support in the pilot and randomly selected half of the households to act as controls and half to be treated $.^2$ Treated households were offered assets from a menu of options, from the most common choice was productive livestock (e.g., cows and goats). $^3$ Bandhan's contact with the households came to an end 18 months after the households were initially provided their livestock and cash transfers began.\n",
    "\n",
    "Although data was collected on a huge range of attributes of the households in this program, our focus will be on per capita household expenditures in 2018 US Dollars (PPP). \n",
    "\n",
    "(Note that these households certainly were not buying their food with dollars, and in most cases they weren't even buying most of their food with rupees — consumption estimates in this type of study are calculated by collecting detailed data on what household members have consumed in the past week, then estimating the price one would pay to buy those goods in local markets and using [PPP conversion rates](https://en.wikipedia.org/wiki/Purchasing_power_parity) conversion rates to convert that into US Dollars).\n"
   ]
  },
  {
   "cell_type": "markdown",
   "metadata": {},
   "source": [
    "\n",
    "## Exercises\n",
    "\n",
    "### Exercise 1\n",
    "\n",
    "Load a thinned version of household-level survey data from [Banerjee, Duflo, and Sharma (2021)'s](https://economics.mit.edu/research/publications/long-term-effects-targeting-ultra-poor-program) evaluation of the Bandham program [here](https://github.com/nickeubank/MIDS_Data/tree/master/cash_transfers). \n",
    "\n",
    "This is just a version of the replication data for that paper ([which can be found here](https://www.openicpsr.org/openicpsr/project/130362)) with only the variables that are relevant for our analysis."
   ]
  },
  {
   "cell_type": "code",
   "execution_count": null,
   "metadata": {},
   "outputs": [
    {
     "data": {
      "application/vnd.microsoft.datawrangler.viewer.v0+json": {
       "columns": [
        {
         "name": "index",
         "rawType": "int64",
         "type": "integer"
        },
        {
         "name": "treatment",
         "rawType": "int64",
         "type": "integer"
        },
        {
         "name": "pc_exp_month_bl",
         "rawType": "float64",
         "type": "float"
        },
        {
         "name": "pc_exp_month_el1",
         "rawType": "float64",
         "type": "float"
        },
        {
         "name": "pc_exp_month_el2",
         "rawType": "float64",
         "type": "float"
        },
        {
         "name": "pc_exp_month_el3",
         "rawType": "float64",
         "type": "float"
        }
       ],
       "conversionMethod": "pd.DataFrame",
       "ref": "db30e57f-6498-4034-8acb-e09ca59b3404",
       "rows": [
        [
         "585",
         "1",
         "30.515417",
         "29.373411",
         "25.841158",
         "83.3934"
        ],
        [
         "203",
         "1",
         "51.751102",
         "173.86455",
         "137.1078",
         "259.6982"
        ]
       ],
       "shape": {
        "columns": 5,
        "rows": 2
       }
      },
      "text/html": [
       "<div>\n",
       "<style scoped>\n",
       "    .dataframe tbody tr th:only-of-type {\n",
       "        vertical-align: middle;\n",
       "    }\n",
       "\n",
       "    .dataframe tbody tr th {\n",
       "        vertical-align: top;\n",
       "    }\n",
       "\n",
       "    .dataframe thead th {\n",
       "        text-align: right;\n",
       "    }\n",
       "</style>\n",
       "<table border=\"1\" class=\"dataframe\">\n",
       "  <thead>\n",
       "    <tr style=\"text-align: right;\">\n",
       "      <th></th>\n",
       "      <th>treatment</th>\n",
       "      <th>pc_exp_month_bl</th>\n",
       "      <th>pc_exp_month_el1</th>\n",
       "      <th>pc_exp_month_el2</th>\n",
       "      <th>pc_exp_month_el3</th>\n",
       "    </tr>\n",
       "  </thead>\n",
       "  <tbody>\n",
       "    <tr>\n",
       "      <th>585</th>\n",
       "      <td>1</td>\n",
       "      <td>30.515417</td>\n",
       "      <td>29.373411</td>\n",
       "      <td>25.841158</td>\n",
       "      <td>83.3934</td>\n",
       "    </tr>\n",
       "    <tr>\n",
       "      <th>203</th>\n",
       "      <td>1</td>\n",
       "      <td>51.751102</td>\n",
       "      <td>173.864550</td>\n",
       "      <td>137.107800</td>\n",
       "      <td>259.6982</td>\n",
       "    </tr>\n",
       "  </tbody>\n",
       "</table>\n",
       "</div>"
      ],
      "text/plain": [
       "     treatment  pc_exp_month_bl  pc_exp_month_el1  pc_exp_month_el2  \\\n",
       "585          1        30.515417         29.373411         25.841158   \n",
       "203          1        51.751102        173.864550        137.107800   \n",
       "\n",
       "     pc_exp_month_el3  \n",
       "585           83.3934  \n",
       "203          259.6982  "
      ]
     },
     "execution_count": 1,
     "metadata": {},
     "output_type": "execute_result"
    }
   ],
   "source": [
    "import pandas as pd\n",
    "import numpy as np\n",
    "\n",
    "TUP_cash_transfers = pd.read_csv(\n",
    "    \"https://media.githubusercontent.com/media/nickeubank/MIDS_Data/master/cash_transfers/TUP_cash_transfers.csv\"\n",
    ")\n",
    "TUP_cash_transfers.sample(2)"
   ]
  },
  {
   "cell_type": "code",
   "execution_count": 3,
   "metadata": {},
   "outputs": [
    {
     "data": {
      "application/vnd.microsoft.datawrangler.viewer.v0+json": {
       "columns": [
        {
         "name": "index",
         "rawType": "object",
         "type": "string"
        },
        {
         "name": "treatment",
         "rawType": "float64",
         "type": "float"
        },
        {
         "name": "pc_exp_month_bl",
         "rawType": "float64",
         "type": "float"
        },
        {
         "name": "pc_exp_month_el1",
         "rawType": "float64",
         "type": "float"
        },
        {
         "name": "pc_exp_month_el2",
         "rawType": "float64",
         "type": "float"
        },
        {
         "name": "pc_exp_month_el3",
         "rawType": "float64",
         "type": "float"
        }
       ],
       "conversionMethod": "pd.DataFrame",
       "ref": "335db33c-6f98-4dd4-bf49-213b2c3ad186",
       "rows": [
        [
         "count",
         "978.0",
         "978.0",
         "811.0",
         "867.0",
         "864.0"
        ],
        [
         "mean",
         "0.5255623721881391",
         "40.736776763087924",
         "53.37064809272503",
         "64.67661927047288",
         "76.50866464502316"
        ],
        [
         "std",
         "0.49960162296953536",
         "24.262248052211223",
         "26.988393210434186",
         "30.107362596087683",
         "46.63909044002053"
        ],
        [
         "min",
         "0.0",
         "0.0",
         "0.0",
         "10.096823",
         "3.0350432"
        ],
        [
         "25%",
         "0.0",
         "26.72976775",
         "36.1248365",
         "45.634702000000004",
         "47.4057205"
        ],
        [
         "50%",
         "1.0",
         "35.147002",
         "48.22354",
         "59.005753",
         "66.13533000000001"
        ],
        [
         "75%",
         "1.0",
         "47.3472875",
         "63.695145",
         "76.3213125",
         "94.5964975"
        ],
        [
         "max",
         "1.0",
         "360.9444",
         "244.98648",
         "258.77216",
         "485.89697"
        ]
       ],
       "shape": {
        "columns": 5,
        "rows": 8
       }
      },
      "text/html": [
       "<div>\n",
       "<style scoped>\n",
       "    .dataframe tbody tr th:only-of-type {\n",
       "        vertical-align: middle;\n",
       "    }\n",
       "\n",
       "    .dataframe tbody tr th {\n",
       "        vertical-align: top;\n",
       "    }\n",
       "\n",
       "    .dataframe thead th {\n",
       "        text-align: right;\n",
       "    }\n",
       "</style>\n",
       "<table border=\"1\" class=\"dataframe\">\n",
       "  <thead>\n",
       "    <tr style=\"text-align: right;\">\n",
       "      <th></th>\n",
       "      <th>treatment</th>\n",
       "      <th>pc_exp_month_bl</th>\n",
       "      <th>pc_exp_month_el1</th>\n",
       "      <th>pc_exp_month_el2</th>\n",
       "      <th>pc_exp_month_el3</th>\n",
       "    </tr>\n",
       "  </thead>\n",
       "  <tbody>\n",
       "    <tr>\n",
       "      <th>count</th>\n",
       "      <td>978.000000</td>\n",
       "      <td>978.000000</td>\n",
       "      <td>811.000000</td>\n",
       "      <td>867.000000</td>\n",
       "      <td>864.000000</td>\n",
       "    </tr>\n",
       "    <tr>\n",
       "      <th>mean</th>\n",
       "      <td>0.525562</td>\n",
       "      <td>40.736777</td>\n",
       "      <td>53.370648</td>\n",
       "      <td>64.676619</td>\n",
       "      <td>76.508665</td>\n",
       "    </tr>\n",
       "    <tr>\n",
       "      <th>std</th>\n",
       "      <td>0.499602</td>\n",
       "      <td>24.262248</td>\n",
       "      <td>26.988393</td>\n",
       "      <td>30.107363</td>\n",
       "      <td>46.639090</td>\n",
       "    </tr>\n",
       "    <tr>\n",
       "      <th>min</th>\n",
       "      <td>0.000000</td>\n",
       "      <td>0.000000</td>\n",
       "      <td>0.000000</td>\n",
       "      <td>10.096823</td>\n",
       "      <td>3.035043</td>\n",
       "    </tr>\n",
       "    <tr>\n",
       "      <th>25%</th>\n",
       "      <td>0.000000</td>\n",
       "      <td>26.729768</td>\n",
       "      <td>36.124837</td>\n",
       "      <td>45.634702</td>\n",
       "      <td>47.405721</td>\n",
       "    </tr>\n",
       "    <tr>\n",
       "      <th>50%</th>\n",
       "      <td>1.000000</td>\n",
       "      <td>35.147002</td>\n",
       "      <td>48.223540</td>\n",
       "      <td>59.005753</td>\n",
       "      <td>66.135330</td>\n",
       "    </tr>\n",
       "    <tr>\n",
       "      <th>75%</th>\n",
       "      <td>1.000000</td>\n",
       "      <td>47.347288</td>\n",
       "      <td>63.695145</td>\n",
       "      <td>76.321313</td>\n",
       "      <td>94.596497</td>\n",
       "    </tr>\n",
       "    <tr>\n",
       "      <th>max</th>\n",
       "      <td>1.000000</td>\n",
       "      <td>360.944400</td>\n",
       "      <td>244.986480</td>\n",
       "      <td>258.772160</td>\n",
       "      <td>485.896970</td>\n",
       "    </tr>\n",
       "  </tbody>\n",
       "</table>\n",
       "</div>"
      ],
      "text/plain": [
       "        treatment  pc_exp_month_bl  pc_exp_month_el1  pc_exp_month_el2  \\\n",
       "count  978.000000       978.000000        811.000000        867.000000   \n",
       "mean     0.525562        40.736777         53.370648         64.676619   \n",
       "std      0.499602        24.262248         26.988393         30.107363   \n",
       "min      0.000000         0.000000          0.000000         10.096823   \n",
       "25%      0.000000        26.729768         36.124837         45.634702   \n",
       "50%      1.000000        35.147002         48.223540         59.005753   \n",
       "75%      1.000000        47.347288         63.695145         76.321313   \n",
       "max      1.000000       360.944400        244.986480        258.772160   \n",
       "\n",
       "       pc_exp_month_el3  \n",
       "count        864.000000  \n",
       "mean          76.508665  \n",
       "std           46.639090  \n",
       "min            3.035043  \n",
       "25%           47.405721  \n",
       "50%           66.135330  \n",
       "75%           94.596497  \n",
       "max          485.896970  "
      ]
     },
     "execution_count": 3,
     "metadata": {},
     "output_type": "execute_result"
    }
   ],
   "source": [
    "TUP_cash_transfers.describe()"
   ]
  },
  {
   "cell_type": "code",
   "execution_count": 4,
   "metadata": {},
   "outputs": [
    {
     "data": {
      "application/vnd.microsoft.datawrangler.viewer.v0+json": {
       "columns": [
        {
         "name": "index",
         "rawType": "object",
         "type": "string"
        },
        {
         "name": "treatment",
         "rawType": "float64",
         "type": "float"
        },
        {
         "name": "pc_exp_month_bl",
         "rawType": "float64",
         "type": "float"
        },
        {
         "name": "pc_exp_month_el1",
         "rawType": "float64",
         "type": "float"
        },
        {
         "name": "pc_exp_month_el2",
         "rawType": "float64",
         "type": "float"
        },
        {
         "name": "pc_exp_month_el3",
         "rawType": "float64",
         "type": "float"
        }
       ],
       "conversionMethod": "pd.DataFrame",
       "ref": "630699c3-1a40-4a8d-b324-31ff2d94b168",
       "rows": [
        [
         "count",
         "978.0",
         "978.0",
         "811.0",
         "867.0",
         "864.0"
        ],
        [
         "mean",
         "0.5255623721881391",
         "40.736776763087924",
         "53.37064809272503",
         "64.67661927047288",
         "76.50866464502316"
        ],
        [
         "std",
         "0.49960162296953536",
         "24.262248052211223",
         "26.988393210434186",
         "30.107362596087683",
         "46.63909044002053"
        ],
        [
         "min",
         "0.0",
         "0.0",
         "0.0",
         "10.096823",
         "3.0350432"
        ],
        [
         "25%",
         "0.0",
         "26.72976775",
         "36.1248365",
         "45.634702000000004",
         "47.4057205"
        ],
        [
         "50%",
         "1.0",
         "35.147002",
         "48.22354",
         "59.005753",
         "66.13533000000001"
        ],
        [
         "75%",
         "1.0",
         "47.3472875",
         "63.695145",
         "76.3213125",
         "94.5964975"
        ],
        [
         "max",
         "1.0",
         "360.9444",
         "244.98648",
         "258.77216",
         "485.89697"
        ]
       ],
       "shape": {
        "columns": 5,
        "rows": 8
       }
      },
      "text/html": [
       "<div>\n",
       "<style scoped>\n",
       "    .dataframe tbody tr th:only-of-type {\n",
       "        vertical-align: middle;\n",
       "    }\n",
       "\n",
       "    .dataframe tbody tr th {\n",
       "        vertical-align: top;\n",
       "    }\n",
       "\n",
       "    .dataframe thead th {\n",
       "        text-align: right;\n",
       "    }\n",
       "</style>\n",
       "<table border=\"1\" class=\"dataframe\">\n",
       "  <thead>\n",
       "    <tr style=\"text-align: right;\">\n",
       "      <th></th>\n",
       "      <th>treatment</th>\n",
       "      <th>pc_exp_month_bl</th>\n",
       "      <th>pc_exp_month_el1</th>\n",
       "      <th>pc_exp_month_el2</th>\n",
       "      <th>pc_exp_month_el3</th>\n",
       "    </tr>\n",
       "  </thead>\n",
       "  <tbody>\n",
       "    <tr>\n",
       "      <th>count</th>\n",
       "      <td>978.000000</td>\n",
       "      <td>978.000000</td>\n",
       "      <td>811.000000</td>\n",
       "      <td>867.000000</td>\n",
       "      <td>864.000000</td>\n",
       "    </tr>\n",
       "    <tr>\n",
       "      <th>mean</th>\n",
       "      <td>0.525562</td>\n",
       "      <td>40.736777</td>\n",
       "      <td>53.370648</td>\n",
       "      <td>64.676619</td>\n",
       "      <td>76.508665</td>\n",
       "    </tr>\n",
       "    <tr>\n",
       "      <th>std</th>\n",
       "      <td>0.499602</td>\n",
       "      <td>24.262248</td>\n",
       "      <td>26.988393</td>\n",
       "      <td>30.107363</td>\n",
       "      <td>46.639090</td>\n",
       "    </tr>\n",
       "    <tr>\n",
       "      <th>min</th>\n",
       "      <td>0.000000</td>\n",
       "      <td>0.000000</td>\n",
       "      <td>0.000000</td>\n",
       "      <td>10.096823</td>\n",
       "      <td>3.035043</td>\n",
       "    </tr>\n",
       "    <tr>\n",
       "      <th>25%</th>\n",
       "      <td>0.000000</td>\n",
       "      <td>26.729768</td>\n",
       "      <td>36.124837</td>\n",
       "      <td>45.634702</td>\n",
       "      <td>47.405721</td>\n",
       "    </tr>\n",
       "    <tr>\n",
       "      <th>50%</th>\n",
       "      <td>1.000000</td>\n",
       "      <td>35.147002</td>\n",
       "      <td>48.223540</td>\n",
       "      <td>59.005753</td>\n",
       "      <td>66.135330</td>\n",
       "    </tr>\n",
       "    <tr>\n",
       "      <th>75%</th>\n",
       "      <td>1.000000</td>\n",
       "      <td>47.347288</td>\n",
       "      <td>63.695145</td>\n",
       "      <td>76.321313</td>\n",
       "      <td>94.596497</td>\n",
       "    </tr>\n",
       "    <tr>\n",
       "      <th>max</th>\n",
       "      <td>1.000000</td>\n",
       "      <td>360.944400</td>\n",
       "      <td>244.986480</td>\n",
       "      <td>258.772160</td>\n",
       "      <td>485.896970</td>\n",
       "    </tr>\n",
       "  </tbody>\n",
       "</table>\n",
       "</div>"
      ],
      "text/plain": [
       "        treatment  pc_exp_month_bl  pc_exp_month_el1  pc_exp_month_el2  \\\n",
       "count  978.000000       978.000000        811.000000        867.000000   \n",
       "mean     0.525562        40.736777         53.370648         64.676619   \n",
       "std      0.499602        24.262248         26.988393         30.107363   \n",
       "min      0.000000         0.000000          0.000000         10.096823   \n",
       "25%      0.000000        26.729768         36.124837         45.634702   \n",
       "50%      1.000000        35.147002         48.223540         59.005753   \n",
       "75%      1.000000        47.347288         63.695145         76.321313   \n",
       "max      1.000000       360.944400        244.986480        258.772160   \n",
       "\n",
       "       pc_exp_month_el3  \n",
       "count        864.000000  \n",
       "mean          76.508665  \n",
       "std           46.639090  \n",
       "min            3.035043  \n",
       "25%           47.405721  \n",
       "50%           66.135330  \n",
       "75%           94.596497  \n",
       "max          485.896970  "
      ]
     },
     "execution_count": 4,
     "metadata": {},
     "output_type": "execute_result"
    }
   ],
   "source": [
    "TUP_cash_transfers.describe()"
   ]
  },
  {
   "cell_type": "markdown",
   "metadata": {},
   "source": [
    "### Exercise 2\n",
    "\n",
    "The first step in doing any power calculations is to establish an estimate of the baseline level of variation that exists in the dependent variable you wish to study. In this case, that variable is Per Capita Monthly Expenditures, and the baseline survey values of expenditures are in `pc_exp_month_bl` (the `_bl` stands for \"baseline\", meaning this data was collected prior to any households receiving asset transfers and indeed any households being assigned to treatment or control).\n",
    "\n",
    "What is the mean and standard deviation of `pc_exp_month_bl` in the baseline survey? Divide by 30 to confirm our average household has the expected per capita expenditure level of about US Dollar 1.35 (PPP) a day.\n",
    "\n",
    "You'll use these quantites a lot, so assign them to variables."
   ]
  },
  {
   "cell_type": "code",
   "execution_count": null,
   "metadata": {},
   "outputs": [
    {
     "name": "stdout",
     "output_type": "stream",
     "text": [
      "The mean of Per Capita Monthly Expenditures in the baseline survey is $40.74.\n",
      "The standard deviation of Per Capita Monthly Expenditures in the baseline survey is $24.26.\n",
      "Our average household has a per capita expenditure level of $1.36 a day.\n"
     ]
    }
   ],
   "source": [
    "mean_pc_exp_bl = TUP_cash_transfers[\"pc_exp_month_bl\"].mean()\n",
    "std_pc_exp_bl = TUP_cash_transfers[\"pc_exp_month_bl\"].std()\n",
    "mean_pc_exp_per_day = mean_pc_exp_bl / 30\n",
    "\n",
    "print(\n",
    "    f\"The mean of Per Capita Monthly Expenditures in the baseline survey is ${mean_pc_exp_bl:.2f}.\"\n",
    ")\n",
    "print(\n",
    "    f\"The standard deviation of Per Capita Monthly Expenditures in the baseline survey is ${std_pc_exp_bl:.2f}.\"\n",
    ")\n",
    "\n",
    "print(\n",
    "    f\"Our average household has a per capita expenditure level of ${mean_pc_exp_per_day:.2f} a day.\"\n",
    ")"
   ]
  },
  {
   "cell_type": "markdown",
   "metadata": {},
   "source": [
    "### Exercise 3\n",
    "\n",
    "For these exercises, we'll use the `power` module in `statsmodels`. [You can read about it here.](https://www.statsmodels.org/stable/stats.html#power-and-sample-size-calculations)\n",
    "\n",
    "Since we're comparing means in a continuous variable (expenditures) from two samples of households, we will use `TTestIndPower` in `statsmodels.stats.power`. Import this class and instantiate a new instance (for some reason this is class based, so you have to start of with a command like `my_power = TTestIndPower()`). \n",
    "\n",
    "Note that a common situation in data science is testing a difference in *proportions* between groups (e.g., across treatment arms). This situation arises when your dependent variable is binary, and so each group's mean is just the share of observations for whom the binary variable is 1. This comes up a lot with apps and websites — e.g., \"clicked an ad,\" \"subscribed,\" \"made a purchase.\" \n",
    "\n",
    "For that reason, there's actually a full sub-class of power calculating tools for [proportions you should be aware of.](https://www.statsmodels.org/stable/stats.html#proportion) Basically, because the standard deviation of a binary variable is just $\\sqrt{p * (1-p)}$, power calculations become really simple. For example, you may wish to identify the sample size required to get confidence intervals of a given size using a tool like [confint_proportions_2indep](https://www.statsmodels.org/stable/generated/statsmodels.stats.proportion.confint_proportions_2indep.html#statsmodels.stats.proportion.confint_proportions_2indep).\n",
    "\n",
    "But the most common use of a power test remains evaluating whether one can reject a null hypothesis of no effect, so we'll start with that here."
   ]
  },
  {
   "cell_type": "code",
   "execution_count": 8,
   "metadata": {},
   "outputs": [],
   "source": [
    "from statsmodels.stats.power import TTestIndPower\n",
    "\n",
    "my_power = TTestIndPower()"
   ]
  },
  {
   "cell_type": "markdown",
   "metadata": {},
   "source": [
    "### Exercise 4\n",
    "\n",
    "[TTestIndPower has three methods](https://www.statsmodels.org/stable/generated/statsmodels.stats.power.TTestIndPower.html#statsmodels.stats.power.TTestIndPower) — `plot_power`, `power`, and `solve_power` — but `solve_power` does everything `power` does, so there are basically two methods.\n",
    "\n",
    "The idea of `solve_power` is that you give it all but one parameter of a power calculation — minimum detectable effect, number of observations, power, and p-value $\\alpha$ threshold — and it will solve for the omitted variable.\n",
    "\n",
    "To get a quick flavor for how this works, set: \n",
    "\n",
    "- Minimal Detectable Effect (`effect_size`) to `0.5` (we'll take about the units of that argument soon), \n",
    "- `alpha` to `0.05`, \n",
    "- `ratio` to `1` (this is the ratio of between the number of observations being treated and the number in control — in this study, the target was to have these be equal, as that provides the best statistical power for a given total number of observations).\n",
    "- `power` to `0.8`\n",
    "- `alternative` to `two-sided` (we want to do a two-tailed t-test, as you could imagine social unrest caused by transfers could make people worse off).\n",
    "- `nobs1` to `None`. By passing `None`, we're telling `solve_power` this is the quantity we want it to solve for.\n",
    "\n",
    "So in other words, we're asking:\n",
    "\n",
    "- how many observations do we need to have in the treatment arm,\n",
    "- assuming we'll have the same number also in the control arm,\n",
    "- to have an 80% chance\n",
    "- of rejecting the null hypothesis of no-effect at a significance threshold of 0.05\n",
    "- if the true effect is of size 0.5?\n",
    "\n",
    "What's the answer?"
   ]
  },
  {
   "cell_type": "code",
   "execution_count": 12,
   "metadata": {},
   "outputs": [
    {
     "name": "stdout",
     "output_type": "stream",
     "text": [
      "The required sample size to achieve an 80% probability of detecting an effect, assuming equal sample sizes in both treatment control arms, and a significance threshold of 0.05, given an effect size of 0.5, is approximately 64.\n"
     ]
    }
   ],
   "source": [
    "nobs1_required = my_power.solve_power(\n",
    "    effect_size=0.5, alpha=0.05, power=0.8, ratio=1, alternative=\"two-sided\", nobs1=None\n",
    ")\n",
    "\n",
    "print(\n",
    "    f\"The required sample size to achieve an 80% probability of detecting an effect, assuming equal sample sizes in both treatment control arms, and a significance threshold of 0.05, given an effect size of 0.5, is approximately {round(nobs1_required)}.\",\n",
    ")"
   ]
  },
  {
   "cell_type": "markdown",
   "metadata": {},
   "source": [
    "### Exercise 5\n",
    "\n",
    "Of all these quantities, perhaps the most obscure is the Minimal Detectable Effect (`effect_size`). What is this 0.5? Where did it come from? And how did you do all that without telling it that standard deviation you had me calculate?\n",
    "\n",
    "If you check the docs for `solve_power`, you'll see that you're supposed to pass `effect_size` the \"standardized effect size, difference between the two means divided by the standard deviation. `effect_size` has to be positive.\"\n",
    "\n",
    "In other words, when we passed 0.5, we weren't saying we wanted to be able to detect an effect of 0.5 2018 US Dollars (PPP) per capita per month, we were saying we wanted to detect an effect of 1/2 standard deviation. \n",
    "\n",
    "Given the standard deviation in our baseline survey was about 24 Dollars, that means we were saying we wanted to detect an effect size of about 12 US Dollars. \n",
    "\n",
    "Is that a lot? Well, the average per capita monthly expenditures in the baseline survey was about 41 Dollars, so it's an increase in expenditures of about 25%. \n",
    "\n",
    "OK, but is that what we should use?\n",
    "\n",
    "Well, the idea of a Minimal Detectable Effect is that you want to set it at a level where (a) if this *was* the real effect when you rejected the null, you'd be happy you did the experiment and, presumably, would be comfortable scaling up the treatment, but also (b) if the true effect were any smaller, you wouldn't want to reject the null hypothesis and scale up the treatment.\n",
    "\n",
    "Basically, if you set this too high, you may run an under-powered experiment where you miss out on learning that your treatment was effective; if you set this too low, you're spending time and money collecting more data than is probably necessary given you might reject the null at a point estimate where you still wouldn't scale up the treatment.\n",
    "\n",
    "So what value makes sense here? That's a question you'd want to start off by asking the stakeholders. Since Bandhan wants to use this to promote cash transfers, they probably need the effect to be relatively large to be convincing. Let's assume that, three years after the intervention, they feel they need to show that incomes have increased by at least 30%. \n",
    "\n",
    "What value does that imply should be passed to `effect_size`? What is the new implied number of treated households they'll need? How many households total?"
   ]
  },
  {
   "cell_type": "code",
   "execution_count": 13,
   "metadata": {},
   "outputs": [
    {
     "name": "stdout",
     "output_type": "stream",
     "text": [
      "The minimal detectable standardized effect size, based on a 30% increase of the mean per capita expenditure, is 0.504.\n"
     ]
    }
   ],
   "source": [
    "effect_size_30 = mean_pc_exp_bl * 0.3 / std_pc_exp_bl\n",
    "\n",
    "print(\n",
    "    f\"The minimal detectable standardized effect size, based on a 30% increase of the mean per capita expenditure, is {effect_size_30:.3f}.\"\n",
    ")"
   ]
  },
  {
   "cell_type": "code",
   "execution_count": 14,
   "metadata": {},
   "outputs": [
    {
     "name": "stdout",
     "output_type": "stream",
     "text": [
      "The new implied number of treated households they'll need, based on a 30% increase in the mean per capita expenditure, is 63.\n",
      "The total number of households, given a ratio of 1 between the number of observations being treated and the number in control, is 126.\n"
     ]
    }
   ],
   "source": [
    "nobs1_required_30 = my_power.solve_power(\n",
    "    effect_size=effect_size_30,\n",
    "    alpha=0.05,\n",
    "    power=0.8,\n",
    "    ratio=1,\n",
    "    alternative=\"two-sided\",\n",
    "    nobs1=None,\n",
    ")\n",
    "print(\n",
    "    f\"The new implied number of treated households they'll need, based on a 30% increase in the mean per capita expenditure, is {nobs1_required_30:.0f}.\"\n",
    ")\n",
    "print(\n",
    "    f\"The total number of households, given a ratio of 1 between the number of observations being treated and the number in control, is {2*nobs1_required_30:.0f}.\"\n",
    ")"
   ]
  },
  {
   "cell_type": "markdown",
   "metadata": {},
   "source": [
    "### Exercise 6\n",
    "\n",
    "Let's also suppose that because Bandhan really wants to sell their result, they also want to ensure no one claims it might have arisen by chance. What parameter would you adjust, and in what direction? Try modifying it and get a new observation requirement (can you predict what the change in num of observations will be before you do it?)."
   ]
  },
  {
   "cell_type": "markdown",
   "metadata": {},
   "source": [
    ">In order to ensure that no one claims the results might have arisen by chance, we should modify the alpha or significance level, which is the predetermined threshold for determining whether a result is statistically significant or not.\n",
    ">\n",
    ">We should decrease the significance level. In doing so, we will reduce the likelihood of observing a significant result by chance. This adjustment is crucial for bolstering the credibility of the study findings and ensuring their robustness and reliability.\n",
    ">\n",
    ">Let's suppose we reduce alpha from 0.05 to 0.01. Then, the number of required observations should increase. This is because by decreasing the significance level, we are becoming stricter in accepting results as statistically significant. Therefore, a larger sample will be needed to detect similar effects with a higher level of confidence."
   ]
  },
  {
   "cell_type": "code",
   "execution_count": 15,
   "metadata": {},
   "outputs": [
    {
     "name": "stdout",
     "output_type": "stream",
     "text": [
      "The number of observations required with alpha = 0.01 is 94.\n",
      "The difference in the number of observations required when changing from alpha = 0.05 to alpha = 0.01 is 31.\n"
     ]
    }
   ],
   "source": [
    "nobs1_required_alpha_001 = my_power.solve_power(\n",
    "    effect_size=effect_size_30,\n",
    "    alpha=0.01,\n",
    "    power=0.8,\n",
    "    ratio=1,\n",
    "    alternative=\"two-sided\",\n",
    "    nobs1=None,\n",
    ")\n",
    "\n",
    "print(\n",
    "    f\"The number of observations required with alpha = 0.01 is {nobs1_required_alpha_001:.0f}.\"\n",
    ")\n",
    "print(\n",
    "    f\"The difference in the number of observations required when changing from alpha = 0.05 to alpha = 0.01 is {(nobs1_required_alpha_001 - nobs1_required_30):.0f}.\"\n",
    ")"
   ]
  },
  {
   "cell_type": "markdown",
   "metadata": {},
   "source": [
    ">If we use an alpha of 0.01, and considering that we have a ratio of 1 between the number of observations being treated and the number in control, we would need a total of 94*2 = 188 observations (instead of the 126 needed with an alpha of 0.05)."
   ]
  },
  {
   "cell_type": "markdown",
   "metadata": {},
   "source": [
    "### Exercise 7\n",
    "\n",
    "Now suppose that your stakeholder is budget constrained to only being able to enroll a total of 100 (50 in each arm). Assuming an alpha of `0.05` and a power of `0.8`, what is their minimal detectable effect size (in dollars)?"
   ]
  },
  {
   "cell_type": "code",
   "execution_count": 17,
   "metadata": {},
   "outputs": [
    {
     "name": "stdout",
     "output_type": "stream",
     "text": [
      "Given our stakeholder's budget constraint of enrolling only a total of 100 participants, with an alpha of 0.05 and a power of 0.8, the minimal detectable effect size in dollars is $13.73.\n"
     ]
    }
   ],
   "source": [
    "effect_size_nobs1_50 = my_power.solve_power(\n",
    "    effect_size=None, alpha=0.05, power=0.8, ratio=1, alternative=\"two-sided\", nobs1=50\n",
    ")\n",
    "min_detectable_effect_in_dollars = effect_size_nobs1_50 * std_pc_exp_bl\n",
    "\n",
    "print(\n",
    "    f\"Given our stakeholder's budget constraint of enrolling only a total of 100 participants, with an alpha of 0.05 and a power of 0.8, the minimal detectable effect size in dollars is ${min_detectable_effect_in_dollars:.2f}.\"\n",
    ")"
   ]
  },
  {
   "cell_type": "markdown",
   "metadata": {},
   "source": [
    "### Exercise 8\n",
    "\n",
    "Suppose your stakeholder wants to see a few different scenarios to see how different experiment sizes would impact power given different effect sizes. Let's use `plot_power`. Pass it an array of treatment arm observation counts you want evaluated (I'd recommend `np.arange()`) between 20 and 100, along with effect sizes of 0.2, 0.4, and 0.6 (again, use `np.arange()`).\n",
    "\n",
    "If the stakeholder decided they wanted power above 90% — they're only gonna get a chance to do this once, after all! — what kind of sample size would they need with a minimal detectable effect size of 0.6? (Approximately).\n",
    "\n",
    "You may need to check the docs to figure out how to use it."
   ]
  },
  {
   "cell_type": "code",
   "execution_count": null,
   "metadata": {},
   "outputs": [
    {
     "data": {
      "image/png": "[encoded data removed]",
      "text/plain": [
       "<Figure size 640x480 with 1 Axes>"
      ]
     },
     "metadata": {},
     "output_type": "display_data"
    }
   ],
   "source": [
    "import matplotlib.pyplot as plt\n",
    "\n",
    "nobs_range = np.arange(20, 100, 5)\n",
    "power = 0.9\n",
    "alpha = 0.05\n",
    "effect_sizes = np.arange(0.2, 0.7, 0.2)\n",
    "\n",
    "\n",
    "fig = TTestIndPower().plot_power(\n",
    "    dep_var=\"nobs\",\n",
    "    nobs=nobs_range,\n",
    "    effect_size=effect_sizes,\n",
    "    alpha=alpha,\n",
    "    title=\"Power vs. Number of Observations in the\\nTreatment Arm for Different Effect Sizes\\n\",\n",
    ")\n",
    "plt.axhline(y=power, color=\"r\", linestyle=\"--\", label=f\"Desired Power ({power})\")\n",
    "plt.ylabel(\"Power\")\n",
    "plt.legend()\n",
    "plt.xlabel(\"Number of observations in the treatment arm\")\n",
    "plt.show()"
   ]
  },
  {
   "cell_type": "markdown",
   "metadata": {},
   "source": [
    ">In the previous graph, we observed the relationship between power, our effect size, and the experiment size. It's evident that power positively correlates with effect size, while holding the other variables constant. Similarly, power also positively correlates with experiment size under constant conditions. This suggests that larger effect sizes and experiment sizes generally lead to higher power, assuming other factors remain unchanged.\n",
    ">\n",
    ">If the stakeholder decides they want power above 90% and a minimal detectable effect size of 0.6, they would need a number of observations in the treatment arm of approximately 60.\n",
    ">\n",
    ">This would require a total of observations of around 60 * 2 = 120."
   ]
  },
  {
   "cell_type": "markdown",
   "metadata": {},
   "source": [
    "## Extra Credit Extension"
   ]
  },
  {
   "cell_type": "markdown",
   "metadata": {},
   "source": [
    "### Exercise 9\n",
    "\n",
    "As noted above, this study actually was conducted, so we know the actual treatment effect. Calculate that treatment effect 3 years after these families first received asset transfers by calculating the difference in `pc_exp_month_el2` between the `treatment == 1` and `treatment == 0` groups.\n"
   ]
  },
  {
   "cell_type": "code",
   "execution_count": 21,
   "metadata": {},
   "outputs": [
    {
     "name": "stdout",
     "output_type": "stream",
     "text": [
      "The average Per Capita Monthly Expenditures, observed three years after these families initially received asset transfers, was $67.55 for the treatment group and $61.40 for the control group, indicating a difference of $6.15 between them.\n"
     ]
    }
   ],
   "source": [
    "mean_pc_exp_month_el2_t = TUP_cash_transfers[TUP_cash_transfers[\"treatment\"] == 1][\n",
    "    \"pc_exp_month_el2\"\n",
    "].mean()\n",
    "\n",
    "mean_pc_exp_month_el2_c = TUP_cash_transfers[TUP_cash_transfers[\"treatment\"] == 0][\n",
    "    \"pc_exp_month_el2\"\n",
    "].mean()\n",
    "\n",
    "mean_diff_pc_exp_month_el2 = mean_pc_exp_month_el2_t - mean_pc_exp_month_el2_c\n",
    "\n",
    "print(\n",
    "    f\"The average Per Capita Monthly Expenditures, observed three years after these families initially received asset transfers, was ${mean_pc_exp_month_el2_t:.2f} for the treatment group and ${mean_pc_exp_month_el2_c:.2f} for the control group, indicating a difference of ${mean_diff_pc_exp_month_el2:.2f} between them.\"\n",
    ")"
   ]
  },
  {
   "cell_type": "markdown",
   "metadata": {},
   "source": [
    "### Exercise 10\n",
    "\n",
    "What was the statistical power of the actual test? That is, what was the probability, given this effect size and the number of observations in the study, that they would reject the null hypothesis of no effect at alpha=0.05 and given the actual final sample sizes?"
   ]
  },
  {
   "cell_type": "markdown",
   "metadata": {},
   "source": [
    ">First, let's calculate the number of observations in each arm. It's important to note that, for the variable of interest pc_exp_month_el2, we have several records with null values, but we will only consider the count of records for which we have information available."
   ]
  },
  {
   "cell_type": "code",
   "execution_count": null,
   "metadata": {},
   "outputs": [
    {
     "name": "stdout",
     "output_type": "stream",
     "text": [
      "Number of observations in treated group is 462.\n",
      "Number of observations in control group is 405.\n"
     ]
    }
   ],
   "source": [
    "nobs1_actual_test = TUP_cash_transfers[\n",
    "    (TUP_cash_transfers[\"treatment\"] == 1)\n",
    "    & (TUP_cash_transfers[\"pc_exp_month_el2\"].notnull())\n",
    "].shape[0]\n",
    "\n",
    "\n",
    "nobs2_actual_test = TUP_cash_transfers[\n",
    "    (TUP_cash_transfers[\"treatment\"] == 0)\n",
    "    & (TUP_cash_transfers[\"pc_exp_month_el2\"].notnull())\n",
    "].shape[0]\n",
    "\n",
    "print(f\"Number of observations in treated group is {nobs1_actual_test}.\")\n",
    "print(f\"Number of observations in control group is {nobs2_actual_test}.\")"
   ]
  },
  {
   "cell_type": "markdown",
   "metadata": {},
   "source": [
    ">Afterwards, we can proceed to calculate the pooled standard deviation, which we will need to compute the standardized effect size."
   ]
  },
  {
   "cell_type": "code",
   "execution_count": null,
   "metadata": {},
   "outputs": [
    {
     "name": "stdout",
     "output_type": "stream",
     "text": [
      "For the treatment group, the standard deviation of Per Capita Monthly Expenditures observed 3 years after asset transfers is $31.19.\n",
      "For the control group, the standard deviation of Per Capita Monthly Expenditures observed 3 years after asset transfers is $28.50.\n"
     ]
    }
   ],
   "source": [
    "std_pc_exp_month_el2_t = (\n",
    "    TUP_cash_transfers[TUP_cash_transfers[\"treatment\"] == 1][\"pc_exp_month_el2\"]\n",
    "    .dropna()\n",
    "    .std()\n",
    ")\n",
    "\n",
    "std_pc_exp_month_el2_c = (\n",
    "    TUP_cash_transfers[TUP_cash_transfers[\"treatment\"] == 0][\"pc_exp_month_el2\"]\n",
    "    .dropna()\n",
    "    .std()\n",
    ")\n",
    "\n",
    "print(\n",
    "    \"For the treatment group, the standard deviation of Per Capita Monthly Expenditures observed 3 years after asset transfers is ${:.2f}.\".format(\n",
    "        std_pc_exp_month_el2_t\n",
    "    )\n",
    ")\n",
    "print(\n",
    "    \"For the control group, the standard deviation of Per Capita Monthly Expenditures observed 3 years after asset transfers is ${:.2f}.\".format(\n",
    "        std_pc_exp_month_el2_c\n",
    "    )\n",
    ")"
   ]
  },
  {
   "cell_type": "code",
   "execution_count": null,
   "metadata": {},
   "outputs": [
    {
     "name": "stdout",
     "output_type": "stream",
     "text": [
      "The pooled standard deviation of Per Capita Monthly Expenditures 3 years after receiving asset transfers is $29.97\n",
      "The standardized effect size of the actual test is 0.21\n"
     ]
    }
   ],
   "source": [
    "std_pc_exp_month_el2_pooled = np.sqrt(\n",
    "    (\n",
    "        (nobs1_actual_test - 1) * std_pc_exp_month_el2_t**2\n",
    "        + (nobs2_actual_test - 1) * std_pc_exp_month_el2_c**2\n",
    "    )\n",
    "    / (nobs1_actual_test + nobs2_actual_test - 2)\n",
    ")\n",
    "\n",
    "effect_size_actual_test = mean_diff_pc_exp_month_el2 / std_pc_exp_month_el2_pooled\n",
    "\n",
    "\n",
    "print(\n",
    "    f\"The pooled standard deviation of Per Capita Monthly Expenditures 3 years after receiving asset transfers is ${std_pc_exp_month_el2_pooled:.2f}\"\n",
    ")\n",
    "\n",
    "print(\n",
    "    f\"The standardized effect size of the actual test is {effect_size_actual_test:.2f}\"\n",
    ")"
   ]
  },
  {
   "cell_type": "markdown",
   "metadata": {},
   "source": [
    ">Finally, we can calculate the statistical power of the actual test."
   ]
  },
  {
   "cell_type": "code",
   "execution_count": 31,
   "metadata": {},
   "outputs": [
    {
     "name": "stdout",
     "output_type": "stream",
     "text": [
      "The statistical power of the actual test, representing the probability of rejecting the null hypothesis of no effect at alpha=0.05, given the effect size and the number of observations in the study, was 0.8958.\n"
     ]
    }
   ],
   "source": [
    "power_actual_test = my_power.solve_power(\n",
    "    effect_size=effect_size_actual_test,\n",
    "    alpha=0.05,\n",
    "    power=None,\n",
    "    ratio=nobs1_actual_test / nobs2_actual_test,\n",
    "    alternative=\"two-sided\",\n",
    "    nobs1=nobs1_actual_test,\n",
    ")\n",
    "\n",
    "print(\n",
    "    f\"The statistical power of the actual test, representing the probability of rejecting the null hypothesis of no effect at alpha=0.05, given the effect size and the number of observations in the study, was {power_actual_test:.4f}.\"\n",
    ")"
   ]
  },
  {
   "cell_type": "markdown",
   "metadata": {},
   "source": [
    "### Exercise 11\n",
    "\n",
    "What would the power be if Bandhan had only enrolled 200 households per arm? \n"
   ]
  },
  {
   "cell_type": "markdown",
   "metadata": {},
   "source": [
    ">Let's assume that with those 200 households per arm, the standardized effect size remains constant."
   ]
  },
  {
   "cell_type": "code",
   "execution_count": 32,
   "metadata": {},
   "outputs": [
    {
     "name": "stdout",
     "output_type": "stream",
     "text": [
      "If Bandhan had only enrolled 200 households per arm, the statistical power would be 0.535.\n"
     ]
    }
   ],
   "source": [
    "power_200_households = my_power.solve_power(\n",
    "    effect_size=effect_size_actual_test,\n",
    "    alpha=0.05,\n",
    "    power=None,\n",
    "    ratio=200 / 200,\n",
    "    alternative=\"two-sided\",\n",
    "    nobs1=200,\n",
    ")\n",
    "\n",
    "print(\n",
    "    f\"If Bandhan had only enrolled 200 households per arm, the statistical power would be {power_200_households:.3f}.\"\n",
    ")"
   ]
  },
  {
   "cell_type": "markdown",
   "metadata": {},
   "source": [
    "### Exercise 13\n",
    "\n",
    "The idea of the \"power\" of a test is that, when we draw a sample from a population, there's some variation in who happens to end up in that sample. Consequently, even if the *true* effect size in the population is equal to our Minimal Detectable Effect, there's some probability that when we compare treated and untreated outcomes for the $N$ people who actually end up in the study, that Minimal Detectable Effect may not be evident in that sample (at the level of statistical significance $\\alpha$ we have chosen).\n",
    "\n",
    "Given that, one way to think of power is: \"If the true effect in the population is our Minimal Detectable Effect, then if I were able to re-run this experiment over and over — drawing new people into the study and testing the difference in outcomes between the control and treated sample each time — then in what percentage of those instances of the experiment would I reject the null hypothesis of no effect?\" Power of 80% means that we'd expect to reject the null of no effect in 80% of those many experiments.\n",
    "\n",
    "Well, we can basically do that thought experiment with this data! \n",
    "\n",
    "To do the experiment you did the power calculations for in Exercise 11, we just need to sample 200 observations from the treated group and 200 from the control group, treat that as our experimental sample, and estimate the difference in per capita month expenditures between those two groups (along with the associated p-value).\n",
    "\n",
    "Then we can repeat that over and over to simulate \"re-running\" the experiment, each time drawing a new sample of 200 treated observations and 200 control observations. Then we can store the p-values from all these \"re-run\" experiments and see how often we reject the null of no effect!\n",
    "\n",
    "Note that when you do this experiment, we have to sample our 200 observations from each treatment arm *with replacement*, just as you would when bootstrapping (if that means anything to you — if it doesn't, don't worry about it). \n",
    "\n",
    "So: write a loop where, on each pass, you draw 200 observations (with replacement) from treatment and 200 from control, then calculate the treatment effect and p-value for that sample. Repeat this 10,000 times. \n",
    "\n",
    "In what share of cases would you reject the null of no effect at alpha = 0.05?"
   ]
  },
  {
   "cell_type": "code",
   "execution_count": null,
   "metadata": {},
   "outputs": [
    {
     "name": "stdout",
     "output_type": "stream",
     "text": [
      "Percentage of cases rejecting the null hypothesis: 0.5399\n"
     ]
    }
   ],
   "source": [
    "num_iterations = 10000\n",
    "p_values = []\n",
    "\n",
    "treatment_group = TUP_cash_transfers[\n",
    "    (TUP_cash_transfers[\"treatment\"] == 1)\n",
    "    & (TUP_cash_transfers[\"pc_exp_month_el2\"].notnull())\n",
    "][\"pc_exp_month_el2\"]\n",
    "\n",
    "control_group = TUP_cash_transfers[\n",
    "    (TUP_cash_transfers[\"treatment\"] == 0)\n",
    "    & (TUP_cash_transfers[\"pc_exp_month_el2\"].notnull())\n",
    "][\"pc_exp_month_el2\"]\n",
    "\n",
    "for i in range(num_iterations):\n",
    "    sampled_treatment = np.random.choice(treatment_group, size=200, replace=True)\n",
    "    sampled_control = np.random.choice(control_group, size=200, replace=True)\n",
    "\n",
    "    _, p_value = ttest_ind(sampled_treatment, sampled_control)\n",
    "    p_values.append(p_value)\n",
    "\n",
    "reject_null_percentage = np.mean(np.array(p_values) < 0.05)\n",
    "\n",
    "print(\"Percentage of cases rejecting the null hypothesis:\", reject_null_percentage)"
   ]
  },
  {
   "cell_type": "markdown",
   "metadata": {},
   "source": [
    ">Performing the sampling experiment 10,000 times, using a sample of 200 per arm, we can confirm the statistical power we obtained in the previous exercise, which was approximately 0.54.\n",
    ">\n",
    ">We observe that in a little over half of the cases, we obtain a result in which we reject the null hypothesis, considering a significance level of 0.05."
   ]
  },
  {
   "cell_type": "markdown",
   "metadata": {},
   "source": [
    "### Exercise 14\n",
    "\n",
    "Repeat 12 and 13 with 300 observations per arm."
   ]
  },
  {
   "cell_type": "code",
   "execution_count": 34,
   "metadata": {},
   "outputs": [
    {
     "name": "stdout",
     "output_type": "stream",
     "text": [
      "If Bandhan had enrolled 300 households per arm, the statistical power would be 0.709.\n"
     ]
    }
   ],
   "source": [
    "power_300_households = my_power.solve_power(\n",
    "    effect_size=effect_size_actual_test,\n",
    "    alpha=0.05,\n",
    "    power=None,\n",
    "    ratio=300 / 300,\n",
    "    alternative=\"two-sided\",\n",
    "    nobs1=300,\n",
    ")\n",
    "\n",
    "print(\n",
    "    f\"If Bandhan had enrolled 300 households per arm, the statistical power would be {power_300_households:.3f}.\"\n",
    ")"
   ]
  },
  {
   "cell_type": "code",
   "execution_count": null,
   "metadata": {},
   "outputs": [
    {
     "name": "stdout",
     "output_type": "stream",
     "text": [
      "Percentage of cases rejecting the null hypothesis 0.7152.\n"
     ]
    }
   ],
   "source": [
    "num_iterations = 10000\n",
    "p_values_300 = []\n",
    "\n",
    "for i in range(num_iterations):\n",
    "    sampled_treatment = np.random.choice(treatment_group, size=300, replace=True)\n",
    "    sampled_control = np.random.choice(control_group, size=300, replace=True)\n",
    "\n",
    "    _, p_value = ttest_ind(sampled_treatment, sampled_control)\n",
    "    p_values_300.append(p_value)\n",
    "\n",
    "reject_null_percentage_300 = np.mean(np.array(p_values_300) < 0.05)\n",
    "\n",
    "print(\n",
    "    f\"Percentage of cases rejecting the null hypothesis {reject_null_percentage_300}.\"\n",
    ")"
   ]
  },
  {
   "cell_type": "markdown",
   "metadata": {},
   "source": [
    ">We can observe that with 300 households per arm, our statistical power increases to approximately 0.71. This result is consistent across both calculation methods."
   ]
  },
  {
   "cell_type": "markdown",
   "metadata": {},
   "source": [
    "### Exercise 15\n",
    "\n",
    "What did you learn from Exercises 9-14?"
   ]
  },
  {
   "cell_type": "markdown",
   "metadata": {},
   "source": [
    ">In general, we learned the critical importance of choosing the right parameters when designing an experiment. One key aspect to consider is the balance between seeking higher statistical power and the associated costs of the experiment. Higher statistical power increases the likelihood of detecting a real effect if one exists, but this may require a greater number of participants or resources, which in turn can increase the costs and complexity of the study.\n",
    ">\n",
    ">Additionally, it's essential to find the right balance when selecting a Minimal Detectable Effect. On one hand, a too-small MDE can make it difficult to distinguish a significant difference between groups, potentially leading to erroneous conclusions about the effectiveness of an intervention. On the other hand, a too-large MDE can result in a loss of sensitivity, meaning the experiment may not be sensitive enough to detect differences that could be important in practice.\n",
    ">\n",
    ">In the specific case of the previous experiment, we observed how the sample size influenced statistical power. If we had opted for a smaller number of samples, it's likely that the statistical power would have been insufficient to detect significant differences between the treated and control groups."
   ]
  },
  {
   "cell_type": "markdown",
   "metadata": {},
   "source": [
    "## Footnotes\n",
    "\n",
    "1. The poorest households were identified in two steps. First, residents across 120 village hamlets ranked households into five wealth quintiles. Among households ranked in the bottom quintile, Bandhan then verified eligibility per seven criteria: (i) presence of an able-bodied female member (to manage the asset), (ii) no credit access, (iii) landholding below 0.2 acres, (iv) no ownership of productive assets, (v) no able-bodied male member, (vi) presence of school-aged children who were working instead of attending school, and (vii) primary source of income being informal labor or begging. Households had to meet the first two criteria and at least three of the remaining five in order to be eligible for the TUP intervention.\n",
    "2. The [ethics of randomization in these types of programs](https://www.povertyactionlab.org/resource/ethical-conduct-randomized-evaluations) is subject of a rich literature, and there are currently an extensive set of guidelines used by researchers developing these types of programs.\n",
    "3. Of the 514 offered the livestock and cash transfers, only 266 accepted. The treatment estimates that follow are thus estimates of the effect of *offering* these transfers. Households that accepted the offers might differ systematically from those that do not, so the study simply compares those *offered* the transfer to those who did not). This is what's called an estimate of the \"intention to treat\" effect, and is thus *likely* an under-estimate of the effect of cash transfers that would be observed if uptake were greater."
   ]
  }
 ],
 "metadata": {
  "kernelspec": {
   "display_name": "base",
   "language": "python",
   "name": "python3"
  },
  "language_info": {
   "codemirror_mode": {
    "name": "ipython",
    "version": 3
   },
   "file_extension": ".py",
   "mimetype": "text/x-python",
   "name": "python",
   "nbconvert_exporter": "python",
   "pygments_lexer": "ipython3",
   "version": "3.12.7"
  }
 },
 "nbformat": 4,
 "nbformat_minor": 4
}
